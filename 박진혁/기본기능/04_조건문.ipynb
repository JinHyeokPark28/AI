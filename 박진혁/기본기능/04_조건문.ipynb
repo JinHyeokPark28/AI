{
 "cells": [
  {
   "cell_type": "markdown",
   "metadata": {},
   "source": [
    "# 조건문\n",
    "- 조건이 충족해야 한다.\n",
    "- 조건이 충족하면 이하의 코드를 실행시킨다.\n",
    "- 분기문"
   ]
  },
  {
   "cell_type": "code",
   "execution_count": 5,
   "metadata": {},
   "outputs": [
    {
     "name": "stdout",
     "output_type": "stream",
     "text": [
      "19\n",
      "성인이 아닙니다.\n"
     ]
    }
   ],
   "source": [
    "age = int(input())\n",
    "# 조건문의 모양\n",
    "# if 조건식:\n",
    "    # 코드 실행\n",
    "if age >= 20:\n",
    "    print(\"성인입니다.\")\n",
    "else:\n",
    "    print(\"성인이 아닙니다.\")"
   ]
  },
  {
   "cell_type": "code",
   "execution_count": 7,
   "metadata": {},
   "outputs": [
    {
     "name": "stdout",
     "output_type": "stream",
     "text": [
      "11\n",
      "가족과 나눠먹을 수 있겠다.\n"
     ]
    }
   ],
   "source": [
    "# 캔디를 입력받고\n",
    "# 캔디가 10개 초과하면 가족과 나눠먹을 수 있다.\n",
    "# 캔디가 10개 미만이면 혼자 먹을 수 있다.라고 출력하기\n",
    "candy = int(input())\n",
    "if candy > 10:\n",
    "    print(\"가족과 나눠먹을 수 있겠다.\")\n",
    "else:\n",
    "    print(\"혼자 먹을 수 있겠다.\")"
   ]
  },
  {
   "cell_type": "code",
   "execution_count": 5,
   "metadata": {},
   "outputs": [
    {
     "name": "stdout",
     "output_type": "stream",
     "text": [
      "캔디가 20개 있습니다.\n",
      "역시 캔디는 숨겨놓고 먹어야 맛있습니다.\n"
     ]
    }
   ],
   "source": [
    "# 조건식의 조건\n",
    "# 조건식에 충족해야 되는 최소 조건\n",
    "# 연산자와 피연산자간의 어떠한 조건을 항상 충족을 해줘야 한다.\n",
    "# 연산자는 왼쪽에 위치, 피연산자는 오른쪽 위치\n",
    "# 그 사이에는 논리연산자, 관계연산자가 들어가게 됩니다.\n",
    "# 이것을 통해서 서로가 조건이 충족이 되어야만 조건식의 조건으로서\n",
    "# 사용이 가능합니다.\n",
    "\n",
    "candy = 20\n",
    "if candy == 20:\n",
    "    print(\"캔디가 20개 있습니다.\")\n",
    "    if candy >= 10:\n",
    "        print(\"역시 캔디는 숨겨놓고 먹어야 맛있습니다.\")\n",
    "else:\n",
    "    print(\"그 많던 캔디가 어딨을까요?\")\n",
    "\n"
   ]
  },
  {
   "cell_type": "code",
   "execution_count": 7,
   "metadata": {},
   "outputs": [
    {
     "name": "stdout",
     "output_type": "stream",
     "text": [
      "캔디를 나눠먹습니다.\n"
     ]
    }
   ],
   "source": [
    "# 키워드를 사용합니다.\n",
    "# 소고기 and 닭고기\n",
    "# and : and를 기준으로 양옆의 조건이 둘다 만족해야 True를 반환해서\n",
    "# 아래의 코드를 실행시킵니다.\n",
    "candy = 19\n",
    "if candy == 20 and candy > 10:\n",
    "    print(\"캔디는 역시 숨겨놓고 먹어야 맛있습니다.\")\n",
    "else:\n",
    "    print(\"캔디를 나눠먹습니다.\")"
   ]
  },
  {
   "cell_type": "code",
   "execution_count": 11,
   "metadata": {},
   "outputs": [
    {
     "name": "stdout",
     "output_type": "stream",
     "text": [
      "캔디는 역시 숨겨놓고 먹어야 맛있습니다.\n"
     ]
    }
   ],
   "source": [
    "# or\n",
    "# or : or을 기준으로 양옆의 조건이 둘중에 하나라도 만족한다면 True를 반환해서\n",
    "# 아래의 코드를 실행시킵니다.\n",
    "candy = 20\n",
    "if candy == 20 or candy > 10:\n",
    "    print(\"캔디는 역시 숨겨놓고 먹어야 맛있습니다.\")\n",
    "else:\n",
    "    print(\"캔디를 나눠먹습니다.\")\n",
    "    "
   ]
  },
  {
   "cell_type": "code",
   "execution_count": 12,
   "metadata": {},
   "outputs": [
    {
     "name": "stdout",
     "output_type": "stream",
     "text": [
      "캔디가 없네..\n"
     ]
    }
   ],
   "source": [
    "# 다중조건!\n",
    "# 다중조건은 if 와 else 사이에 존재하는 else if 라는 것이며\n",
    "# else if라고 적지 않고 elif라고 적습니다.\n",
    "# 만일 elif만 단독으로 사용할 시 에러가 발생됩니다.\n",
    "# if문이 우선적으로 존재해야 하며 그 이후 elif를 붙이거나 else를 붙여서\n",
    "# 사용합니다.\n",
    "if candy >= 32:\n",
    "    print(\"캔디가 32 ㅇㅇ\")\n",
    "elif candy >= 22:\n",
    "    print(\"캔디가 32보다 작고 22 ㅇㅇ\")\n",
    "else:\n",
    "    print(\"캔디가 없네..\")"
   ]
  },
  {
   "cell_type": "code",
   "execution_count": 14,
   "metadata": {},
   "outputs": [
    {
     "name": "stdout",
     "output_type": "stream",
     "text": [
      "120000\n",
      "고급 레스토랑에서 식사\n"
     ]
    }
   ],
   "source": [
    "# 내 지갑에 돈이 있습니다.\n",
    "# 만약 10만원 이상이 있다면 고급 레스토랑에서 밥을 먹고\n",
    "# 5만원 이상있다면 패밀리 레스토랑에서 밥을 먹고\n",
    "# 3만원 이상있다면 배달을 시켜먹습니다.\n",
    "# 만일 그 이하로 있다면 집에서 밥을 먹습니다. \n",
    "wallet = int(input())\n",
    "if wallet >= 100000:\n",
    "    print('고급 레스토랑에서 식사')\n",
    "elif wallet >= 50000:\n",
    "    print(\"패밀리 레스토랑에서 식사\")\n",
    "elif wallet >= 30000:\n",
    "    print(\"배달 음식 식사\")\n",
    "else:\n",
    "    print(\"집에서 식사\")"
   ]
  },
  {
   "cell_type": "code",
   "execution_count": null,
   "metadata": {},
   "outputs": [],
   "source": []
  }
 ],
 "metadata": {
  "kernelspec": {
   "display_name": "Python 3",
   "language": "python",
   "name": "python3"
  },
  "language_info": {
   "codemirror_mode": {
    "name": "ipython",
    "version": 3
   },
   "file_extension": ".py",
   "mimetype": "text/x-python",
   "name": "python",
   "nbconvert_exporter": "python",
   "pygments_lexer": "ipython3",
   "version": "3.8.5"
  }
 },
 "nbformat": 4,
 "nbformat_minor": 4
}
