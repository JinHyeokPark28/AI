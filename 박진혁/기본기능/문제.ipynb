{
 "cells": [
  {
   "cell_type": "markdown",
   "metadata": {},
   "source": [
    "# 문제 1\n",
    "- 화면에 Hello World를 출력하는데\n",
    "- 변수1에 Hello\n",
    "- 변수2에 World를 사용해서 출력하기"
   ]
  },
  {
   "cell_type": "code",
   "execution_count": 1,
   "metadata": {},
   "outputs": [
    {
     "name": "stdout",
     "output_type": "stream",
     "text": [
      "Hello World\n"
     ]
    }
   ],
   "source": [
    "# a에 \"Hello\"라는 문자열을 넣어서 보관함\n",
    "a =  'Hello'\n",
    "# b에 'world'라는 문자열을 넣어서 보관함\n",
    "b = 'World'\n",
    "#출력 함수를 통해서 a, b 변수 안에 있는 문자열을 한꺼번에 출력함\n",
    "print(a, b)"
   ]
  },
  {
   "cell_type": "markdown",
   "metadata": {},
   "source": [
    "# 문제 2\n",
    "- print함수를 사용해서 192.557290382의 값을 출력해주세요.\n",
    "    - 단, 소수점 아래는 3번째 자리까지 출력해주세요."
   ]
  },
  {
   "cell_type": "code",
   "execution_count": 3,
   "metadata": {},
   "outputs": [
    {
     "name": "stdout",
     "output_type": "stream",
     "text": [
      "192.557\n"
     ]
    }
   ],
   "source": [
    "i1 = 192.557290382\n",
    "print(format(i1, \".3f\"))"
   ]
  },
  {
   "cell_type": "markdown",
   "metadata": {},
   "source": [
    "# 문제 3\n",
    "- 문자열 '720'을 정수형으로 반환\n",
    "- 정수형 100을 문자열 '100'으로 반환해서 출력하기"
   ]
  },
  {
   "cell_type": "code",
   "execution_count": 5,
   "metadata": {},
   "outputs": [
    {
     "name": "stdout",
     "output_type": "stream",
     "text": [
      "720\n",
      "100\n"
     ]
    }
   ],
   "source": [
    "print(int('720'))\n",
    "print(str(100))"
   ]
  },
  {
   "cell_type": "markdown",
   "metadata": {},
   "source": [
    "# 문제 4\n",
    "- 2와 5를 변수에 넣고, 두 변수의 더한값, 곱한 값, 나눈 값을 출력해주세요.\n",
    "- 밑이 6이고 지수가 2일때, 거듭제곱의 값을 출력해주세요\n",
    "    - 6의 2승이라는 뜻입니다."
   ]
  },
  {
   "cell_type": "code",
   "execution_count": 7,
   "metadata": {},
   "outputs": [
    {
     "name": "stdout",
     "output_type": "stream",
     "text": [
      "덧셈 : 7\n",
      "곱셈 : 10\n",
      "나눗셈 : 0.4\n",
      "6의 2승 : 36\n"
     ]
    }
   ],
   "source": [
    "a = 2\n",
    "b = 5\n",
    "print(\"덧셈 :\", a + b)\n",
    "print(\"곱셈 :\", a * b)\n",
    "print(\"나눗셈 :\", a / b)\n",
    "print(\"6의 2승 :\", 6 ** 2)"
   ]
  },
  {
   "cell_type": "markdown",
   "metadata": {},
   "source": [
    "# 문제 5\n",
    "- 사용자로부터 두개의 숫자를 입력받은 뒤 덧셈, 뺄셈, 곱셈, 나눗셈, 몫, 나머지를 출력하는 프로그램 만들기"
   ]
  },
  {
   "cell_type": "code",
   "execution_count": 8,
   "metadata": {},
   "outputs": [
    {
     "name": "stdout",
     "output_type": "stream",
     "text": [
      "10\n",
      "4\n",
      "덧셈 : 14\n",
      "뺄셈 : 6\n",
      "곱셈 : 40\n",
      "나눗셈 : 2.5\n",
      "몫 : 2\n",
      "나머지 : 2\n"
     ]
    }
   ],
   "source": [
    "N = int(input())\n",
    "M = int(input())\n",
    "print(\"덧셈 :\", N + M)\n",
    "print(\"뺄셈 :\", N - M)\n",
    "print(\"곱셈 :\", N * M)\n",
    "print(\"나눗셈 :\", N / M)\n",
    "print(\"몫 :\", N // M)\n",
    "print(\"나머지 :\", N % M)"
   ]
  },
  {
   "cell_type": "markdown",
   "metadata": {},
   "source": [
    "# 문제 6\n",
    "- 사용자로부터 주민등록번호를 입력받아 출생연도를 출력해주세요.\n",
    "- 예) 900001-1231231 주민번호를 입력받으면 90이 출력되게 하기"
   ]
  },
  {
   "cell_type": "code",
   "execution_count": 11,
   "metadata": {},
   "outputs": [
    {
     "name": "stdout",
     "output_type": "stream",
     "text": [
      "900001-1231231\n",
      "90\n"
     ]
    }
   ],
   "source": [
    "num = input()\n",
    "num_list = num.split('-')\n",
    "first = num_list[0]\n",
    "print(first[0:2])"
   ]
  },
  {
   "cell_type": "markdown",
   "metadata": {},
   "source": [
    "# 문제 7\n",
    "- 사용자로부터 주민등록번호를 입력받아 출생연도를 출력해주세요\n",
    "- 주민등록 번호 뒷자리의 맨 앞번호는 성별을 뜻합니다/\n",
    "- 예) 90000-1231231 주민번호를 입력받아 다른 결과를 나오게 해주세요.\n",
    "- 1이면 남성입니다.\n",
    "- 2이면 여성입니다.\n",
    "- 3이면 2000년생 이후 남성입니다.\n",
    "- 4이면 2000년생 이후 여성입니다."
   ]
  },
  {
   "cell_type": "code",
   "execution_count": 18,
   "metadata": {},
   "outputs": [
    {
     "name": "stdout",
     "output_type": "stream",
     "text": [
      "90000-32122515\n",
      "2000년생 이후 남성입니다.\n"
     ]
    }
   ],
   "source": [
    "pri_n = input()\n",
    "num = pri_n.split('-')\n",
    "last = num[1]\n",
    "if last[0] == '1':\n",
    "    print(\"남성입니다.\")\n",
    "elif last[0] == '2':\n",
    "    print(\"여성입니다.\")\n",
    "elif last[0] == '3':\n",
    "    print(\"2000년생 이후 남성입니다.\")\n",
    "elif last[0] == '4':\n",
    "    print(\"2000년생 이후 여성입니다.\")\n",
    "else:\n",
    "    print(\"번호를 정확하게 입력해주세요.\")"
   ]
  },
  {
   "cell_type": "code",
   "execution_count": null,
   "metadata": {},
   "outputs": [],
   "source": []
  }
 ],
 "metadata": {
  "kernelspec": {
   "display_name": "Python 3",
   "language": "python",
   "name": "python3"
  },
  "language_info": {
   "codemirror_mode": {
    "name": "ipython",
    "version": 3
   },
   "file_extension": ".py",
   "mimetype": "text/x-python",
   "name": "python",
   "nbconvert_exporter": "python",
   "pygments_lexer": "ipython3",
   "version": "3.8.5"
  }
 },
 "nbformat": 4,
 "nbformat_minor": 4
}
