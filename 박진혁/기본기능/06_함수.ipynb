{
 "cells": [
  {
   "cell_type": "markdown",
   "metadata": {},
   "source": [
    "# 함수?\n",
    "- 수학적 의미 : 첫번재 집합의 임의의 원소를 두번째 집합의 오직 한 원소의 대응 관계\n",
    "- 프로그래밍의 의미 : 입력값을 내부에 넘기면 어떤 처리를 통해서 결과를 출력하는 것\n",
    "\n",
    "- 컴퓨터 -> 정보 -> 처리 -> 결과값\n",
    "\n",
    "- 함수의 용어\n",
    "    - 인자값 : parameter, argument\n",
    "    - 입력값 : input\n",
    "    - 출력값 : output"
   ]
  },
  {
   "cell_type": "code",
   "execution_count": 3,
   "metadata": {},
   "outputs": [],
   "source": [
    "# 함수 선언\n",
    "# def 함수이름\n",
    "# 주의점 : 함수이름은 내가 사용하려고 하는 함수의 특징을 제목을 적는게 좋다.\n",
    "\n",
    "def PrintHello():\n",
    "    print(\"Hello!\")\n"
   ]
  },
  {
   "cell_type": "code",
   "execution_count": 4,
   "metadata": {},
   "outputs": [
    {
     "name": "stdout",
     "output_type": "stream",
     "text": [
      "Hello!\n"
     ]
    }
   ],
   "source": [
    "# 함수 실행하는 방법\n",
    "# 함수이름()\n",
    "PrintHello()"
   ]
  },
  {
   "cell_type": "code",
   "execution_count": 6,
   "metadata": {},
   "outputs": [
    {
     "ename": "IndentationError",
     "evalue": "expected an indented block (<ipython-input-6-01d36c49151d>, line 4)",
     "output_type": "error",
     "traceback": [
      "\u001b[1;36m  File \u001b[1;32m\"<ipython-input-6-01d36c49151d>\"\u001b[1;36m, line \u001b[1;32m4\u001b[0m\n\u001b[1;33m    Hello(\"저는 진혁입니다.\")\u001b[0m\n\u001b[1;37m    ^\u001b[0m\n\u001b[1;31mIndentationError\u001b[0m\u001b[1;31m:\u001b[0m expected an indented block\n"
     ]
    }
   ],
   "source": [
    "def Hello(string):\n",
    "    print(\"Hello\", string)\n",
    "    \n",
    "Hello(\"저는 진혁입니다.\")\n",
    "    "
   ]
  },
  {
   "cell_type": "code",
   "execution_count": 7,
   "metadata": {},
   "outputs": [],
   "source": [
    "# 반환하는 의미\n",
    "# return 키워드를 사용합니다.\n",
    "def addition(x1, x2):\n",
    "    result = x1 + x2\n",
    "    return result"
   ]
  },
  {
   "cell_type": "code",
   "execution_count": 8,
   "metadata": {},
   "outputs": [
    {
     "data": {
      "text/plain": [
       "15"
      ]
     },
     "execution_count": 8,
     "metadata": {},
     "output_type": "execute_result"
    }
   ],
   "source": [
    "addition(5, 10)"
   ]
  },
  {
   "cell_type": "code",
   "execution_count": 10,
   "metadata": {},
   "outputs": [],
   "source": [
    "# 덧셈 함수가 있습니다.\n",
    "# 이 함수에는 negative라는 변수가 있고\n",
    "# 이 변수의 값은 - 10입니다.\n",
    "# 들어오는 인자값과 negative를 더해서\n",
    "# 값을 반환하는 함수를 만들어 주세요.\n",
    "def plus(x):\n",
    "    negative = -10\n",
    "    return x + negative\n"
   ]
  },
  {
   "cell_type": "code",
   "execution_count": 11,
   "metadata": {},
   "outputs": [
    {
     "data": {
      "text/plain": [
       "90"
      ]
     },
     "execution_count": 11,
     "metadata": {},
     "output_type": "execute_result"
    }
   ],
   "source": [
    "plus(100)"
   ]
  },
  {
   "cell_type": "code",
   "execution_count": 12,
   "metadata": {},
   "outputs": [],
   "source": [
    "# 인자가 10보다 클때 '10보다 큽니다'\n",
    "# 인자가 0보다 작을때 0보다 작습니다\n",
    "# 그 외라면 10보다 작거나 0보다 큽니다.\n",
    "def check_num(num):\n",
    "    if num >= 10:\n",
    "        print(\"10보다 큽니다.\")\n",
    "    elif num <= 0:\n",
    "        print(\"0보다 작습니다.\")\n",
    "    else:\n",
    "        print(\"0보다 크거나 10보다 작습니다.\")"
   ]
  },
  {
   "cell_type": "code",
   "execution_count": 14,
   "metadata": {},
   "outputs": [
    {
     "name": "stdout",
     "output_type": "stream",
     "text": [
      "10보다 큽니다.\n"
     ]
    }
   ],
   "source": [
    "check_num(13)"
   ]
  },
  {
   "cell_type": "code",
   "execution_count": 15,
   "metadata": {},
   "outputs": [],
   "source": [
    "# 함수를 이용해서 id를 체크합니다.\n",
    "# id로 들어오는 인자값이 'admin'이라면 (invalid id : admin)을 출력하고\n",
    "# id로 들어오는 인자값이 'admin'을 제외한 다른 아이디라면\n",
    "# (valid id : 아이디 이름)을 출력해주세요.\n",
    "def id_check(names):\n",
    "    if names == 'admin':\n",
    "        print(\"invalid id : admin\")\n",
    "    else:\n",
    "        print(\"valid id :\", names)"
   ]
  },
  {
   "cell_type": "code",
   "execution_count": 17,
   "metadata": {},
   "outputs": [
    {
     "name": "stdout",
     "output_type": "stream",
     "text": [
      "valid id : asdfdkfbn\n"
     ]
    }
   ],
   "source": [
    "id_check(\"asdfdkfbn\")"
   ]
  },
  {
   "cell_type": "code",
   "execution_count": 12,
   "metadata": {},
   "outputs": [],
   "source": [
    "# 함수\n",
    "# 인자값에 1을 누르면 홀수 구구단(3, 5, 7, 9)\n",
    "# 인자값에 2를 누르면 짝수 구구단(2, 4, 6, 8)이 나오고\n",
    "# 그외의 숫자를 입력하면 다시 입력하게 만드는 프로그램 만듭니다~\n",
    "def gugudan1():\n",
    "    for i in range(2, 10):\n",
    "        if i % 2 != 0:\n",
    "            print(\"\\n%d단\"%i)\n",
    "            for j in range(1, 10):\n",
    "                print(\"%d * %d = %d\" %(i,j,i*j))\n",
    "                \n",
    "\n",
    "def gugudan2():\n",
    "    for i in range(2, 10):\n",
    "        if i % 2 == 0:\n",
    "            print(\"\\n%d단\"%i)\n",
    "            for j in range(1, 10):\n",
    "                print(\"%d * %d = %d\" %(i, j, i * j))\n",
    "                \n",
    "    "
   ]
  },
  {
   "cell_type": "code",
   "execution_count": 20,
   "metadata": {},
   "outputs": [
    {
     "name": "stdout",
     "output_type": "stream",
     "text": [
      "1번을 누르면 홀수 구구단이 출력됩니다.\n",
      "2번을 누르면 짝수 구구단이 출력됩니다.\n",
      "3\n",
      "입력을 다시 해주세요.\n"
     ]
    }
   ],
   "source": [
    "print(\"1번을 누르면 홀수 구구단이 출력됩니다.\")\n",
    "print(\"2번을 누르면 짝수 구구단이 출력됩니다.\")\n",
    "number = int(input())\n",
    "if number == 1:\n",
    "    gugudan1()\n",
    "elif number == 2:\n",
    "    gugudan2()\n",
    "else:\n",
    "    print(\"입력을 다시 해주세요.\")\n",
    "    # continue -> 반복문에 이 continue를 만나게 되면\n",
    "    # 계속 진행을 하게 됩니다.\n",
    "    # continue\n",
    "    # return -> 값을 반환을 하는 키워드\n",
    "    # break -> 반복문을 종료하고 반복문 바깥으로 나옵니다."
   ]
  },
  {
   "cell_type": "code",
   "execution_count": null,
   "metadata": {},
   "outputs": [],
   "source": []
  }
 ],
 "metadata": {
  "kernelspec": {
   "display_name": "Python 3",
   "language": "python",
   "name": "python3"
  },
  "language_info": {
   "codemirror_mode": {
    "name": "ipython",
    "version": 3
   },
   "file_extension": ".py",
   "mimetype": "text/x-python",
   "name": "python",
   "nbconvert_exporter": "python",
   "pygments_lexer": "ipython3",
   "version": "3.8.5"
  }
 },
 "nbformat": 4,
 "nbformat_minor": 4
}
