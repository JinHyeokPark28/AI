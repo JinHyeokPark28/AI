{
 "cells": [
  {
   "cell_type": "code",
   "execution_count": 2,
   "metadata": {},
   "outputs": [
    {
     "name": "stdout",
     "output_type": "stream",
     "text": [
      "0 1 2 3 4 5 6 7 8 9 10 11 12 13 14 15 16 17 18 19 20 21 22 23 24 25 26 27 28 29 30 31 32 33 34 35 36 37 38 39 40 41 42 43 44 45 46 47 48 49 50 51 52 53 54 55 56 57 58 59 60 61 62 63 64 65 66 67 68 69 70 71 72 73 74 75 76 77 78 79 80 81 82 83 84 85 86 87 88 89 90 91 92 93 94 95 96 97 98 99 "
     ]
    }
   ],
   "source": [
    "# 반복문\n",
    "# 2가지가 존재합니다.\n",
    "# for문\n",
    "# while 문\n",
    "# 키워드가 존재합니다.\n",
    "# 함수\n",
    "\n",
    "# 반복문을 어떠한것을 반복시키기 위해서 사용합니다.\n",
    "list1 = []\n",
    "list1.append(1)\n",
    "list1.append(2)\n",
    "list1.append(3)\n",
    "list1.append(4)\n",
    "list1.append(1)\n",
    "list1.append(1)\n",
    "list1.append(1)\n",
    "list1.append(1)\n",
    "list1.append(1)\n",
    "list1.append(1)\n",
    "list1.append(1)\n",
    "\n",
    "# for\n",
    "# for '반복문 안에서 사용할 변수 이름' in 변수, 데이터 구조:\n",
    "    # '반복문 안에서 사용할 변수 이름'이 가진 데이터를 출력\n",
    "# for i in range(\"시작할 범위\", \"끝날 범위\"):\n",
    "    # print(i)\n",
    "# for i in range(0, 10):\n",
    "#     print(i)\n",
    "\n",
    "for i in range(100):\n",
    "    print(i, end = ' ')\n",
    "# while\n"
   ]
  },
  {
   "cell_type": "code",
   "execution_count": 4,
   "metadata": {},
   "outputs": [
    {
     "name": "stdout",
     "output_type": "stream",
     "text": [
      "1\n",
      "2\n",
      "3\n",
      "4\n",
      "5\n",
      "6\n",
      "7\n",
      "8\n",
      "9\n",
      "10\n"
     ]
    }
   ],
   "source": [
    "number = 10\n",
    "for i in range(1, number + 1):\n",
    "    print(i)"
   ]
  },
  {
   "cell_type": "code",
   "execution_count": 7,
   "metadata": {},
   "outputs": [
    {
     "name": "stdout",
     "output_type": "stream",
     "text": [
      "1\n",
      "3\n",
      "6\n",
      "10\n",
      "15\n",
      "21\n",
      "28\n",
      "36\n",
      "45\n",
      "55\n"
     ]
    }
   ],
   "source": [
    "# 1 ~ 10까지의 덧셈 값을 출력해주세요.\n",
    "# 답 : 55\n",
    "res = 0\n",
    "for i in range(1, 11):\n",
    "    res += i\n",
    "    print(res)"
   ]
  },
  {
   "cell_type": "code",
   "execution_count": 10,
   "metadata": {},
   "outputs": [
    {
     "name": "stdout",
     "output_type": "stream",
     "text": [
      "3628800\n"
     ]
    }
   ],
   "source": [
    "# for문을 이용해서 1x2x3x4x5x6x7x8x9x10 = 3628800\n",
    "res = 1\n",
    "for i in range(1, 11):\n",
    "    res *= i\n",
    "print(res)\n",
    "    "
   ]
  },
  {
   "cell_type": "code",
   "execution_count": 17,
   "metadata": {},
   "outputs": [
    {
     "name": "stdout",
     "output_type": "stream",
     "text": [
      "5\n",
      "7\n",
      "2\n",
      "0\n"
     ]
    }
   ],
   "source": [
    "data_list = ['5', '7', '2', '0']\n",
    "number = 10\n",
    "for i in data_list:\n",
    "    print(i)"
   ]
  },
  {
   "cell_type": "code",
   "execution_count": 19,
   "metadata": {},
   "outputs": [
    {
     "name": "stdout",
     "output_type": "stream",
     "text": [
      "이름을 입력해주세요 :스븟\n",
      "안녕하세요!스븟님!\n",
      "이름을 입력해주세요 :진혁\n",
      "안녕하세요!진혁님!\n"
     ]
    }
   ],
   "source": [
    "# while\n",
    "# while문은 for문과 유사하게 생겼습니다.\n",
    "# 다만 사용하는 방법이 조금다릅니다.\n",
    "# if문과 유사하게 사용합니다.\n",
    "# while 조건식:\n",
    "    # 코드 실행\n",
    "name = ''\n",
    "while name != '진혁':\n",
    "    name = input(\"이름을 입력해주세요 :\")\n",
    "    print(\"안녕하세요!\" + name + '님!')"
   ]
  },
  {
   "cell_type": "code",
   "execution_count": 20,
   "metadata": {},
   "outputs": [],
   "source": [
    "# 사용자로부터 2 ~ 9 사이의 숫자를 입력 받은 뒤 해당 숫자에 대한 구구단을 출력"
   ]
  },
  {
   "cell_type": "code",
   "execution_count": 27,
   "metadata": {},
   "outputs": [
    {
     "name": "stdout",
     "output_type": "stream",
     "text": [
      "5\n",
      "5 X 1  =  5\n",
      "5 X 2  =  10\n",
      "5 X 3  =  15\n",
      "5 X 4  =  20\n",
      "5 X 5  =  25\n",
      "5 X 6  =  30\n",
      "5 X 7  =  35\n",
      "5 X 8  =  40\n",
      "5 X 9  =  45\n"
     ]
    }
   ],
   "source": [
    "number = int(input())\n",
    "if number >= 2 and number <= 9:\n",
    "    for mul in range(1, 10):\n",
    "        cal = number * mul\n",
    "        print(number, 'X', mul, ' = ', cal)"
   ]
  },
  {
   "cell_type": "code",
   "execution_count": 21,
   "metadata": {},
   "outputs": [],
   "source": [
    "# 사용자로부 ','로 구분된 여러 이름을 받아서 한줄에 하나씩 출력해주세요\n",
    "# Dave,David,Gerolt,Takesi"
   ]
  },
  {
   "cell_type": "code",
   "execution_count": 28,
   "metadata": {},
   "outputs": [
    {
     "name": "stdout",
     "output_type": "stream",
     "text": [
      "Dave,David,Gerolt,Takesi\n",
      "Dave\n",
      "David\n",
      "Gerolt\n",
      "Takesi\n"
     ]
    }
   ],
   "source": [
    "name = input()\n",
    "name_list = name.split(',')\n",
    "for names in name_list:\n",
    "    print(names)"
   ]
  },
  {
   "cell_type": "code",
   "execution_count": 22,
   "metadata": {},
   "outputs": [
    {
     "ename": "SyntaxError",
     "evalue": "invalid syntax (<ipython-input-22-20c976cc7c3d>, line 1)",
     "output_type": "error",
     "traceback": [
      "\u001b[1;36m  File \u001b[1;32m\"<ipython-input-22-20c976cc7c3d>\"\u001b[1;36m, line \u001b[1;32m1\u001b[0m\n\u001b[1;33m    '[Dave],[David],[Gerolt],[Takesi]'의 이름을 받아서\u001b[0m\n\u001b[1;37m                                      ^\u001b[0m\n\u001b[1;31mSyntaxError\u001b[0m\u001b[1;31m:\u001b[0m invalid syntax\n"
     ]
    }
   ],
   "source": [
    "# '[Dave],[David],[Gerolt],[Takesi]'의 이름을 받아서\n",
    "# 한줄에 하나씩 출력해주세요\n",
    "# Dave\n",
    "# David\n",
    "# Gerolt\n",
    "# Takesi"
   ]
  },
  {
   "cell_type": "code",
   "execution_count": 32,
   "metadata": {},
   "outputs": [
    {
     "name": "stdout",
     "output_type": "stream",
     "text": [
      "Dave\n",
      "David\n",
      "Gerolt\n",
      "Takesi\n"
     ]
    }
   ],
   "source": [
    "data = '[Dave],[David],[Gerolt],[Takesi]'\n",
    "for data_list in data.split(','):\n",
    "    print(data_list[1:-1])"
   ]
  },
  {
   "cell_type": "code",
   "execution_count": 23,
   "metadata": {},
   "outputs": [],
   "source": [
    "# 별을 출력해주세요\n",
    "# *\n",
    "# * *\n",
    "# * * *\n",
    "# * * * *\n",
    "# * * * * *"
   ]
  },
  {
   "cell_type": "code",
   "execution_count": 38,
   "metadata": {},
   "outputs": [
    {
     "name": "stdout",
     "output_type": "stream",
     "text": [
      " *\n",
      " * *\n",
      " * * *\n",
      " * * * *\n",
      " * * * * *\n"
     ]
    }
   ],
   "source": [
    "for i in range(5):\n",
    "    for j in range(i + 1):\n",
    "        print(\" *\", end=\"\")\n",
    "    print()"
   ]
  },
  {
   "cell_type": "code",
   "execution_count": 2,
   "metadata": {},
   "outputs": [
    {
     "name": "stdout",
     "output_type": "stream",
     "text": [
      "5\n",
      "* * * * * \n",
      "* * * * \n",
      "* * * \n",
      "* * \n",
      "* \n"
     ]
    }
   ],
   "source": [
    "# 역삼각형 출력하기\n",
    "# * * * * *\n",
    "# * * * *\n",
    "# * * *\n",
    "# * *\n",
    "# *\n",
    "star = int(input())\n",
    "for i in range(1, star + 1):\n",
    "    for j in range(star + 1 - i):\n",
    "        print(\"* \", end = \"\")\n",
    "    print(\"\")"
   ]
  },
  {
   "cell_type": "code",
   "execution_count": 8,
   "metadata": {},
   "outputs": [
    {
     "name": "stdout",
     "output_type": "stream",
     "text": [
      "          * \n",
      "        * * * \n",
      "      * * * * * \n",
      "    * * * * * * * \n",
      "  * * * * * * * * * \n"
     ]
    }
   ],
   "source": [
    "# 삼각별 출력하기\n",
    "for i in range(1, 6):\n",
    "    for j in range(6 - i):\n",
    "        print(\"  \", end=\"\")\n",
    "    for k in range(2 * i - 1):\n",
    "        print(\"* \", end=\"\")\n",
    "    print()\n",
    "\n",
    "#         *\n",
    "#       * * *\n",
    "#     * * * * *\n",
    "#   * * * * * * *\n",
    "# * * * * * * * * *"
   ]
  },
  {
   "cell_type": "code",
   "execution_count": null,
   "metadata": {},
   "outputs": [],
   "source": []
  }
 ],
 "metadata": {
  "kernelspec": {
   "display_name": "Python 3",
   "language": "python",
   "name": "python3"
  },
  "language_info": {
   "codemirror_mode": {
    "name": "ipython",
    "version": 3
   },
   "file_extension": ".py",
   "mimetype": "text/x-python",
   "name": "python",
   "nbconvert_exporter": "python",
   "pygments_lexer": "ipython3",
   "version": "3.8.5"
  }
 },
 "nbformat": 4,
 "nbformat_minor": 4
}
