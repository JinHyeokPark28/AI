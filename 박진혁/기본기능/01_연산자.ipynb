{
 "cells": [
  {
   "cell_type": "markdown",
   "metadata": {},
   "source": [
    "# 파이썬\n",
    "- 간단하고 배우기 쉬운 프로그램 언어입니다.\n",
    "- 영어와 유사한 문법으로 프로그램 작성이 가능합니다.\n",
    "- 컴파일 과정이 없기 대문에 매우 빠르고 편리합니다.\n",
    "- 코드가 읽기 쉽습니다.\n",
    "- 많은 데이터나 빠른 응답이 필요한 프로그램에서 파이썬을 사용합니다.\n",
    "- 사용 기관 : NASA, FACEBOOK, NAVER, KAKAO\n"
   ]
  },
  {
   "cell_type": "code",
   "execution_count": 8,
   "metadata": {},
   "outputs": [
    {
     "name": "stdout",
     "output_type": "stream",
     "text": [
      "Hello\n"
     ]
    },
    {
     "data": {
      "text/plain": [
       "'이것은?? 어떻게 될까요??'"
      ]
     },
     "execution_count": 8,
     "metadata": {},
     "output_type": "execute_result"
    }
   ],
   "source": [
    "# , \"\"\"\"\"\" : 주석\n",
    "\n",
    "# 프로그램의 설명을 위해서 붙이며, 실제 프로그램이 동작할 때는 아무런 영향이 없다.\n",
    "# asdlkfasldfkljkjl\n",
    "print(\"Hello\")\n",
    "\"\"\"이것은?? 어떻게 될까요??\"\"\""
   ]
  },
  {
   "cell_type": "code",
   "execution_count": 3,
   "metadata": {},
   "outputs": [
    {
     "name": "stdout",
     "output_type": "stream",
     "text": [
      "1+1= 2\n",
      "덧셈의 값은? 4\n"
     ]
    }
   ],
   "source": [
    "# 더하기 : +\n",
    "# 빼기 : -\n",
    "# 곱하기 : *\n",
    "# 나누기 : /\n",
    "# 나머지 : %\n",
    "# 거듭제곱 : **\n",
    "# 몫 : //\n",
    "\n",
    "1 + 1\n",
    "2 + 2\n",
    "\n",
    "print(\"1+1=\",1+1)\n",
    "print(\"덧셈의 값은?\",2+2)"
   ]
  },
  {
   "cell_type": "code",
   "execution_count": 4,
   "metadata": {},
   "outputs": [
    {
     "name": "stdout",
     "output_type": "stream",
     "text": [
      "덧셈 :  4 + 3 + 12 = 19 입니다.\n"
     ]
    }
   ],
   "source": [
    "print(\"덧셈 : \", \"4 + 3 + 12 =\", 4 + 3 + 12, \"입니다.\")"
   ]
  },
  {
   "cell_type": "code",
   "execution_count": 8,
   "metadata": {},
   "outputs": [
    {
     "name": "stdout",
     "output_type": "stream",
     "text": [
      "덧셈 :  10 + 20 = 30 입니다.\n",
      "뺄셈 :  30 - 20 = 10 입니다.\n",
      "곱셈 :  1과 0을 곱하면  0 입니다.\n",
      "거듭제곱 :  2의 거듭제곱은  4 입니다.\n"
     ]
    }
   ],
   "source": [
    "# 덧셈 : 10 + 20 = 30입니다.\n",
    "# 뺄셈 : 30 - 20 = 10입니다.\n",
    "# 곱셈 : 1과 0을 곱하면 0입니다.\n",
    "# 거듭제곱 : 2의 거듭제곱은 4입니다.\n",
    "print(\"덧셈 : \", \"10 + 20 =\",10 + 20, \"입니다.\")\n",
    "print(\"뺄셈 : \", \"30 - 20 =\",30 - 20, \"입니다.\")\n",
    "print(\"곱셈 : \", \"1과 0을 곱하면 \",1 * 0, \"입니다.\")\n",
    "print(\"거듭제곱 : \", \"2의 거듭제곱은 \",2 ** 2 , \"입니다.\")"
   ]
  },
  {
   "cell_type": "code",
   "execution_count": 7,
   "metadata": {},
   "outputs": [
    {
     "name": "stdout",
     "output_type": "stream",
     "text": [
      "10\n",
      "age = 10\n"
     ]
    }
   ],
   "source": [
    "10, 20\n",
    "# 속성\n",
    "# 문자형 = '', \"\"\n",
    "# 정수형 = 1, 3, 10, 1000, 100\n",
    "# 실수형 = 3.2, 4.4, 5.12345\n",
    "# (다른언어와의 차이점 뒤에 f를 의무적으로 붙이지 않아도 됨)\n",
    "# 논리형 = True & False\n",
    "# 변수 = 속성을 담아둘수 있는 어떠한 그릇(가방)\n",
    "# 어떤 데이터를 기반으로 컴퓨터에 명령을 내리는 방법\n",
    "age = 10\n",
    "print(10)\n",
    "print(\"age =\", age)\n"
   ]
  },
  {
   "cell_type": "code",
   "execution_count": 13,
   "metadata": {},
   "outputs": [
    {
     "name": "stdout",
     "output_type": "stream",
     "text": [
      "내가 태어난 해 : 20211994\n"
     ]
    }
   ],
   "source": [
    "# 1) 자신의 나이를가지고 있는 변수만들기\n",
    "# 2) 현재 연도를 적습니다.\n",
    "# 내가 태어난 해의대한 연산을 해주세요\n",
    "# 내가 태어난 해 : 1999\n",
    "age = \"1994\" \n",
    "year = \"2021\"\n",
    "print(\"내가 태어난 해 :\", year + age)"
   ]
  },
  {
   "cell_type": "code",
   "execution_count": 1,
   "metadata": {},
   "outputs": [
    {
     "name": "stdout",
     "output_type": "stream",
     "text": [
      "N ? 1\n",
      "1\n",
      "1 1\n"
     ]
    }
   ],
   "source": [
    "\n",
    "# 입력을 받는 함수\n",
    "# 입력을 받게 되면 안의 값들이 자동적으로 문자형으로 바뀐다.\n",
    "a = int(input(\"N ? \"))\n",
    "b = input()\n",
    "print(a, b)\n"
   ]
  },
  {
   "cell_type": "code",
   "execution_count": 23,
   "metadata": {},
   "outputs": [
    {
     "name": "stdout",
     "output_type": "stream",
     "text": [
      "<class 'int'>\n",
      "<class 'str'>\n",
      "<class 'bool'>\n",
      "<class 'float'>\n"
     ]
    }
   ],
   "source": [
    "# type : ()안에 들어와있는 변수 이름 혹은 값의 타입을 알수 있습니다.\n",
    "print(type(a))# int => integer\n",
    "print(type(b))# str = string\n",
    "print(type(True))\n",
    "print(type(3.14))\n"
   ]
  },
  {
   "cell_type": "code",
   "execution_count": 4,
   "metadata": {},
   "outputs": [
    {
     "name": "stdout",
     "output_type": "stream",
     "text": [
      "N ?7\n",
      "M ?7\n",
      "덧셈 : 14\n",
      "뺄셈 : 0\n",
      "곱셈 : 49\n"
     ]
    }
   ],
   "source": [
    "# Input함수와 Print함수를 이용해서\n",
    "# 간단한 계산기를 만듭니다.\n",
    "# N ? 7\n",
    "# M ? 7\n",
    "\n",
    "# 결과값\n",
    "# 덧셈 : 14\n",
    "# 뺄셈 : 0\n",
    "# 곱셈 : 49\n",
    "\n",
    "N = int(input(\"N ?\"))\n",
    "M = int(input(\"M ?\"))\n",
    "print(\"덧셈 :\", N + M)\n",
    "print(\"뺄셈 :\", N - M)\n",
    "print(\"곱셈 :\", N * M)\n"
   ]
  },
  {
   "cell_type": "code",
   "execution_count": 8,
   "metadata": {},
   "outputs": [
    {
     "name": "stdout",
     "output_type": "stream",
     "text": [
      "7\n",
      "7\n",
      "덧셈 : 14\n"
     ]
    }
   ],
   "source": [
    "N = input()\n",
    "M = input()\n",
    "print(\"덧셈 :\", int(N) + int(M))"
   ]
  },
  {
   "cell_type": "code",
   "execution_count": 12,
   "metadata": {},
   "outputs": [
    {
     "data": {
      "text/plain": [
       "False"
      ]
     },
     "execution_count": 12,
     "metadata": {},
     "output_type": "execute_result"
    }
   ],
   "source": [
    "# 논리연산자(Bool, Boolean)\n",
    "# == : 연산자와 피연사자와의 관계가 True인지 검사합니다.\n",
    "candy = 10\n",
    "candy == 11\n",
    "# != : 연산자와 피연산자와의 관계가 False인지 검사합니다.\n",
    "candy != 10"
   ]
  },
  {
   "cell_type": "code",
   "execution_count": 13,
   "metadata": {},
   "outputs": [],
   "source": [
    "# 관계연산자(Bool, Boolean)\n",
    "# 이상, 이하, 초과, 미만\n",
    "#  >=,  <= ,   >  ,  <\n",
    "# 연산자와 피연산자간의 관계를 검사를 합니다."
   ]
  },
  {
   "cell_type": "code",
   "execution_count": 14,
   "metadata": {},
   "outputs": [
    {
     "data": {
      "text/plain": [
       "True"
      ]
     },
     "execution_count": 14,
     "metadata": {},
     "output_type": "execute_result"
    }
   ],
   "source": [
    "13 >= 10"
   ]
  },
  {
   "cell_type": "code",
   "execution_count": 15,
   "metadata": {},
   "outputs": [
    {
     "data": {
      "text/plain": [
       "False"
      ]
     },
     "execution_count": 15,
     "metadata": {},
     "output_type": "execute_result"
    }
   ],
   "source": [
    "13 <= 10"
   ]
  },
  {
   "cell_type": "code",
   "execution_count": 17,
   "metadata": {},
   "outputs": [
    {
     "data": {
      "text/plain": [
       "False"
      ]
     },
     "execution_count": 17,
     "metadata": {},
     "output_type": "execute_result"
    }
   ],
   "source": [
    "14 > 16"
   ]
  },
  {
   "cell_type": "code",
   "execution_count": 18,
   "metadata": {},
   "outputs": [],
   "source": [
    "# 대입연산자\n",
    "result = N + M"
   ]
  },
  {
   "cell_type": "code",
   "execution_count": 20,
   "metadata": {},
   "outputs": [
    {
     "name": "stdout",
     "output_type": "stream",
     "text": [
      "20\n"
     ]
    }
   ],
   "source": [
    "result = 10\n",
    "result = result + 10\n",
    "print(result)\n",
    "# 덧셈 +=\n",
    "# 뺄셈 -=\n",
    "# 곱셈 *=\n",
    "# 나눗셈 /="
   ]
  },
  {
   "cell_type": "code",
   "execution_count": 21,
   "metadata": {},
   "outputs": [
    {
     "name": "stdout",
     "output_type": "stream",
     "text": [
      "20\n"
     ]
    }
   ],
   "source": [
    "result = 10\n",
    "result += 10\n",
    "# result = result + 10\n",
    "print(result)"
   ]
  },
  {
   "cell_type": "code",
   "execution_count": 22,
   "metadata": {},
   "outputs": [
    {
     "name": "stdout",
     "output_type": "stream",
     "text": [
      "10\n"
     ]
    }
   ],
   "source": [
    "print(10)"
   ]
  },
  {
   "cell_type": "code",
   "execution_count": 25,
   "metadata": {},
   "outputs": [
    {
     "data": {
      "text/plain": [
       "'3.1416'"
      ]
     },
     "execution_count": 25,
     "metadata": {},
     "output_type": "execute_result"
    }
   ],
   "source": [
    "pi = 3.14159\n",
    "format(pi, '.4f')"
   ]
  },
  {
   "cell_type": "code",
   "execution_count": null,
   "metadata": {},
   "outputs": [],
   "source": []
  }
 ],
 "metadata": {
  "kernelspec": {
   "display_name": "Python 3",
   "language": "python",
   "name": "python3"
  },
  "language_info": {
   "codemirror_mode": {
    "name": "ipython",
    "version": 3
   },
   "file_extension": ".py",
   "mimetype": "text/x-python",
   "name": "python",
   "nbconvert_exporter": "python",
   "pygments_lexer": "ipython3",
   "version": "3.8.5"
  }
 },
 "nbformat": 4,
 "nbformat_minor": 4
}
