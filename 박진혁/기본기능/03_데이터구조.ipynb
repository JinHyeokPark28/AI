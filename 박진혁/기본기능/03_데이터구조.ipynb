{
 "cells": [
  {
   "cell_type": "code",
   "execution_count": 2,
   "metadata": {},
   "outputs": [],
   "source": [
    "# 데이터 구조\n",
    "# 4가지의 타입이 존재합니다.\n",
    "# 1) 리스트\n",
    "# 2) 튜플\n",
    "# 3) 딕셔너리\n",
    "# 4) 셋\n",
    "\n",
    "# 리스트\n",
    "# 선언방법 -> 3가지가 있다.\n",
    "# 1) 변수이름 = []\n",
    "# 2) 변수이름 = list()\n",
    "# 3) 변수이름 = [데이터1, 데이터2, ...]"
   ]
  },
  {
   "cell_type": "code",
   "execution_count": 3,
   "metadata": {},
   "outputs": [
    {
     "name": "stdout",
     "output_type": "stream",
     "text": [
      "[]\n"
     ]
    }
   ],
   "source": [
    "myList1 = [] # 공백 상태의 리스트;\n",
    "print(myList1)"
   ]
  },
  {
   "cell_type": "code",
   "execution_count": 37,
   "metadata": {},
   "outputs": [
    {
     "name": "stdout",
     "output_type": "stream",
     "text": [
      "[]\n"
     ]
    }
   ],
   "source": [
    "myList2 = list() # 공백 상태의 리스트 \n",
    "# 예시처럼 값을 넣은 뒤 리스트 선언 가능\n",
    "print(myList2)"
   ]
  },
  {
   "cell_type": "code",
   "execution_count": 5,
   "metadata": {},
   "outputs": [
    {
     "name": "stdout",
     "output_type": "stream",
     "text": [
      "[1, 2, 3, 4, 5]\n"
     ]
    }
   ],
   "source": [
    "myList3 = [1,2,3,4,5] # 데이터가 있는 리스트\n",
    "print(myList3)"
   ]
  },
  {
   "cell_type": "code",
   "execution_count": 11,
   "metadata": {},
   "outputs": [
    {
     "data": {
      "text/plain": [
       "[[1, 2, 3, 4, 5, 6], 1]"
      ]
     },
     "execution_count": 11,
     "metadata": {},
     "output_type": "execute_result"
    }
   ],
   "source": [
    "# 어떤 데이터를 추가하고 싶을 때\n",
    "# 리스트의 이름.append(\"데이터\")\n",
    "myList1.append(1)\n",
    "myList1"
   ]
  },
  {
   "cell_type": "code",
   "execution_count": 17,
   "metadata": {},
   "outputs": [],
   "source": [
    "location = ['광주', '부산', '강릉']"
   ]
  },
  {
   "cell_type": "code",
   "execution_count": 21,
   "metadata": {},
   "outputs": [],
   "source": [
    "location.append('서울')\n",
    "location.append('울산')"
   ]
  },
  {
   "cell_type": "code",
   "execution_count": 24,
   "metadata": {},
   "outputs": [
    {
     "name": "stdout",
     "output_type": "stream",
     "text": [
      "['부산', '강릉', '울산', '서울', '광주']\n",
      "['부산', '강릉', '울산', '서울', '광주']\n"
     ]
    }
   ],
   "source": [
    "print(location)\n",
    "location = set(location)\n",
    "location = list(location)\n",
    "print(location)"
   ]
  },
  {
   "cell_type": "code",
   "execution_count": 25,
   "metadata": {},
   "outputs": [],
   "source": [
    "# .insert(인덱스 번호,\"데이터\")\n",
    "location.insert(2,'전주')"
   ]
  },
  {
   "cell_type": "code",
   "execution_count": 27,
   "metadata": {},
   "outputs": [
    {
     "data": {
      "text/plain": [
       "['부산', '강릉', '전주', '울산', '서울', '광주']"
      ]
     },
     "execution_count": 27,
     "metadata": {},
     "output_type": "execute_result"
    }
   ],
   "source": [
    "location"
   ]
  },
  {
   "cell_type": "code",
   "execution_count": 28,
   "metadata": {},
   "outputs": [
    {
     "data": {
      "text/plain": [
       "['공주', '부산', '강릉', '전주', '울산', '서울', '광주', '과천']"
      ]
     },
     "execution_count": 28,
     "metadata": {},
     "output_type": "execute_result"
    }
   ],
   "source": [
    "location.insert(0, \"공주\")\n",
    "location.append(\"과천\")\n",
    "location"
   ]
  },
  {
   "cell_type": "code",
   "execution_count": 29,
   "metadata": {},
   "outputs": [],
   "source": [
    "# 리스트 데이터 삭제방법\n",
    "# 2가지\n",
    "# del 리스트이름[인덱스번호]\n",
    "del location[7]"
   ]
  },
  {
   "cell_type": "code",
   "execution_count": 30,
   "metadata": {},
   "outputs": [
    {
     "data": {
      "text/plain": [
       "['공주', '부산', '강릉', '전주', '울산', '서울', '광주']"
      ]
     },
     "execution_count": 30,
     "metadata": {},
     "output_type": "execute_result"
    }
   ],
   "source": [
    "location"
   ]
  },
  {
   "cell_type": "code",
   "execution_count": 32,
   "metadata": {},
   "outputs": [],
   "source": [
    "# 리스트이름.remove('데이터')\n",
    "location.remove('강릉')"
   ]
  },
  {
   "cell_type": "code",
   "execution_count": 33,
   "metadata": {},
   "outputs": [
    {
     "data": {
      "text/plain": [
       "['공주', '부산', '전주', '울산', '서울', '광주']"
      ]
     },
     "execution_count": 33,
     "metadata": {},
     "output_type": "execute_result"
    }
   ],
   "source": [
    "location"
   ]
  },
  {
   "cell_type": "code",
   "execution_count": 34,
   "metadata": {},
   "outputs": [
    {
     "name": "stdout",
     "output_type": "stream",
     "text": [
      "['광저우', '부산', '전주', '울산', '서울', '광주']\n"
     ]
    }
   ],
   "source": [
    "# 데이터 수정\n",
    "# 리스트이름[인덱스 번호] = '수정할 데이터'\n",
    "location[0] = '광저우'\n",
    "print(location)"
   ]
  },
  {
   "cell_type": "code",
   "execution_count": 35,
   "metadata": {},
   "outputs": [
    {
     "name": "stdout",
     "output_type": "stream",
     "text": [
      "광저우 전주 서울\n"
     ]
    }
   ],
   "source": [
    "# 리스트 인덱스 번호상, 0, 2, 4 번 값만 나오게 출력\n",
    "print(location[0],location[2],location[4])\n",
    "# print()\n",
    "# print()"
   ]
  },
  {
   "cell_type": "code",
   "execution_count": 39,
   "metadata": {},
   "outputs": [
    {
     "name": "stdout",
     "output_type": "stream",
     "text": [
      "['광저우', '부산', '전주', '울산', '서울']\n"
     ]
    }
   ],
   "source": [
    "print(location[:-1])"
   ]
  },
  {
   "cell_type": "code",
   "execution_count": 45,
   "metadata": {},
   "outputs": [
    {
     "name": "stdout",
     "output_type": "stream",
     "text": [
      "[1, 304, 607, 910, 1213, 1516, 1819, 2122, 2425, 2728, 3031, 3334, 3637, 3940, 4243, 4546, 4849, 5152, 5455, 5758, 6061, 6364, 6667, 6970, 7273, 7576, 7879, 8182, 8485, 8788, 9091, 9394, 9697, 10000] "
     ]
    }
   ],
   "source": [
    "# location[start Number : end Number : Step]\n",
    "\n",
    "list1 = []\n",
    "for i in range(1, 10001):\n",
    "    list1.append(i)\n",
    "    \n",
    "# list1을 사용해서 5씩건너 뛰어서 출력하게 해주세요.\n",
    "print(list1[::303], end=' ')"
   ]
  },
  {
   "cell_type": "code",
   "execution_count": 46,
   "metadata": {},
   "outputs": [],
   "source": [
    "# 문자열, 정수타입도 리스트화 시킵니다.\n",
    "potter = 'Hagrid is bringing him to home.'\n",
    "\n",
    "potter_list  = ['harid', 'is', 'bringing', 'him', 'to', 'home.']"
   ]
  },
  {
   "cell_type": "code",
   "execution_count": 49,
   "metadata": {},
   "outputs": [
    {
     "name": "stdout",
     "output_type": "stream",
     "text": [
      "Hagrid is bringing him to home.\n"
     ]
    },
    {
     "data": {
      "text/plain": [
       "['Hagrid', 'is', 'bringing', 'him', 'to', 'home.']"
      ]
     },
     "execution_count": 49,
     "metadata": {},
     "output_type": "execute_result"
    }
   ],
   "source": [
    "\n",
    "# 문자열이 가지고 기능\n",
    "# split('기호, 특징')\n",
    "print(potter)\n",
    "potter.split()"
   ]
  },
  {
   "cell_type": "code",
   "execution_count": 61,
   "metadata": {},
   "outputs": [
    {
     "name": "stdout",
     "output_type": "stream",
     "text": [
      "4\n"
     ]
    }
   ],
   "source": [
    "post_address = '123-456'\n",
    "post = post_address.split('-')\n",
    "print(post[1][0])"
   ]
  },
  {
   "cell_type": "code",
   "execution_count": 63,
   "metadata": {},
   "outputs": [
    {
     "data": {
      "text/plain": [
       "['1234',\n",
       " '124',\n",
       " '124',\n",
       " '123',\n",
       " '4',\n",
       " '56',\n",
       " '74',\n",
       " '567',\n",
       " '34',\n",
       " '567',\n",
       " '3543',\n",
       " '62452456',\n",
       " '']"
      ]
     },
     "execution_count": 63,
     "metadata": {},
     "output_type": "execute_result"
    }
   ],
   "source": [
    "dotdot = '1234.124.124.123.4.56.74.567.34.567.3543.62452456.'\n",
    "dotdot.split('.')"
   ]
  },
  {
   "cell_type": "markdown",
   "metadata": {},
   "source": [
    "# Tuple\n"
   ]
  },
  {
   "cell_type": "code",
   "execution_count": 66,
   "metadata": {},
   "outputs": [
    {
     "name": "stdout",
     "output_type": "stream",
     "text": [
      "<class 'tuple'>\n"
     ]
    }
   ],
   "source": [
    "# 선언\n",
    "# 아나콘다에서 튜플을 선언할때 일반적인 공백의 튜플을 만들 수 없다.\n",
    "# 그래서 항상 값이 있는 튜플을 만들어야 한다.\n",
    "\n",
    "data = ()\n",
    "print(type(data))"
   ]
  },
  {
   "cell_type": "code",
   "execution_count": 69,
   "metadata": {},
   "outputs": [
    {
     "data": {
      "text/plain": [
       "(1, 4, 7)"
      ]
     },
     "execution_count": 69,
     "metadata": {},
     "output_type": "execute_result"
    }
   ],
   "source": [
    "# 공백 튜플 만드는 방법 = ()\n",
    "# 공백 튜플 만드는 방법tuple()\n",
    "# 데이터가 있는 튜플 만드는 방법(1,2,3,4,5)\n",
    "\n",
    "tup1 = (1,2,3,4,5,6,7,8,9,10)\n",
    "# 인덱스 번호를 사용할 수 있다.\n",
    "\n",
    "tup1[7]\n",
    "# 슬라이싱 기능을 사용할 수 있습니다.\n",
    "tup1[0:9:3]"
   ]
  },
  {
   "cell_type": "code",
   "execution_count": 70,
   "metadata": {},
   "outputs": [
    {
     "ename": "NameError",
     "evalue": "name 'tu1' is not defined",
     "output_type": "error",
     "traceback": [
      "\u001b[1;31m---------------------------------------------------------------------------\u001b[0m",
      "\u001b[1;31mNameError\u001b[0m                                 Traceback (most recent call last)",
      "\u001b[1;32m<ipython-input-70-1237cfe1001d>\u001b[0m in \u001b[0;36m<module>\u001b[1;34m\u001b[0m\n\u001b[0;32m      2\u001b[0m \u001b[0mtup1\u001b[0m \u001b[1;33m=\u001b[0m \u001b[1;33m(\u001b[0m\u001b[1;36m1\u001b[0m\u001b[1;33m,\u001b[0m\u001b[1;36m2\u001b[0m\u001b[1;33m,\u001b[0m\u001b[1;36m3\u001b[0m\u001b[1;33m)\u001b[0m\u001b[1;33m\u001b[0m\u001b[1;33m\u001b[0m\u001b[0m\n\u001b[0;32m      3\u001b[0m \u001b[0mtup2\u001b[0m \u001b[1;33m=\u001b[0m \u001b[1;33m(\u001b[0m\u001b[1;36m4\u001b[0m\u001b[1;33m,\u001b[0m\u001b[1;36m5\u001b[0m\u001b[1;33m,\u001b[0m\u001b[1;36m6\u001b[0m\u001b[1;33m)\u001b[0m\u001b[1;33m\u001b[0m\u001b[1;33m\u001b[0m\u001b[0m\n\u001b[1;32m----> 4\u001b[1;33m \u001b[0mtu1\u001b[0m \u001b[1;33m+\u001b[0m \u001b[0mtup2\u001b[0m\u001b[1;33m\u001b[0m\u001b[1;33m\u001b[0m\u001b[0m\n\u001b[0m\u001b[0;32m      5\u001b[0m \u001b[1;33m\u001b[0m\u001b[0m\n\u001b[0;32m      6\u001b[0m \u001b[1;31m# 값을 추가 하고 싶다면?\u001b[0m\u001b[1;33m\u001b[0m\u001b[1;33m\u001b[0m\u001b[1;33m\u001b[0m\u001b[0m\n",
      "\u001b[1;31mNameError\u001b[0m: name 'tu1' is not defined"
     ]
    }
   ],
   "source": [
    "# 튜플은 튜플끼리 연산이 가능합니다.\n",
    "tup1 = (1,2,3)\n",
    "tup2 = (4,5,6)\n",
    "tu1 + tup2\n"
   ]
  },
  {
   "cell_type": "code",
   "execution_count": 74,
   "metadata": {},
   "outputs": [
    {
     "name": "stdout",
     "output_type": "stream",
     "text": [
      "(1, 2, 3)\n",
      "(4, 3, 5, 8)\n"
     ]
    }
   ],
   "source": [
    "\n",
    "# 값을 추가 하고 싶다면?\n",
    "# 튜플은 값을 추가할 수 없습니다.\n",
    "# 튜플은 값을 수정할 수 없습니다.\n",
    "# 튜플을 값을 삭제할 수 없습니다.\n",
    "# 튜플을 리스트화 -> 추가,삭제,수정을 한 뒤 -> 튜플화\n",
    "tup1 = (1,2,3)\n",
    "# 리스트화 -> 5, 8을 추가한 뒤,  삭제 2를 하고 1를 4로 바꾼뒤\n",
    "# 다시 튜플화하기\n",
    "print(tup1)\n",
    "tup1 = list(tup1)\n",
    "tup1.append(5)\n",
    "tup1.append(8)\n",
    "del tup1[1]\n",
    "tup1[0] = 4\n",
    "tup1 = tuple(tup1) \n",
    "print(tup1)"
   ]
  },
  {
   "cell_type": "code",
   "execution_count": 75,
   "metadata": {},
   "outputs": [
    {
     "name": "stdout",
     "output_type": "stream",
     "text": [
      "1 2\n"
     ]
    }
   ],
   "source": [
    "x = 1\n",
    "y = 2\n",
    "\n",
    "print(x,y)"
   ]
  },
  {
   "cell_type": "code",
   "execution_count": 76,
   "metadata": {},
   "outputs": [
    {
     "name": "stdout",
     "output_type": "stream",
     "text": [
      "2 1\n"
     ]
    }
   ],
   "source": [
    "temp = x\n",
    "x = y\n",
    "y = temp\n",
    "print(x, y)"
   ]
  },
  {
   "cell_type": "code",
   "execution_count": 2,
   "metadata": {},
   "outputs": [
    {
     "name": "stdout",
     "output_type": "stream",
     "text": [
      "1 2\n",
      "2 1\n"
     ]
    }
   ],
   "source": [
    "x = 1 \n",
    "y = 2\n",
    "print (x, y)\n",
    "x, y = y, x\n",
    "print(x, y)"
   ]
  },
  {
   "cell_type": "markdown",
   "metadata": {},
   "source": [
    "# Dictionary"
   ]
  },
  {
   "cell_type": "code",
   "execution_count": 14,
   "metadata": {},
   "outputs": [
    {
     "name": "stdout",
     "output_type": "stream",
     "text": [
      "{}\n"
     ]
    }
   ],
   "source": [
    "# 선언\n",
    "# 리스트 선언 = []\n",
    "# 튜플 선언 = ()\n",
    "# 딕셔너리 선언 = {}\n",
    "data_dict = {}\n",
    "# 공백 상태의 딕셔너리\n",
    "print(data_dict)\n",
    "# 공백 상태의 딕셔너리\n",
    "data_dict2 = dict()\n",
    "# 데이터가 있는 딕셔너리\n",
    "data_dict3 = {\"LOL\" : \"AOS\",\"배틀그라운드\" : \"TPS/FPS\" }"
   ]
  },
  {
   "cell_type": "code",
   "execution_count": 15,
   "metadata": {},
   "outputs": [],
   "source": [
    "# 자기가 좋아하는 것들을 사용해서 딕셔너리를 만들어 보세요\n",
    "# 최소 3개 이상의 아이템을 포함한 딕셔너리를 만들어주세요.\n",
    "Foods = {\"떡볶이\" : \"삼첩분식\", \"피자\" : \"조각피자\", \"커피\" : \"스벅\"}"
   ]
  },
  {
   "cell_type": "code",
   "execution_count": 16,
   "metadata": {},
   "outputs": [],
   "source": [
    "#딕셔너리 데이터 추가\n",
    "# 딕셔너리이름[\"추가할 키값\"] = \"추가할 밸류값\"\n",
    "Foods[\"스테이크\"] = \"빕스\""
   ]
  },
  {
   "cell_type": "code",
   "execution_count": 17,
   "metadata": {},
   "outputs": [
    {
     "data": {
      "text/plain": [
       "{'떡볶이': '삼첩분식', '피자': '조각피자', '커피': '스벅', '스테이크': '빕스'}"
      ]
     },
     "execution_count": 17,
     "metadata": {},
     "output_type": "execute_result"
    }
   ],
   "source": [
    "Foods"
   ]
  },
  {
   "cell_type": "code",
   "execution_count": 18,
   "metadata": {},
   "outputs": [],
   "source": [
    "# 삭제\n",
    "# 딕셔너리의 데이터 삭제?\n",
    "# del 딕셔너리 이름['키값']\n",
    "del Foods[\"커피\"]"
   ]
  },
  {
   "cell_type": "code",
   "execution_count": 19,
   "metadata": {},
   "outputs": [
    {
     "data": {
      "text/plain": [
       "{'떡볶이': '삼첩분식', '피자': '조각피자', '스테이크': '빕스'}"
      ]
     },
     "execution_count": 19,
     "metadata": {},
     "output_type": "execute_result"
    }
   ],
   "source": [
    "Foods"
   ]
  },
  {
   "cell_type": "code",
   "execution_count": 22,
   "metadata": {},
   "outputs": [
    {
     "name": "stdout",
     "output_type": "stream",
     "text": [
      "{'떡볶이': '삼첩분식', '피자': '조각피자', '스테이크': '빕스', '사탕': '춥팟춥수'}\n",
      "{'떡볶이': '삼첩분식', '피자': '조각피자', '스테이크': '빕스', '사탕': '춥파춥스'}\n",
      "{'떡볶이': '삼첩분식', '피자': '조각피자', '사탕': '춥파춥스', 'Steak': '빕스'}\n"
     ]
    }
   ],
   "source": [
    "# 밸류값 수정\n",
    "# 키값은 수정 X\n",
    "Foods[\"사탕\"] = \"춥팟춥수\"\n",
    "print(Foods)\n",
    "Foods[\"사탕\"] = \"춥파춥스\"\n",
    "print(Foods)\n",
    "\n",
    "# 키값 수정 안됨\n",
    "del Foods[\"스테이크\"]\n",
    "Foods[\"Steak\"] = \"빕스\"\n",
    "print(Foods)"
   ]
  },
  {
   "cell_type": "code",
   "execution_count": 24,
   "metadata": {},
   "outputs": [
    {
     "name": "stdout",
     "output_type": "stream",
     "text": [
      "{'갓오브워': [2018, 'PS4', 94, 9.2]}\n"
     ]
    }
   ],
   "source": [
    "Goty = {\"갓오브워\" : [2018, \"PS4\", 94, 9.2]}\n",
    "print(Goty)"
   ]
  },
  {
   "cell_type": "code",
   "execution_count": 26,
   "metadata": {},
   "outputs": [
    {
     "data": {
      "text/plain": [
       "dict_keys(['떡볶이', '피자', '사탕', 'Steak'])"
      ]
     },
     "execution_count": 26,
     "metadata": {},
     "output_type": "execute_result"
    }
   ],
   "source": [
    "Foods.keys()"
   ]
  },
  {
   "cell_type": "code",
   "execution_count": 28,
   "metadata": {},
   "outputs": [
    {
     "data": {
      "text/plain": [
       "dict_values(['삼첩분식', '조각피자', '춥파춥스', '빕스'])"
      ]
     },
     "execution_count": 28,
     "metadata": {},
     "output_type": "execute_result"
    }
   ],
   "source": [
    "Foods.values()"
   ]
  },
  {
   "cell_type": "code",
   "execution_count": 35,
   "metadata": {},
   "outputs": [
    {
     "name": "stdout",
     "output_type": "stream",
     "text": [
      "value =  삼첩분식\n",
      "\n",
      "value =  조각피자\n",
      "\n",
      "value =  춥파춥스\n",
      "\n",
      "value =  빕스\n",
      "\n"
     ]
    }
   ],
   "source": [
    "# 딕셔너리는 보통 for문을 이용해서 가져옵니다.\n",
    "# 반복문을 통해서 안에 있는 정보를 가져옵니다.\n",
    "for i, c in Foods.items():\n",
    "    print(\"value = \", c)\n",
    "    print()"
   ]
  },
  {
   "cell_type": "markdown",
   "metadata": {},
   "source": [
    "# Set\n",
    "- 수학집합연산을 쉽게 하기 위해서 사용하는 자료형"
   ]
  },
  {
   "cell_type": "code",
   "execution_count": 42,
   "metadata": {},
   "outputs": [
    {
     "name": "stdout",
     "output_type": "stream",
     "text": [
      "set()\n",
      "{'쫄면', '김밥', '군만두'}\n"
     ]
    }
   ],
   "source": [
    "# 선언\n",
    "# 4가지\n",
    "data_set=set() # 공백상태의 set을 선언\n",
    "print(data_set)\n",
    "#data_dict = { \"김밥\" : \"분식\" , }\n",
    "data_set = {'김밥', '쫄면', '군만두'}\n",
    "print(data_set)"
   ]
  },
  {
   "cell_type": "code",
   "execution_count": 45,
   "metadata": {},
   "outputs": [
    {
     "ename": "TypeError",
     "evalue": "set expected at most 1 argument, got 3",
     "output_type": "error",
     "traceback": [
      "\u001b[1;31m---------------------------------------------------------------------------\u001b[0m",
      "\u001b[1;31mTypeError\u001b[0m                                 Traceback (most recent call last)",
      "\u001b[1;32m<ipython-input-45-aa4bc1bc9749>\u001b[0m in \u001b[0;36m<module>\u001b[1;34m\u001b[0m\n\u001b[0;32m      1\u001b[0m \u001b[1;31m# 3)data_set = set(\"아이폰12\")\u001b[0m\u001b[1;33m\u001b[0m\u001b[1;33m\u001b[0m\u001b[1;33m\u001b[0m\u001b[0m\n\u001b[1;32m----> 2\u001b[1;33m \u001b[0mdata_set\u001b[0m \u001b[1;33m=\u001b[0m \u001b[0mset\u001b[0m\u001b[1;33m(\u001b[0m\u001b[1;34m\"아이폰12\"\u001b[0m\u001b[1;33m,\u001b[0m \u001b[1;34m\"아이폰11\"\u001b[0m\u001b[1;33m,\u001b[0m \u001b[1;34m\"아이폰10\"\u001b[0m\u001b[1;33m)\u001b[0m\u001b[1;33m\u001b[0m\u001b[1;33m\u001b[0m\u001b[0m\n\u001b[0m\u001b[0;32m      3\u001b[0m \u001b[0mdata_set\u001b[0m\u001b[1;33m\u001b[0m\u001b[1;33m\u001b[0m\u001b[0m\n",
      "\u001b[1;31mTypeError\u001b[0m: set expected at most 1 argument, got 3"
     ]
    }
   ],
   "source": [
    "# 3)data_set = set(\"아이폰12\")\n",
    "# set(\"넣을 데이터\") -> 무조건 1개의 데이터만 넣어야 한다.\n",
    "# 그 이상 넣었을 경우 에러가 난다.\n",
    "# 데이터를 넣게 되면 쪼개져서 데이터가 입력이 된다.\n",
    "# data_set = set(\"아이폰12\", \"아이폰11\", \"아이폰10\")\n",
    "data_set"
   ]
  },
  {
   "cell_type": "code",
   "execution_count": 47,
   "metadata": {},
   "outputs": [
    {
     "data": {
      "text/plain": [
       "{'김밥', '만두', '쫄면'}"
      ]
     },
     "execution_count": 47,
     "metadata": {},
     "output_type": "execute_result"
    }
   ],
   "source": [
    "# 4) data_set = set({데이터1, 데이터2, 데이터3 ...})\n",
    "data_set = set({\"김밥\", \"쫄면\", \"만두\"})\n",
    "data_set"
   ]
  },
  {
   "cell_type": "code",
   "execution_count": 49,
   "metadata": {},
   "outputs": [
    {
     "data": {
      "text/plain": [
       "{'lg', 'samsung'}"
      ]
     },
     "execution_count": 49,
     "metadata": {},
     "output_type": "execute_result"
    }
   ],
   "source": [
    "# 스마트폰을 생산하는 회사\n",
    "smart = {'apple', 'samsung', 'lg'}\n",
    "furni = {'samsung', 'lg', 'xiaomi'}\n",
    "\n",
    "# smart, furni 를 사용해서\n",
    "# 교집합인지,합집합인지를 보고\n",
    "# 정리를 해주시면 됩니다.\n",
    "\n",
    "# 교집합\n",
    "smart & furni"
   ]
  },
  {
   "cell_type": "code",
   "execution_count": 50,
   "metadata": {},
   "outputs": [
    {
     "data": {
      "text/plain": [
       "{'apple', 'lg', 'samsung', 'xiaomi'}"
      ]
     },
     "execution_count": 50,
     "metadata": {},
     "output_type": "execute_result"
    }
   ],
   "source": [
    "# 합집합\n",
    "smart | furni"
   ]
  },
  {
   "cell_type": "code",
   "execution_count": 51,
   "metadata": {},
   "outputs": [
    {
     "data": {
      "text/plain": [
       "{'apple', 'xiaomi'}"
      ]
     },
     "execution_count": 51,
     "metadata": {},
     "output_type": "execute_result"
    }
   ],
   "source": [
    "# 여집합 \n",
    "smart ^ furni"
   ]
  },
  {
   "cell_type": "code",
   "execution_count": 52,
   "metadata": {},
   "outputs": [
    {
     "data": {
      "text/plain": [
       "{'apple'}"
      ]
     },
     "execution_count": 52,
     "metadata": {},
     "output_type": "execute_result"
    }
   ],
   "source": [
    "# 차집합\n",
    "smart - furni"
   ]
  },
  {
   "cell_type": "code",
   "execution_count": 54,
   "metadata": {},
   "outputs": [
    {
     "data": {
      "text/plain": [
       "{'김밥', '달걀', '당근', '오이'}"
      ]
     },
     "execution_count": 54,
     "metadata": {},
     "output_type": "execute_result"
    }
   ],
   "source": [
    "# Set은 여러개의같은 정보를 가지고 있을 겨우\n",
    "# 중복을 제거합니다.\n",
    "data_set = {\"김밥\", \"김밥\", \"당근\", \"오이\", \"달걀\"}\n",
    "data_set"
   ]
  },
  {
   "cell_type": "code",
   "execution_count": null,
   "metadata": {},
   "outputs": [],
   "source": []
  }
 ],
 "metadata": {
  "kernelspec": {
   "display_name": "Python 3",
   "language": "python",
   "name": "python3"
  },
  "language_info": {
   "codemirror_mode": {
    "name": "ipython",
    "version": 3
   },
   "file_extension": ".py",
   "mimetype": "text/x-python",
   "name": "python",
   "nbconvert_exporter": "python",
   "pygments_lexer": "ipython3",
   "version": "3.8.5"
  }
 },
 "nbformat": 4,
 "nbformat_minor": 4
}
