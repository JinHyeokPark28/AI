{
 "cells": [
  {
   "cell_type": "code",
   "execution_count": 2,
   "metadata": {},
   "outputs": [
    {
     "ename": "SystemExit",
     "evalue": "",
     "output_type": "error",
     "traceback": [
      "An exception has occurred, use %tb to see the full traceback.\n",
      "\u001b[1;31mSystemExit\u001b[0m\n"
     ]
    }
   ],
   "source": [
    "from pygame.locals import QUIT, KEYDOWN, K_LEFT, K_UP, K_RIGHT, K_DOWN, Rect\n",
    "import pygame\n",
    "import sys\n",
    "import random\n",
    "\n",
    "pygame.init()\n",
    "SURFACE = pygame.display.set_mode((600, 600))\n",
    "FPSCLOCK = pygame.time.Clock()\n",
    "\n",
    "# 뱀의 먹이 리스트\n",
    "FOODS = []\n",
    "# 뱀의 길이 리스트\n",
    "SNAKE = []\n",
    "# 칸의 크기(뱀, 먹이, 공백의 칸)\n",
    "(W, H) = (20, 20)\n",
    "\n",
    "# 먹이를 추가하는 메서드\n",
    "def add_food():\n",
    "    while True:\n",
    "        pos = (random.randint(0, W - 1), random.randint(0, H - 1))\n",
    "        if pos in FOODS or pos in SNAKE:\n",
    "            continue\n",
    "        FOODS.append(pos)\n",
    "        break\n",
    "        \n",
    "def move_food(pos):\n",
    "    i  = FOODS.index(pos)\n",
    "    del FOODS[i]\n",
    "    add_food()\n",
    "    \n",
    "def paint(message, score):\n",
    "    SURFACE.fill((0,0,0))\n",
    "    for food in FOODS:\n",
    "        pygame.draw.ellipse(SURFACE, (0, 255, 0), Rect(food[0] * 30, food[1] * 30, 30, 30))\n",
    "    for body in SNAKE:\n",
    "        pygame.draw.rect(SURFACE, (0, 255, 255), Rect(body[0] * 30, body[1] * 30, 30, 30))\n",
    "    for index in range(20):\n",
    "        pygame.draw.line(SURFACE, (64, 64, 64), (index * 30, 0), (index * 30, 600))\n",
    "        pygame.draw.line(SURFACE, (64, 64, 64), (0, index * 30), (600, index * 30))\n",
    "    # 게임 오버가 되었을 때 그려줍니다.\n",
    "    if message != None:\n",
    "        SURFACE.blit(message, (150, 300))\n",
    "        SURFACE.blit(score, (150, 350))\n",
    "    pygame.display.update()\n",
    "    \n",
    "def main():\n",
    "    myfont = pygame.font.SysFont(None, 80)\n",
    "    key = K_DOWN\n",
    "    message = None\n",
    "    score = 0\n",
    "    game_over = False\n",
    "    # 스네이크의 초기 위치값\n",
    "    SNAKE.append((int(W/2), int(H/2)))\n",
    "    # 먹이를 랜덤으로 퍼트립니다.\n",
    "    for _ in range(15):\n",
    "        add_food()\n",
    "    \n",
    "    while True:\n",
    "        for event in pygame.event.get():\n",
    "            if event.type == QUIT:\n",
    "                pygame.quit()\n",
    "                sys.exit()\n",
    "            elif event.type == KEYDOWN:\n",
    "                key = event.key\n",
    "                \n",
    "        if not game_over:\n",
    "            # 스네이크의 움직임\n",
    "            if key == K_LEFT:\n",
    "                head = (SNAKE[0][0] - 1, SNAKE[0][1])\n",
    "            elif key == K_RIGHT:\n",
    "                head = (SNAKE[0][0] + 1, SNAKE[0][1])\n",
    "            elif key == K_UP:\n",
    "                head = (SNAKE[0][0], SNAKE[0][1] - 1)\n",
    "            elif key == K_DOWN:\n",
    "                head = (SNAKE[0][0], SNAKE[0][1] + 1)\n",
    "            if head in SNAKE or head[0] < 0 or head[0] >= W or head[1] < 0 or \\\n",
    "            head[1] >= H:\n",
    "                message = myfont.render('GAME OVER!!', True, (255, 255, 255))\n",
    "                score = myfont.render(\"Score : {}\".format(score), True, (255, 255, 255))\n",
    "                game_over = True\n",
    "            \n",
    "            SNAKE.insert(0, head)\n",
    "            if head in FOODS:\n",
    "                move_food(head)\n",
    "                score += 500\n",
    "            else:\n",
    "                SNAKE.pop()\n",
    "        paint(message, score)\n",
    "        fps = 5\n",
    "        fps += 1\n",
    "        FPSCLOCK.tick(fps)\n",
    "        if fps == 150:\n",
    "            fps = 150\n",
    "    \n",
    "if __name__ == \"__main__\":\n",
    "    main()\n",
    "            \n",
    "                "
   ]
  },
  {
   "cell_type": "code",
   "execution_count": 9,
   "metadata": {},
   "outputs": [
    {
     "data": {
      "text/plain": [
       "2"
      ]
     },
     "execution_count": 9,
     "metadata": {},
     "output_type": "execute_result"
    }
   ],
   "source": []
  },
  {
   "cell_type": "code",
   "execution_count": null,
   "metadata": {},
   "outputs": [],
   "source": []
  }
 ],
 "metadata": {
  "kernelspec": {
   "display_name": "Python 3",
   "language": "python",
   "name": "python3"
  },
  "language_info": {
   "codemirror_mode": {
    "name": "ipython",
    "version": 3
   },
   "file_extension": ".py",
   "mimetype": "text/x-python",
   "name": "python",
   "nbconvert_exporter": "python",
   "pygments_lexer": "ipython3",
   "version": "3.8.5"
  }
 },
 "nbformat": 4,
 "nbformat_minor": 4
}
