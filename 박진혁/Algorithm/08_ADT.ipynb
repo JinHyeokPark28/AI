{
 "cells": [
  {
   "cell_type": "code",
   "execution_count": 2,
   "metadata": {},
   "outputs": [],
   "source": [
    "# ADT : 추상 데이터 타입\n",
    "# Abstract Data Type\n",
    "# 기본적인 수학적 모델\n",
    "# 각기 클래스는 다르지만 기능적으로 동일하게 구현된 자료구조입니다.\n",
    "# 배열 기반, 포인터 기반\n",
    "# 배열 기반 추상 데이터 타입\n",
    "# 문자열, 리스트, 튜플, 딕셔너리"
   ]
  },
  {
   "cell_type": "code",
   "execution_count": 8,
   "metadata": {},
   "outputs": [
    {
     "name": "stdout",
     "output_type": "stream",
     "text": [
      "스택이 비었습니까 ? True\n",
      "스택에 값을 추가합니다.\n",
      "스택의 크기 : 20\n",
      "스택의 peek : 19\n",
      "스택의 pop : 19\n",
      "스택이 비었나요? False\n",
      "[0, 1, 2, 3, 4, 5, 6, 7, 8, 9, 10, 11, 12, 13, 14, 15, 16, 17, 18]\n"
     ]
    }
   ],
   "source": [
    "# 스택\n",
    "# 배열의 끝에서 데이터를 접근할수있는 선형 자료구조입니다.\n",
    "# 인덱스 접근이 제한, LIFO\n",
    "# push : 스택의 맨 끝에(맨위에) 항목을 삽입\n",
    "# pop : 스택의 맨 끝 항목을 반환하는 동시에 제거\n",
    "# empty : 스택이 비었는지 확인\n",
    "# 오래된 알고리즘 책, 교재\n",
    "# peek/top : 스택 맨 끝의 항목을 조회\n",
    "# size : 스택의 크기를 조회\n",
    "class Stack(object):\n",
    "    def __init__(self):\n",
    "        self.items = []\n",
    "    \n",
    "    def isEmpty(self):\n",
    "        return not bool(self.items)\n",
    "    \n",
    "    def push(self, value):\n",
    "        self.items.append(value)\n",
    "    def pop(self):\n",
    "        value = self.items.pop()\n",
    "        if value is not None:\n",
    "            return value\n",
    "        else:\n",
    "            print(\"스택이 비었습니다.\")\n",
    "            \n",
    "    def size(self):\n",
    "        return len(self.items)\n",
    "    \n",
    "    def peek(self):\n",
    "        if self.items:\n",
    "            return self.items[-1]\n",
    "        else:\n",
    "            print(\"스택이 비었습니다.\")\n",
    "            \n",
    "    def __repr__(self):\n",
    "        return repr(self.items)\n",
    "    \n",
    "if __name__ == \"__main__\":\n",
    "    stack = Stack()\n",
    "    print('스택이 비었습니까 ? {0}'.format(stack.isEmpty()))\n",
    "    print('스택에 값을 추가합니다.')\n",
    "    for i in range(20):\n",
    "        stack.push(i)\n",
    "    print('스택의 크기 : {0}'.format(stack.size()))\n",
    "    print('스택의 peek : {0}'.format(stack.peek()))\n",
    "    print('스택의 pop : {0}'.format(stack.pop()))\n",
    "    print('스택이 비었나요? {0}'.format(stack.isEmpty()))\n",
    "    print(stack)"
   ]
  },
  {
   "cell_type": "code",
   "execution_count": 12,
   "metadata": {},
   "outputs": [
    {
     "name": "stdout",
     "output_type": "stream",
     "text": [
      "스택이 비었습니까 ? True\n",
      "스택에 값을 추가합니다.\n",
      "스택의 크기 : 20\n",
      "스택의 peek : 19\n",
      "스택의 pop : 19\n",
      "스택이 비었나요? False\n",
      "18 17 16 15 14 13 12 11 10 9 8 7 6 5 4 3 2 1 0 \n"
     ]
    }
   ],
   "source": [
    "\n",
    "class Node(object):\n",
    "    def __init__(self, value=None, pointer=None):\n",
    "        self.value = value\n",
    "        self.pointer = pointer\n",
    "\n",
    "class Stack(object):\n",
    "    def __init__(self):\n",
    "        self.head = None\n",
    "        self.count = 0\n",
    "        \n",
    "    def isEmpty(self):\n",
    "        return not bool(self.head)\n",
    "    def push(self, item):\n",
    "        self.head = Node(item, self.head)\n",
    "        self.count += 1\n",
    "    def pop(self):\n",
    "        if self.count > 0 and self.head:\n",
    "            node = self.head\n",
    "            self.head = node.pointer\n",
    "            self.count -= 1\n",
    "            return node.value\n",
    "        else:\n",
    "            print('스택이 비었습니다.')\n",
    "    def peek(self):\n",
    "        if self.count > 0 and self.head:\n",
    "            return self.head.value\n",
    "        else:\n",
    "            print('스택이 비었습니다.')\n",
    "            \n",
    "    def size(self):\n",
    "        return self.count\n",
    "    \n",
    "    def _print(self):\n",
    "        node = self.head\n",
    "        while node:\n",
    "            print(node.value, end =' ')\n",
    "            node = node.pointer\n",
    "        print()\n",
    "\n",
    "if __name__ == \"__main__\":\n",
    "    stack = Stack()\n",
    "    print('스택이 비었습니까 ? {0}'.format(stack.isEmpty()))\n",
    "    print('스택에 값을 추가합니다.')\n",
    "    for i in range(20):\n",
    "        stack.push(i)\n",
    "    print('스택의 크기 : {0}'.format(stack.size()))\n",
    "    print('스택의 peek : {0}'.format(stack.peek()))\n",
    "    print('스택의 pop : {0}'.format(stack.pop()))\n",
    "    print('스택이 비었나요? {0}'.format(stack.isEmpty()))\n",
    "    stack._print()"
   ]
  },
  {
   "cell_type": "code",
   "execution_count": null,
   "metadata": {},
   "outputs": [],
   "source": [
    "x, y = 1, 2\n",
    "temp = x\n",
    "x = y\n"
   ]
  }
 ],
 "metadata": {
  "kernelspec": {
   "display_name": "Python 3",
   "language": "python",
   "name": "python3"
  },
  "language_info": {
   "codemirror_mode": {
    "name": "ipython",
    "version": 3
   },
   "file_extension": ".py",
   "mimetype": "text/x-python",
   "name": "python",
   "nbconvert_exporter": "python",
   "pygments_lexer": "ipython3",
   "version": "3.8.5"
  }
 },
 "nbformat": 4,
 "nbformat_minor": 4
}
