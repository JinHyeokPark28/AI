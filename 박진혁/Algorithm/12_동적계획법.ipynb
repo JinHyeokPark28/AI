{
 "cells": [
  {
   "cell_type": "code",
   "execution_count": 5,
   "metadata": {},
   "outputs": [],
   "source": [
    "from functools import wraps\n",
    "import time\n",
    "# 어떤 메서드인지 분석해보기!\n",
    "def benchmark(method):\n",
    "    @wraps(method)\n",
    "    def timed(*args, **kwargs):\n",
    "        # ts : time start 준말, time.time() : time내부에 있는 시간을 측정합니다.\n",
    "        ts = time.time()\n",
    "        # *args : 튜플 형식으로 입력\n",
    "        # **kwargs : 딕셔너리 형식으로 입력\n",
    "        result = method(*args, **kwargs)\n",
    "        te = time.time()\n",
    "        print(\"{0}:{1:0.2f},s\".format(method.__name__, ((te-ts)* 1000)))\n",
    "        return result\n",
    "    return timed\n"
   ]
  },
  {
   "cell_type": "code",
   "execution_count": 6,
   "metadata": {},
   "outputs": [
    {
     "name": "stdout",
     "output_type": "stream",
     "text": [
      "14930352\n",
      "test_fib:2785.24,s\n",
      "14930352\n",
      "test_fib2:0.00,s\n",
      "14930352\n",
      "test_fib3:0.00,s\n"
     ]
    }
   ],
   "source": [
    "# 동적계획법이란 ?\n",
    "# 복잡한 문제를 재귀를 통해서 간단한 하위 문제로 분류한 다음 단순화해서 해결하는 방법\n",
    "\n",
    "# 1) 최적 부분 구조\n",
    "# - 답을 구하기 위해서 했던 계산을 반복을 해야하는 문제의 구조\n",
    "# 2) 중복되는 부분 문제\n",
    "# - 문제를 푸는 과정에서 저장된 결과를 사용하는 경우\n",
    "\n",
    "# 메모이제이션\n",
    "# 프로그램이 동일한 계산을 반복할 때, 이전에 계산한 값을 메모리에 저장해서\n",
    "# 동일한 계산의 반복 수행을 제거하고 프로그램의 실행 속도를 빠르게 하는 기법\n",
    "\n",
    "# 피보나치 수열  3가지 방법 만들기!\n",
    "\n",
    "def memo(func):\n",
    "    cache = {}\n",
    "    \n",
    "    @wraps(func)\n",
    "    def wrap(*args):\n",
    "        if args not in cache:\n",
    "            cache[args] = func(*args)\n",
    "        return cache[args]\n",
    "    return wrap\n",
    "\n",
    "def fib(n):\n",
    "    if n < 2:\n",
    "        return 1\n",
    "    else:\n",
    "        return fib(n-1) + fib(n - 2)\n",
    "@memo\n",
    "def fib2(n):\n",
    "    if n < 2:\n",
    "        return 1\n",
    "    else:\n",
    "        return fib2(n-1) +fib2(n-2)\n",
    "\n",
    "def fib3(m,n):\n",
    "    if m[n] == 0:\n",
    "        m[n] = fib3(m, n-1) + fib3(m, n-2)\n",
    "    return m[n]\n",
    "\n",
    "@benchmark\n",
    "def test_fib(n):\n",
    "    print(fib(n))\n",
    "@benchmark    \n",
    "def test_fib2(n):\n",
    "    print(fib2(n))\n",
    "@benchmark\n",
    "def test_fib3(n):\n",
    "    m = [0] * (n + 1)\n",
    "    m[0], m[1] = 1, 1\n",
    "    print(fib3(m,n))\n",
    "    \n",
    "if __name__ == \"__main__\":\n",
    "    n = 35\n",
    "    test_fib(n)\n",
    "    test_fib2(n)\n",
    "    test_fib3(n)"
   ]
  },
  {
   "cell_type": "code",
   "execution_count": null,
   "metadata": {},
   "outputs": [],
   "source": []
  }
 ],
 "metadata": {
  "kernelspec": {
   "display_name": "Python 3",
   "language": "python",
   "name": "python3"
  },
  "language_info": {
   "codemirror_mode": {
    "name": "ipython",
    "version": 3
   },
   "file_extension": ".py",
   "mimetype": "text/x-python",
   "name": "python",
   "nbconvert_exporter": "python",
   "pygments_lexer": "ipython3",
   "version": "3.8.5"
  }
 },
 "nbformat": 4,
 "nbformat_minor": 4
}
