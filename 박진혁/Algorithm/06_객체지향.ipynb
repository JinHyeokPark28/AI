{
 "cells": [
  {
   "cell_type": "code",
   "execution_count": 1,
   "metadata": {},
   "outputs": [
    {
     "data": {
      "text/plain": [
       "Circle(x=13, y=81, radius=9)"
      ]
     },
     "execution_count": 1,
     "metadata": {},
     "output_type": "execute_result"
    }
   ],
   "source": [
    "# 원을 나타내는 객체\n",
    "import collections\n",
    "circle = collections.namedtuple('Circle', 'x y radius')\n",
    "circle # 객체 정보\n",
    "circle = circle(13, 81, 9)\n",
    "circle"
   ]
  },
  {
   "cell_type": "code",
   "execution_count": 2,
   "metadata": {},
   "outputs": [],
   "source": [
    "# 클래스 : 사전에 정의된 특별한 데이터와 메서드의 집합\n",
    "# 클래스에 선언된 실체 -> 객체\n",
    "# 객체가 메모리 할당되어서 사용이 될때 -> 인스턴스\n",
    "# 객체는 인스턴스에 포함되며 전체적인 포괄적 의미로 사용이 됩니다.\n",
    "class tempclass:\n",
    "    # 메서드 1\n",
    "    # 메서드 2\n",
    "    # ...\n",
    "    pass"
   ]
  },
  {
   "cell_type": "code",
   "execution_count": 3,
   "metadata": {},
   "outputs": [
    {
     "data": {
      "text/plain": [
       "<__main__.tempclass at 0x2306b7622e0>"
      ]
     },
     "execution_count": 3,
     "metadata": {},
     "output_type": "execute_result"
    }
   ],
   "source": [
    "temp = tempclass()\n",
    "temp"
   ]
  },
  {
   "cell_type": "code",
   "execution_count": 4,
   "metadata": {},
   "outputs": [],
   "source": [
    "# 클래스의 인스턴스 생성?\n",
    "# 함수 표기법을 사용해서 [초기 상태]로 만들어줍니다.\n",
    "# 인스턴스 생성 작업은 어떤 특징을 가진 비어있는 객체를 만들어 주는 작업\n",
    "# 여러 이름을 같은 객체에 바인딩(에일리어싱)할 수 있습니다.\n",
    "# 처음에 클래스를 호출했을 때 객체가 생성되는 이 때 이 클래스를 [생성자]라고 한다.\n",
    "\n",
    "#class Hello:\n",
    "#    def __new__() -> __init__()\n",
    "\n",
    "\n",
    "# 클래스의 속성\n",
    "# 데이터, 메서드로 이루어진 것들 -> 속성이다.\n",
    "# 클래스 송석\n",
    "# 함수이며 인자로 첫번째로 호출되는 인스턴스는 항상 자기자신\n",
    "# 속성 점(.) 뒤에 나오는 모든 이름이며, 모듈내 모든 이름의 참조는 속성 참조이다.\n",
    "# collections.Counter\n",
    "# collections : 모듈의 객체 이름\n",
    "# Counter : 객체 속성(클래스 속성)\n",
    "# 속성은 읽기 전용, 쓰기 전용 둘 다 사용할 수 있습니다.\n",
    "# (get, set 속성을 변경이 가능하다는 소리)\n",
    "# 만일 쓰기속성이 경우에는 del를 통해서만 삭제가 가능합니다.\n",
    "\n",
    "# 네임스페이스\n",
    "# 이름을 객체로 매핑을 합니다.\n",
    "# 파이썬 내의 대부분의 네임스페이스는 파이썬 딕셔너리 구현되어 있습니다.\n",
    "# 네임스페이스 예)\n",
    "# set, 모듈의 전역이름, 함수의 지역이름\n",
    "# 스크립트 파일 또는 대화식 인터프리터의 최상위 호출에 의해 실행되는 명령문은\n",
    "# __main__으로 모듈의 일부로 간주되기 때문에 고유의 전역 네임 스페이스를 갖습니다.\n",
    "# if __name__ == \"__main__\":\n",
    "# 각기 다른 고유의 전역 네임스페이스를 갖게 됩니다.\n",
    "\n",
    "# 스코프\n",
    "# 네임스페이스 직접 접근할 수 있는 텍스트 영역\n",
    "# 주로 정적으로 결정되지만 동적으로 사용할 수 있다.\n",
    "# 스코프틑 텍스트에 따라 결정이 되며\n",
    "# 한 모듈에 정의된 함수의 전역 스코프는 해당 모듈의 네임 스페이스이다.\n",
    "# 클래스가 정의가 된다면 새로운 네임 스페이스가 만들어지고 지역 스코프로 사용한다."
   ]
  },
  {
   "cell_type": "code",
   "execution_count": 5,
   "metadata": {},
   "outputs": [],
   "source": [
    "# 특수화\n",
    "# 슈퍼 클래스(Super Class) 또는 베이스 클래스(Base Class) 라고 합니다.\n",
    "# 모든 속성들을 상속받아서 새로운 클래스를 만드는 절차를 말합니다.\n",
    "# 파이썬의 모든 메서드는 가상이며 상속의 관계는 'is - a'\n",
    "# 1)\n",
    "class Sample(object):\n",
    "    pass\n",
    "\n",
    "class Outer(object):\n",
    "    class Inner(object):\n",
    "        pass\n",
    "    pass\n",
    "\n",
    "\n",
    "class ChildClass(Sample):\n",
    "    pass\n",
    "\n",
    "\n",
    "class Sample:\n",
    "    pass\n",
    "\n",
    "class Outer:\n",
    "    class Inner:\n",
    "        pass\n",
    "    pass\n",
    "\n",
    "    "
   ]
  },
  {
   "cell_type": "code",
   "execution_count": 7,
   "metadata": {},
   "outputs": [
    {
     "ename": "TypeError",
     "evalue": "unhashable type: 'Symbol'",
     "output_type": "error",
     "traceback": [
      "\u001b[1;31m---------------------------------------------------------------------------\u001b[0m",
      "\u001b[1;31mTypeError\u001b[0m                                 Traceback (most recent call last)",
      "\u001b[1;32m<ipython-input-7-d99c2d149d64>\u001b[0m in \u001b[0;36m<module>\u001b[1;34m\u001b[0m\n\u001b[0;32m     21\u001b[0m \u001b[1;33m\u001b[0m\u001b[0m\n\u001b[0;32m     22\u001b[0m     \u001b[0msymbols\u001b[0m \u001b[1;33m=\u001b[0m \u001b[0mset\u001b[0m\u001b[1;33m(\u001b[0m\u001b[1;33m)\u001b[0m\u001b[1;33m\u001b[0m\u001b[1;33m\u001b[0m\u001b[0m\n\u001b[1;32m---> 23\u001b[1;33m     \u001b[0msymbols\u001b[0m\u001b[1;33m.\u001b[0m\u001b[0madd\u001b[0m\u001b[1;33m(\u001b[0m\u001b[0mx\u001b[0m\u001b[1;33m)\u001b[0m\u001b[1;33m\u001b[0m\u001b[1;33m\u001b[0m\u001b[0m\n\u001b[0m\u001b[0;32m     24\u001b[0m     \u001b[0msymbols\u001b[0m\u001b[1;33m.\u001b[0m\u001b[0madd\u001b[0m\u001b[1;33m(\u001b[0m\u001b[0my\u001b[0m\u001b[1;33m)\u001b[0m\u001b[1;33m\u001b[0m\u001b[1;33m\u001b[0m\u001b[0m\n\u001b[0;32m     25\u001b[0m \u001b[1;33m\u001b[0m\u001b[0m\n",
      "\u001b[1;31mTypeError\u001b[0m: unhashable type: 'Symbol'"
     ]
    }
   ],
   "source": [
    "# 다형성\n",
    "# 동적 메서드 바인딩\n",
    "# 메서드가 서브 클래스 내에서 재정의 될수 있는 원리\n",
    "# 서브 클래스 객체에서 슈퍼 클래스의 동명의 메서드를 호출해서\n",
    "# 서브클래스에 정의된 메서드를 사용합니다.\n",
    "# 슈퍼 클래스에 정의된 메서드를 호출할려고 한다면 super() 라는 키워드를 사용한다.\n",
    "\n",
    "class Symbol(object):\n",
    "    def __init__(self, value):\n",
    "        self.value = value\n",
    "        \n",
    "    def __eq__(self, other):\n",
    "        if isinstance(self, other.__class__):\n",
    "            return self.value == other.value\n",
    "        else:\n",
    "            return NotImplemented\n",
    "        \n",
    "if __name__ == \"__main__\":\n",
    "    x = Symbol('py')\n",
    "    y = Symbol('py')\n",
    "    \n",
    "    symbols = set()\n",
    "    symbols.add(x)\n",
    "    symbols.add(y)\n",
    "    \n",
    "    print(x is y)\n",
    "    print(x == y)\n",
    "    print(len(symbols))"
   ]
  },
  {
   "cell_type": "code",
   "execution_count": 12,
   "metadata": {},
   "outputs": [
    {
     "name": "stdout",
     "output_type": "stream",
     "text": [
      "False\n",
      "True\n",
      "1\n",
      "[<__main__.Symbol object at 0x000002306B8596A0>]\n"
     ]
    }
   ],
   "source": [
    "# 다형성\n",
    "# 동적 메서드 바인딩\n",
    "# 메서드가 서브 클래스 내에서 재정의 될수 있는 원리\n",
    "# 서브 클래스 객체에서 슈퍼 클래스의 동명의 메서드를 호출해서\n",
    "# 서브클래스에 정의된 메서드를 사용합니다.\n",
    "# 슈퍼 클래스에 정의된 메서드를 호출할려고 한다면 super() 라는 키워드를 사용한다.\n",
    "\n",
    "class Symbol(object):\n",
    "    def __init__(self, value):\n",
    "        self.value = value\n",
    "        \n",
    "    def __eq__(self, other):\n",
    "        if isinstance(self, other.__class__):\n",
    "            return self.value == other.value\n",
    "        else:\n",
    "            return NotImplemented\n",
    "    def __hash__(self):\n",
    "        return hash(self.value)\n",
    "if __name__ == \"__main__\":\n",
    "    x = Symbol('py')\n",
    "    y = Symbol('py')\n",
    "    \n",
    "    symbols = set()\n",
    "    symbols.add(x)\n",
    "    symbols.add(y)\n",
    "    \n",
    "    print(x is y)\n",
    "    print(x == y)\n",
    "    print(len(symbols))"
   ]
  },
  {
   "cell_type": "code",
   "execution_count": 13,
   "metadata": {},
   "outputs": [],
   "source": [
    "# 클래스는 두가지의 속성이 있다.\n",
    "# 합성 : 강한 연관 관계, 의존성이 강합니다.\n",
    "# 집합화 : 약한 연관 관계, 독립성이 강합니다.\n",
    "# 클래스는 다른 클래스의 인스턴스 변수를 포함합니다.\n",
    "# 클래스간의 관계를 나타내며 파이썬의 모든 클래스는 상속을 사용합니다.\n"
   ]
  },
  {
   "cell_type": "code",
   "execution_count": 17,
   "metadata": {},
   "outputs": [],
   "source": [
    "# 원 클래스는 만듭니다.\n",
    "# 상속을 통해서 만들면 됩니다.\n",
    "\n",
    "# Point 클래스를 상속받으며 이 클래스는\n",
    "# __repr__, __str__, __eq__, __init__를 재정의 하며, \n",
    "# distance_from_origin() 이라는 메서드를 가지고 있습니다.\n",
    "# 해당 메서드는 원점에서의 원의 끝의 거리를 구할수 있는 공식입니다.\n",
    "# circle 클래스를 만들어서 \n",
    "# 원의 넓이, 둘레, 원점에서의 원의 끝의 거리를 구하시면 됩니다.\n",
    "import math\n",
    "class Point(object):\n",
    "    def __init__(self, x=0, y=0):\n",
    "        self.x = x\n",
    "        self.y = y\n",
    "        \n",
    "    def __repr__(self):\n",
    "        return \"Point ({0.x!r}, {0.y!r})\".format(self)\n",
    "    \n",
    "    def distance_from_origin(self):\n",
    "        return math.hypot(self.x, self.y)\n",
    "    # hypot : (x * x + y * y)\n",
    "    \n",
    "    def __str__(self):\n",
    "        return \"({0.x!r}, {0.y!r})\".format(self)\n",
    "    \n",
    "    def __eq__(self, other):\n",
    "        return self.x == other.x and self.y == other.y\n",
    "    \n",
    "class Circle(Point):\n",
    "    def __init__(self,radius, x=0, y=0 ):\n",
    "        super().__init__(x, y)\n",
    "        self.radius = radius\n",
    "    def edge_distance_from_origin(self):\n",
    "        # abs() : 절대값을 구해주는 함수\n",
    "        return abs(self.distance_from_origin() - self.radius)\n",
    "    def __eq__(self, other):\n",
    "        return self.radius == otehr.radius and super().__eq__(other)\n",
    "    \n",
    "    def __repr__(self):\n",
    "        return \"Circle ({0.x!r}, {0.y!r})\".format(self)\n",
    "    \n",
    "    def __str__(self):\n",
    "        return repr(self)\n",
    "    \n",
    "    def circumference(self):\n",
    "        return 2 * math.pi * self.radius\n",
    "    \n",
    "    def area(self):\n",
    "        return math.pi * (self.radius ** 2)"
   ]
  },
  {
   "cell_type": "code",
   "execution_count": 25,
   "metadata": {},
   "outputs": [
    {
     "name": "stdout",
     "output_type": "stream",
     "text": [
      "(3, 2)\n",
      "Point (3, 2)\n",
      "3.6055512754639896\n",
      "Circle (2, 1)\n",
      "Circle (2, 1)\n",
      "Circle (2, 1)\n",
      "18.84955592153876\n",
      "28.274333882308138\n"
     ]
    }
   ],
   "source": [
    "p = Point(3, 2)\n",
    "print(p)\n",
    "print(repr(p))\n",
    "print(p.distance_from_origin())\n",
    "c = Circle(3,2,1)\n",
    "print(c)\n",
    "print(str(c))\n",
    "print(repr(c))\n",
    "print(c.circumference())\n",
    "print(c.area())"
   ]
  },
  {
   "cell_type": "code",
   "execution_count": 28,
   "metadata": {},
   "outputs": [
    {
     "ename": "NameError",
     "evalue": "name 'my_deco' is not defined",
     "output_type": "error",
     "traceback": [
      "\u001b[1;31m---------------------------------------------------------------------------\u001b[0m",
      "\u001b[1;31mNameError\u001b[0m                                 Traceback (most recent call last)",
      "\u001b[1;32m<ipython-input-28-8720292b03f8>\u001b[0m in \u001b[0;36m<module>\u001b[1;34m\u001b[0m\n\u001b[0;32m     14\u001b[0m \u001b[1;31m#     method = my_deco(method)\u001b[0m\u001b[1;33m\u001b[0m\u001b[1;33m\u001b[0m\u001b[1;33m\u001b[0m\u001b[0m\n\u001b[0;32m     15\u001b[0m \u001b[1;33m\u001b[0m\u001b[0m\n\u001b[1;32m---> 16\u001b[1;33m \u001b[1;32mclass\u001b[0m \u001b[0mC\u001b[0m\u001b[1;33m(\u001b[0m\u001b[0mobject\u001b[0m\u001b[1;33m)\u001b[0m\u001b[1;33m:\u001b[0m\u001b[1;33m\u001b[0m\u001b[1;33m\u001b[0m\u001b[0m\n\u001b[0m\u001b[0;32m     17\u001b[0m     \u001b[1;33m@\u001b[0m\u001b[0mmy_deco\u001b[0m\u001b[1;33m\u001b[0m\u001b[1;33m\u001b[0m\u001b[0m\n\u001b[0;32m     18\u001b[0m     \u001b[1;32mdef\u001b[0m \u001b[0mmethod\u001b[0m\u001b[1;33m(\u001b[0m\u001b[0mself\u001b[0m\u001b[1;33m)\u001b[0m\u001b[1;33m:\u001b[0m\u001b[1;33m\u001b[0m\u001b[1;33m\u001b[0m\u001b[0m\n",
      "\u001b[1;32m<ipython-input-28-8720292b03f8>\u001b[0m in \u001b[0;36mC\u001b[1;34m()\u001b[0m\n\u001b[0;32m     15\u001b[0m \u001b[1;33m\u001b[0m\u001b[0m\n\u001b[0;32m     16\u001b[0m \u001b[1;32mclass\u001b[0m \u001b[0mC\u001b[0m\u001b[1;33m(\u001b[0m\u001b[0mobject\u001b[0m\u001b[1;33m)\u001b[0m\u001b[1;33m:\u001b[0m\u001b[1;33m\u001b[0m\u001b[1;33m\u001b[0m\u001b[0m\n\u001b[1;32m---> 17\u001b[1;33m     \u001b[1;33m@\u001b[0m\u001b[0mmy_deco\u001b[0m\u001b[1;33m\u001b[0m\u001b[1;33m\u001b[0m\u001b[0m\n\u001b[0m\u001b[0;32m     18\u001b[0m     \u001b[1;32mdef\u001b[0m \u001b[0mmethod\u001b[0m\u001b[1;33m(\u001b[0m\u001b[0mself\u001b[0m\u001b[1;33m)\u001b[0m\u001b[1;33m:\u001b[0m\u001b[1;33m\u001b[0m\u001b[1;33m\u001b[0m\u001b[0m\n\u001b[0;32m     19\u001b[0m         \u001b[1;32mpass\u001b[0m\u001b[1;33m\u001b[0m\u001b[1;33m\u001b[0m\u001b[0m\n",
      "\u001b[1;31mNameError\u001b[0m: name 'my_deco' is not defined"
     ]
    }
   ],
   "source": [
    "# 디자인 패턴\n",
    "# 잘 설계된 구조의 형식적인 정의를 소프퉤어 엔지니어링으로 옮긴것을 의미\n",
    "\n",
    "# 데커레이터 패턴\n",
    "# @표기를 통해 함수 또는 메서드의 변환을 편안하게 지정해주는 도구\n",
    "# 함수의 객체와 함수를 변경하는 다른 객체의 매핑을 허용을 합니다.\n",
    "\n",
    "# class C(object):\n",
    "#     @my_deco\n",
    "#     def method(self):\n",
    "#         pass\n",
    "#     def result(self):\n",
    "#         pass\n",
    "#     method = my_deco(method)\n",
    "\n",
    "class C(object):\n",
    "    @my_deco\n",
    "    def method(self):\n",
    "        pass"
   ]
  },
  {
   "cell_type": "code",
   "execution_count": 31,
   "metadata": {},
   "outputs": [
    {
     "name": "stdout",
     "output_type": "stream",
     "text": [
      "random_tree 1.2799795999999333\n"
     ]
    }
   ],
   "source": [
    "import random\n",
    "import time\n",
    "\n",
    "def benchmark(func):\n",
    "    def wrapper(*args, **kwargs):\n",
    "        t = time.perf_counter()\n",
    "        res = func(*args, **kwargs)\n",
    "        print(\"{0} {1}\".format(func.__name__, time.perf_counter() - t))\n",
    "        return res\n",
    "    return wrapper\n",
    "\n",
    "@benchmark\n",
    "def random_tree(n):\n",
    "    temp = [n for n in range(n)]\n",
    "    for i in range(n + 1):\n",
    "        temp[random.choice(temp)] = random.choice(temp)\n",
    "    return temp\n",
    "if __name__ == \"__main__\":\n",
    "    random_tree(1000000)"
   ]
  },
  {
   "cell_type": "code",
   "execution_count": 6,
   "metadata": {},
   "outputs": [
    {
     "name": "stdout",
     "output_type": "stream",
     "text": [
      "foo<__main__.A object at 0x000001F1CD6671F0>, 1 실행!\n",
      "class_foo<class '__main__.A'>, 2 실행! True\n",
      "static_foo3\n"
     ]
    }
   ],
   "source": [
    "# 메서드를 클래스와 정적 메서드로 바꾸는 법\n",
    "# classmethod : 인수(매개변수)로 class가 사용이 됩니다.\n",
    "# 클래스는 측정 인스턴스에 상관되지 않고 사용할 수 있습니다.\n",
    "# 메서드의 첫번째 인수는 그 클래스의 이름으로 설정이 됩니다.\n",
    "\n",
    "# staticmethod : 첫번째 인수로 (self, class)도 안들어갑니다.\n",
    "# 클래스로부터 생성된 모든 인스턴스가 공통적으로 사용할 수 있다.\n",
    "\n",
    "class A(object):\n",
    "    _hello = True\n",
    "    \n",
    "    def foo(self, x):\n",
    "        print(\"foo{0}, {1} 실행!\".format(self, x))\n",
    "        \n",
    "    @classmethod\n",
    "    def class_foo(cls, x):\n",
    "        print(\"class_foo{0}, {1} 실행! {2}\".format(cls, x, cls._hello))\n",
    "        \n",
    "    @staticmethod\n",
    "    def static_foo(x):\n",
    "        print(\"static_foo{0}\".format(x))\n",
    "\n",
    "if __name__ == \"__main__\":\n",
    "    a = A()\n",
    "    a.foo(1)\n",
    "    a.class_foo(2)\n",
    "    a.static_foo(3)\n",
    "    # __main__ : 최상위 스크립트 호출"
   ]
  },
  {
   "cell_type": "code",
   "execution_count": 12,
   "metadata": {},
   "outputs": [],
   "source": [
    "# 옵서버패턴\n",
    "# 관찰자\n",
    "# 특정값을 유지하는 핵심 객체를 가지고 있습니다.\n",
    "# 직렬화된 객체의 복사본을 생성하는 일부 옵서버(관찰자)가 있는 경우\n",
    "# 유용하게 사용할 수 있다.\n",
    "# 객체의 일 대 다 의존 관계에서 한 객체의 상태가 변경되었다고 하면\n",
    "# 그 객체에 종속된 모든 객체에 그 내용을 통지하여 자동으로 상태를 갱신하는 방식\n",
    "\n",
    "# @property 데커레이터 패턴을 사용해서 구현할 수 있다.\n",
    "# 속성 접근 제어를 할 수 있는 메서드를 만들수 있다.\n",
    "\n",
    "class C:\n",
    "    def __init__(self, name):\n",
    "        self._name = name\n",
    "    @property\n",
    "    def name(self):\n",
    "        return self._name\n",
    "    @name.setter\n",
    "    def name(self, new_name):\n",
    "        self._name = \"{0} >> {1}\".format(self._name, new_name)\n",
    "\n"
   ]
  },
  {
   "cell_type": "code",
   "execution_count": 18,
   "metadata": {},
   "outputs": [
    {
     "data": {
      "text/plain": [
       "'진혁'"
      ]
     },
     "execution_count": 18,
     "metadata": {},
     "output_type": "execute_result"
    }
   ],
   "source": [
    "c = C('진혁')\n",
    "c._name"
   ]
  },
  {
   "cell_type": "code",
   "execution_count": 23,
   "metadata": {},
   "outputs": [],
   "source": [
    "c.name = \"철수\""
   ]
  },
  {
   "cell_type": "code",
   "execution_count": 24,
   "metadata": {},
   "outputs": [
    {
     "data": {
      "text/plain": [
       "'진혁 >> 상수 >> 상수 >> 철수'"
      ]
     },
     "execution_count": 24,
     "metadata": {},
     "output_type": "execute_result"
    }
   ],
   "source": [
    "\n",
    "c._name"
   ]
  },
  {
   "cell_type": "code",
   "execution_count": 34,
   "metadata": {},
   "outputs": [
    {
     "name": "stdout",
     "output_type": "stream",
     "text": [
      "선주, 책을 읽습니다.\n",
      "만선, 책을 읽습니다.\n",
      "진혁, 책을 읽습니다.\n",
      "선주, 책을 다 읽었습니다.\n",
      "진혁, 책을 다 읽었습니다.\n"
     ]
    }
   ],
   "source": [
    "# set() 이용해서 옵서버 패턴\n",
    "\"\"\"\n",
    "- 이름을 추가했을때\n",
    "진혁, 책을 읽습니다\n",
    "선주, 책을 읽습니다.\n",
    "만선, 책을 읽습니다.\n",
    "- 만선를 제외한다.\n",
    "- 책을 다 읽은 메서드를 실행시켰을 때\n",
    "진혁, 책을 다 읽었습니다.\n",
    "선주, 책을 다 읽었습니다.\n",
    "\"\"\"\n",
    "\n",
    "class Reader(object):\n",
    "    def __init__(self, name):\n",
    "        self.name = name\n",
    "        \n",
    "    def state(self, message):\n",
    "        print(\"{0}, {1}\".format(self.name, message))\n",
    "        \n",
    "class Writer(object):\n",
    "    def __init__(self):\n",
    "        self.readers = set()\n",
    "    def register(self, who):\n",
    "        self.readers.add(who)\n",
    "    def unregister(self, who):\n",
    "        self.readers.discard(who)\n",
    "    def update(self, message):\n",
    "        for reader in self.readers:\n",
    "            reader.state(message)\n",
    "\n",
    "if __name__ == \"__main__\":\n",
    "    wr = Writer()\n",
    "    \n",
    "    jin = Reader(\"진혁\")\n",
    "    sun = Reader(\"선주\")\n",
    "    man = Reader(\"만선\")\n",
    "    \n",
    "    wr.register(jin)\n",
    "    wr.register(sun)\n",
    "    wr.register(man)\n",
    "    \n",
    "    wr.update('책을 읽습니다.')\n",
    "    wr.unregister(man)\n",
    "    wr.update('책을 다 읽었습니다.')"
   ]
  },
  {
   "cell_type": "code",
   "execution_count": 14,
   "metadata": {},
   "outputs": [
    {
     "name": "stdout",
     "output_type": "stream",
     "text": [
      "진혁, 책을 읽습니다.\n",
      "선주, 책을 읽습니다.\n",
      "만선, 책을 읽습니다.\n",
      "선주, 책을 다 읽었습니다.\n",
      "만선, 책을 다 읽었습니다.\n"
     ]
    }
   ],
   "source": [
    "# 딕셔너리 형태로 \n",
    "# 똑같은 형식으로 만들어 주세요\n",
    "\n",
    "class Reader(object):\n",
    "    def __init__(self, name):\n",
    "        self.name = name\n",
    "    \n",
    "    def state(self, message):\n",
    "        print(\"{0}\",format(message))\n",
    "    \n",
    "    def update(self, message):\n",
    "        print(\"{0}, {1}\".format(self.name, message))\n",
    "        \n",
    "class Writer(object):\n",
    "    def __init__(self):\n",
    "        self.readers = dict()\n",
    "    def register(self, who, callback=None):\n",
    "        if callback is None:\n",
    "            callback = getattr(who, 'update')\n",
    "        self.readers[who] = callback\n",
    "    def unregister(self, who):\n",
    "        del self.readers[who]\n",
    "    def publish(self, message):\n",
    "        for reader, callback in self.readers.items():\n",
    "            callback(message)\n",
    "            \n",
    "if __name__ == \"__main__\":\n",
    "    wr = Writer()\n",
    "    \n",
    "    jin  = Reader('진혁')\n",
    "    sun = Reader('선주')\n",
    "    man = Reader('만선')\n",
    "    \n",
    "    wr.register(jin, jin.update)\n",
    "    wr.register(sun)\n",
    "    wr.register(man)\n",
    "    \n",
    "    wr.publish('책을 읽습니다.')\n",
    "    wr.unregister(jin)\n",
    "    wr.publish('책을 다 읽었습니다.')"
   ]
  },
  {
   "cell_type": "code",
   "execution_count": 16,
   "metadata": {},
   "outputs": [],
   "source": [
    "# 싱글톤 패턴\n",
    "# 초기화된 객체의 인스턴스를 전역에서 사용하기 위해 싱글톤을 사용한다.\n",
    "# 인스턴스는 단 하나만 존재합니다.\n",
    "# 파이썬 내부에서는 private 접근 제한자가 없기 때문에 __new__ 클래스 메서드를 가지고\n",
    "# 하나의 인스턴스만 생성되도록 만듭니다.\n",
    "\n",
    "# 싱글톤 패턴 만드는 법\n",
    "# 가장 먼저 싱글턴 인스턴스가 생성되었는지 확인하고\n",
    "# 만약 없다면 슈퍼클래스를 호출해서 싱글톤 인스턴스 생성\n",
    "\n",
    "class Single:\n",
    "    _single = None\n",
    "    \n",
    "    def __new__(self, *args, **kwargs):\n",
    "        if not self._single:\n",
    "            self._single = super(Single, self).__new__(self, *args, **kwargs)\n",
    "        return self._single"
   ]
  },
  {
   "cell_type": "code",
   "execution_count": null,
   "metadata": {},
   "outputs": [],
   "source": []
  }
 ],
 "metadata": {
  "kernelspec": {
   "display_name": "Python 3",
   "language": "python",
   "name": "python3"
  },
  "language_info": {
   "codemirror_mode": {
    "name": "ipython",
    "version": 3
   },
   "file_extension": ".py",
   "mimetype": "text/x-python",
   "name": "python",
   "nbconvert_exporter": "python",
   "pygments_lexer": "ipython3",
   "version": "3.8.5"
  }
 },
 "nbformat": 4,
 "nbformat_minor": 4
}
