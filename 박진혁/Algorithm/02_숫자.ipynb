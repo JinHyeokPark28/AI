{
 "cells": [
  {
   "cell_type": "markdown",
   "metadata": {},
   "source": [
    "# 정수\n",
    "- int형으로 나타냅니다.\n",
    "- 불변형이라고 합니다.\n",
    "- 불변형 객체는 변수와 객체 참조간의 차이가 거의 없습니다.\n",
    "- 변수의 크기는 4바이트입니다."
   ]
  },
  {
   "cell_type": "code",
   "execution_count": 5,
   "metadata": {},
   "outputs": [
    {
     "data": {
      "text/plain": [
       "2"
      ]
     },
     "execution_count": 5,
     "metadata": {},
     "output_type": "execute_result"
    }
   ],
   "source": [
    "a = 3\n",
    "# 비트의 사이즈(크기)\n",
    "a.bit_length()"
   ]
  },
  {
   "cell_type": "code",
   "execution_count": 6,
   "metadata": {},
   "outputs": [
    {
     "data": {
      "text/plain": [
       "28"
      ]
     },
     "execution_count": 6,
     "metadata": {},
     "output_type": "execute_result"
    }
   ],
   "source": [
    "import sys\n",
    "sys.getsizeof(a)"
   ]
  },
  {
   "cell_type": "code",
   "execution_count": 15,
   "metadata": {},
   "outputs": [
    {
     "data": {
      "text/plain": [
       "14"
      ]
     },
     "execution_count": 15,
     "metadata": {},
     "output_type": "execute_result"
    }
   ],
   "source": [
    "# 형변환\n",
    "# int -> 내가 원하는 자료형\n",
    "# str -> int형으로 변환\n",
    "#int(\"문자열\", 밑(진수))\n",
    "int(\"16\", 8)\n",
    "# 밑은 2 ~ 36 사이의 선택적 인수가 되어야 한다.\n",
    "# 만일 2 ~ 36 사이의 값이 아닌 다른 값을 적는다면 Value Error가 발생한다."
   ]
  },
  {
   "cell_type": "markdown",
   "metadata": {},
   "source": [
    "# 부동소수점\n",
    "- float\n",
    "- 불변형\n",
    "- 정규화 : 소수점을 왼쪽으로 이동시켜서 왼쪽부분만 1이 남게 합니다."
   ]
  },
  {
   "cell_type": "code",
   "execution_count": 18,
   "metadata": {},
   "outputs": [
    {
     "data": {
      "text/plain": [
       "False"
      ]
     },
     "execution_count": 18,
     "metadata": {},
     "output_type": "execute_result"
    }
   ],
   "source": [
    "0.6 == 0.2 * 3"
   ]
  },
  {
   "cell_type": "code",
   "execution_count": 19,
   "metadata": {},
   "outputs": [
    {
     "data": {
      "text/plain": [
       "True"
      ]
     },
     "execution_count": 19,
     "metadata": {},
     "output_type": "execute_result"
    }
   ],
   "source": [
    "1.2 - 0.2 == 1.0"
   ]
  },
  {
   "cell_type": "code",
   "execution_count": 20,
   "metadata": {},
   "outputs": [
    {
     "data": {
      "text/plain": [
       "1.0"
      ]
     },
     "execution_count": 20,
     "metadata": {},
     "output_type": "execute_result"
    }
   ],
   "source": [
    "1.2 - 0.2"
   ]
  },
  {
   "cell_type": "code",
   "execution_count": 2,
   "metadata": {},
   "outputs": [
    {
     "data": {
      "text/plain": [
       "False"
      ]
     },
     "execution_count": 2,
     "metadata": {},
     "output_type": "execute_result"
    }
   ],
   "source": [
    "1.2 - 0.1 == 1.1"
   ]
  },
  {
   "cell_type": "markdown",
   "metadata": {},
   "source": [
    "# 정수와 부동소수점 메서드\n",
    "- 나누기 연산자 '/' : 항상 부동소수점 반환\n",
    "- 몫 연산자 '//' : 항상 정수 반환\n",
    "- 나머지 연산자 '%' : 항상 정수 반환"
   ]
  },
  {
   "cell_type": "code",
   "execution_count": 3,
   "metadata": {},
   "outputs": [
    {
     "data": {
      "text/plain": [
       "(8, 0)"
      ]
     },
     "execution_count": 3,
     "metadata": {},
     "output_type": "execute_result"
    }
   ],
   "source": [
    "# 몫과 나머지를 한꺼번에 반환하는 메서드\n",
    "# divmod(x, y) : x를 y로 나누는 메서드\n",
    "divmod(32, 4)"
   ]
  },
  {
   "cell_type": "code",
   "execution_count": 5,
   "metadata": {},
   "outputs": [
    {
     "name": "stdout",
     "output_type": "stream",
     "text": [
      "113.46\n",
      "100.0\n"
     ]
    }
   ],
   "source": [
    "# 소수점을 반올림 하는 메서드가 있습니다.\n",
    "# round(x,  n) : n번째의 위치에서 반올림을 해줍니다.\n",
    "# n이 양수라면  소수점이하의 n번째 에서 반올림\n",
    "# n이 음수라면 정수의 n번째에서 반올림\n",
    "print(round(113.4567, 2))\n",
    "print(round(113.4567, -2))"
   ]
  },
  {
   "cell_type": "code",
   "execution_count": 6,
   "metadata": {},
   "outputs": [
    {
     "data": {
      "text/plain": [
       "(5854679515581645, 4503599627370496)"
      ]
     },
     "execution_count": 6,
     "metadata": {},
     "output_type": "execute_result"
    }
   ],
   "source": [
    "# 부동소수점을 분수로 표현하는 메서드\n",
    "# as_integer_ratio()\n",
    "1.3.as_integer_ratio()"
   ]
  },
  {
   "cell_type": "code",
   "execution_count": 7,
   "metadata": {},
   "outputs": [
    {
     "data": {
      "text/plain": [
       "(2, 1)"
      ]
     },
     "execution_count": 7,
     "metadata": {},
     "output_type": "execute_result"
    }
   ],
   "source": [
    "2.0.as_integer_ratio()"
   ]
  },
  {
   "cell_type": "code",
   "execution_count": 10,
   "metadata": {},
   "outputs": [
    {
     "ename": "SyntaxError",
     "evalue": "invalid syntax (<ipython-input-10-e7598afa1814>, line 1)",
     "output_type": "error",
     "traceback": [
      "\u001b[1;36m  File \u001b[1;32m\"<ipython-input-10-e7598afa1814>\"\u001b[1;36m, line \u001b[1;32m1\u001b[0m\n\u001b[1;33m    4.as_integer_ratio()\u001b[0m\n\u001b[1;37m      ^\u001b[0m\n\u001b[1;31mSyntaxError\u001b[0m\u001b[1;31m:\u001b[0m invalid syntax\n"
     ]
    }
   ],
   "source": [
    "4.as_integer_ratio()"
   ]
  },
  {
   "cell_type": "markdown",
   "metadata": {},
   "source": [
    "# 유리수\n",
    "- 두 정수의 비율로 나타낼수 있는 수\n",
    "- 분모가 0이 아니어야 한다.\n",
    "- 분모가 1일수도 있기때문에 모든 정수는 유리수\n",
    "- 사용방법\n",
    "    - 모듈 불러와서 사용해야 한다.\n",
    "\n",
    "```python\n",
    "    from fractions import Fraction as frac\n",
    "```"
   ]
  },
  {
   "cell_type": "code",
   "execution_count": 13,
   "metadata": {},
   "outputs": [
    {
     "data": {
      "text/plain": [
       "Fraction(81, 16)"
      ]
     },
     "execution_count": 13,
     "metadata": {},
     "output_type": "execute_result"
    }
   ],
   "source": [
    "from fractions import Fraction as frac\n",
    "frac(162, 32)"
   ]
  },
  {
   "cell_type": "code",
   "execution_count": 21,
   "metadata": {},
   "outputs": [
    {
     "name": "stdout",
     "output_type": "stream",
     "text": [
      "테스트 통과!\n"
     ]
    }
   ],
   "source": [
    "# 함수를 네개 만듭니다.\n",
    "# 1) 소수점을 버리는 함수를 만듭니다.\n",
    "def rounding_float(number, place):\n",
    "    return round(number, place)\n",
    "# 2) 실수를 분수로 바꾸는 함수를 만듭니다.\n",
    "def float_to_fraction(number):\n",
    "    return frac(*number.as_integer_ratio())\n",
    "    # *변수이름 : 해당 변수의 값을 튜플형태로 전달받겠다.\n",
    "    # **변수이름 : 해당 변수의 값을 딕셔너리 형태로 전달받겠다.\n",
    "# 3) 분수를 입력받고 분모를 반환해주는 함수\n",
    "def get_denominator(number1, number2):\n",
    "    a = frac(number1, number2)\n",
    "    return a.denominator\n",
    "    # 변수이름.denominator\n",
    "# 4) 분수를 입력받고 분자를 반환해준느 함수\n",
    "    # 변수이름.numerator\n",
    "def get_numerator(number1, number2):\n",
    "    a = frac(number1, number2)\n",
    "    return a.numerator\n",
    "    \n",
    "def main():\n",
    "    number1 = 1.25\n",
    "    number2 = 1\n",
    "    number3 = -1\n",
    "    number4 = 5/4\n",
    "    number5 = 6 \n",
    "    \n",
    "    assert(rounding_float(number1, number2) == 1.2)\n",
    "    assert(float_to_fraction(number1) == number4)\n",
    "    assert(get_denominator(number2,number5) == number5)\n",
    "    assert(get_numerator(number2, number5) == number2)\n",
    "    # assert() : 뒤에 오는 조건이 True가 아니라면 Assert Error를 발생시킵니다.\n",
    "    # assert()는 함수의 성능을 높이기 위해서 반드시 정수만을 입력받아서 처리하도록\n",
    "    # 만들수 있습니다. 일반적인 함수는 정수만 들어오는지 확인하기 위해서\n",
    "    # '가정설정문' == assert() 함수\n",
    "    print(\"테스트 통과!\")\n",
    "# 소수점 버리는 함수를 사용해서 (number1 * 10, number 3) == 10\n",
    "# 실수를 분수로 바꾸는 함수를 사용해서 number1 == number4\n",
    "# 분모를 반환하는 함수 (number2, number5) == number5\n",
    "# 분자를 반환하는 함수 (number2, number5) == number2\n",
    "if __name__ == \"__main__\":\n",
    "    main()"
   ]
  },
  {
   "cell_type": "markdown",
   "metadata": {},
   "source": [
    "# Decimal\n",
    "- 10진법 모듈에서 사용하는 소수\n",
    "- float보다 더 정확한 부동소수점이 필요한 경우 사용합니다.\n",
    "- 소수 prime\n",
    "- 사용하는 방법\n",
    "    - Decimal(인수)"
   ]
  },
  {
   "cell_type": "code",
   "execution_count": 22,
   "metadata": {},
   "outputs": [
    {
     "data": {
      "text/plain": [
       "['__abs__',\n",
       " '__add__',\n",
       " '__bool__',\n",
       " '__ceil__',\n",
       " '__class__',\n",
       " '__complex__',\n",
       " '__copy__',\n",
       " '__deepcopy__',\n",
       " '__delattr__',\n",
       " '__dir__',\n",
       " '__divmod__',\n",
       " '__doc__',\n",
       " '__eq__',\n",
       " '__float__',\n",
       " '__floor__',\n",
       " '__floordiv__',\n",
       " '__format__',\n",
       " '__ge__',\n",
       " '__getattribute__',\n",
       " '__gt__',\n",
       " '__hash__',\n",
       " '__init__',\n",
       " '__init_subclass__',\n",
       " '__int__',\n",
       " '__le__',\n",
       " '__lt__',\n",
       " '__mod__',\n",
       " '__module__',\n",
       " '__mul__',\n",
       " '__ne__',\n",
       " '__neg__',\n",
       " '__new__',\n",
       " '__pos__',\n",
       " '__pow__',\n",
       " '__radd__',\n",
       " '__rdivmod__',\n",
       " '__reduce__',\n",
       " '__reduce_ex__',\n",
       " '__repr__',\n",
       " '__rfloordiv__',\n",
       " '__rmod__',\n",
       " '__rmul__',\n",
       " '__round__',\n",
       " '__rpow__',\n",
       " '__rsub__',\n",
       " '__rtruediv__',\n",
       " '__setattr__',\n",
       " '__sizeof__',\n",
       " '__str__',\n",
       " '__sub__',\n",
       " '__subclasshook__',\n",
       " '__truediv__',\n",
       " '__trunc__',\n",
       " 'adjusted',\n",
       " 'as_integer_ratio',\n",
       " 'as_tuple',\n",
       " 'canonical',\n",
       " 'compare',\n",
       " 'compare_signal',\n",
       " 'compare_total',\n",
       " 'compare_total_mag',\n",
       " 'conjugate',\n",
       " 'copy_abs',\n",
       " 'copy_negate',\n",
       " 'copy_sign',\n",
       " 'exp',\n",
       " 'fma',\n",
       " 'from_float',\n",
       " 'imag',\n",
       " 'is_canonical',\n",
       " 'is_finite',\n",
       " 'is_infinite',\n",
       " 'is_nan',\n",
       " 'is_normal',\n",
       " 'is_qnan',\n",
       " 'is_signed',\n",
       " 'is_snan',\n",
       " 'is_subnormal',\n",
       " 'is_zero',\n",
       " 'ln',\n",
       " 'log10',\n",
       " 'logb',\n",
       " 'logical_and',\n",
       " 'logical_invert',\n",
       " 'logical_or',\n",
       " 'logical_xor',\n",
       " 'max',\n",
       " 'max_mag',\n",
       " 'min',\n",
       " 'min_mag',\n",
       " 'next_minus',\n",
       " 'next_plus',\n",
       " 'next_toward',\n",
       " 'normalize',\n",
       " 'number_class',\n",
       " 'quantize',\n",
       " 'radix',\n",
       " 'real',\n",
       " 'remainder_near',\n",
       " 'rotate',\n",
       " 'same_quantum',\n",
       " 'scaleb',\n",
       " 'shift',\n",
       " 'sqrt',\n",
       " 'to_eng_string',\n",
       " 'to_integral',\n",
       " 'to_integral_exact',\n",
       " 'to_integral_value']"
      ]
     },
     "execution_count": 22,
     "metadata": {},
     "output_type": "execute_result"
    }
   ],
   "source": [
    "from decimal import Decimal\n",
    "dir(Decimal)"
   ]
  },
  {
   "cell_type": "code",
   "execution_count": 28,
   "metadata": {},
   "outputs": [
    {
     "data": {
      "text/plain": [
       "Decimal('3.160000000000000142108547152020037174224853515625')"
      ]
     },
     "execution_count": 28,
     "metadata": {},
     "output_type": "execute_result"
    }
   ],
   "source": [
    "# 부동소수점의 반오림, 비교, 뺄셈 드으이 부동소수점에서 나타나는 문제점을 \n",
    "# 처리하기 위해서 사용하는 메서드\n",
    "Decimal.from_float(3.16)"
   ]
  },
  {
   "cell_type": "code",
   "execution_count": 31,
   "metadata": {},
   "outputs": [
    {
     "name": "stdout",
     "output_type": "stream",
     "text": [
      "0b1010\n",
      "0o12\n",
      "0xa\n"
     ]
    }
   ],
   "source": [
    "# 진수 변경법\n",
    "# 2진수 : bin(i)\n",
    "# 8진수 : oct(i)\n",
    "# 16진수 : hex(i)\n",
    "print(bin(10))\n",
    "print(oct(10))\n",
    "print(hex(10))"
   ]
  },
  {
   "cell_type": "code",
   "execution_count": 14,
   "metadata": {},
   "outputs": [
    {
     "name": "stdout",
     "output_type": "stream",
     "text": [
      "1001\n",
      "100\n",
      "10\n",
      "1\n",
      "테스트가 통과되었습니다.\n"
     ]
    }
   ],
   "source": [
    "# Decimal, bin를 이용해서 \n",
    "# 2진수 -> 10진수로 바꾸는 메서드를 만들어 보세용\n",
    "# 1001 -> 2\n",
    "# 1, 0을 가지고 잇는 변수를 하나씩 만들고\n",
    "# 반복문을 통해서 1001 % 10 == 1 을 가지고 잇는 변수를 비교해서 \n",
    "# 하나씩 가져와서 계산\n",
    "# assert(cvt_2_decimal(number, base) == 9)\n",
    "# print(\"테스트를 통과하였습니다.\")\n",
    "def cvt_2_decimal(number, base):\n",
    "    multiplier, result = 1, 0\n",
    "    while number > 0:\n",
    "        print(number)\n",
    "        result += number % 10 * multiplier\n",
    "        multiplier *= base\n",
    "        number = number // 10\n",
    "    return result\n",
    "\n",
    "def main():\n",
    "    number, base = 1001, 2\n",
    "    assert(cvt_2_decimal(number, base) == 9)\n",
    "    print(\"테스트가 통과되었습니다.\")\n",
    "if __name__ == \"__main__\":\n",
    "    main()"
   ]
  },
  {
   "cell_type": "code",
   "execution_count": 13,
   "metadata": {},
   "outputs": [
    {
     "name": "stdout",
     "output_type": "stream",
     "text": [
      "테스트가 통과되었습니다.\n"
     ]
    }
   ],
   "source": [
    "# 10진수 -> 2진수로 만드는 메서드를 만듭닌다.\n",
    "# 1001 -> 9\n",
    "# 9 -> 1001\n",
    "# assert 함수를 실행 후 조건이 충족되었다면\n",
    "# 테스트가 통과되었습니다.\n",
    "# 출력해주세요,\n",
    "def cvt_2_decimal(number, base):\n",
    "    multiplier, result = 1, 0\n",
    "    while number > 0:\n",
    "        result += number % base * multiplier\n",
    "        multiplier *= 10\n",
    "        number = number // base\n",
    "    return result\n",
    "\n",
    "def main():\n",
    "    number, base = 9, 2\n",
    "    assert(cvt_2_decimal(number, base) == 1001)\n",
    "    print(\"테스트가 통과되었습니다.\")\n",
    "if __name__ == \"__main__\":\n",
    "    main()"
   ]
  },
  {
   "cell_type": "code",
   "execution_count": 15,
   "metadata": {},
   "outputs": [],
   "source": [
    "# 최대 공약수 함수 만들기\n",
    "# a, b를 비교해서 최대공약수를 만듭니다.\n",
    "# 21, 12 = 3\n",
    "\n",
    "# result = 12\n",
    "# result = 9\n",
    "# result = 3\n",
    "# 3\n",
    "\n",
    "def finding_gcd(a, b):\n",
    "    while (b != 0):\n",
    "        result = b\n",
    "        a, b = b, a % b\n",
    "        print(\"result =\", result)\n",
    "    return result"
   ]
  },
  {
   "cell_type": "code",
   "execution_count": 16,
   "metadata": {},
   "outputs": [
    {
     "name": "stdout",
     "output_type": "stream",
     "text": [
      "result = 12\n",
      "result = 9\n",
      "result = 3\n"
     ]
    },
    {
     "data": {
      "text/plain": [
       "3"
      ]
     },
     "execution_count": 16,
     "metadata": {},
     "output_type": "execute_result"
    }
   ],
   "source": [
    "finding_gcd(21, 12)"
   ]
  },
  {
   "cell_type": "markdown",
   "metadata": {},
   "source": [
    "# 제네레이터 : Generator\n",
    "- 파이썬의 시퀸스를 생성하는 객체입니다.\n",
    "- 제네레이터를 이용하면 전체 시퀸스를 한번에 메모리에 생성하고 정렬할 필요없이 바로 사용할 수 있습니다.\n",
    "- 아주 큰 시퀸스를 순회할수 있으며 순회시 마지막에 호출된 요소를 기억하고 마지막으로 호출된 요소를 리턴합니다.\n",
    "- 리턴시 yield라는 키워드를 사용합니다.\n",
    "- 반드시 이 제네레이터를 통해 출력할 때는 next() 메서드를 사용합니다."
   ]
  },
  {
   "cell_type": "code",
   "execution_count": 18,
   "metadata": {},
   "outputs": [
    {
     "name": "stdout",
     "output_type": "stream",
     "text": [
      "1 1 2 3 5 8 13 21 "
     ]
    }
   ],
   "source": [
    "# 1 1 2 3 5 8 13 21\n",
    "# 피보나치 수열을 할수있는 제네레이터를 만들어봅시다.\n",
    "def fib_generator():\n",
    "    a, b = 0, 1\n",
    "    while True:\n",
    "        yield b\n",
    "        a, b = b, a + b\n",
    "        \n",
    "if __name__ == \"__main__\":\n",
    "    f = fib_generator()\n",
    "    for _ in range(8):\n",
    "        print(next(f), end = \" \")"
   ]
  },
  {
   "cell_type": "markdown",
   "metadata": {},
   "source": [
    "# 소수\n",
    "- 1과 자기자신만으로 나눴을 1이 되는 수\n",
    "- 브루트 포스(무차별 대입)\n",
    "- 제곱근"
   ]
  },
  {
   "cell_type": "code",
   "execution_count": null,
   "metadata": {},
   "outputs": [],
   "source": [
    "def finding_prime(number):\n",
    "    # 절대값\n",
    "    num = abs(number)\n",
    "    if num < 4 : return True\n",
    "    for x in range(2, num):\n",
    "        if num % x == 0:\n",
    "            return False\n",
    "    return True"
   ]
  }
 ],
 "metadata": {
  "kernelspec": {
   "display_name": "Python 3",
   "language": "python",
   "name": "python3"
  },
  "language_info": {
   "codemirror_mode": {
    "name": "ipython",
    "version": 3
   },
   "file_extension": ".py",
   "mimetype": "text/x-python",
   "name": "python",
   "nbconvert_exporter": "python",
   "pygments_lexer": "ipython3",
   "version": "3.8.5"
  }
 },
 "nbformat": 4,
 "nbformat_minor": 4
}
