{
 "cells": [
  {
   "cell_type": "markdown",
   "metadata": {},
   "source": [
    "# 알고리즘의 표현 방법?\n",
    "- 순서도 : 프로그램에서 실행되는 명령어들의 논리적인 순서나 작업 순서등을 도형으로 표현한것\n",
    "- 유사코드(의사기술표현) : 알고리즘이 복잡해졌을 때 사용합니다. 소스의 기본 골격을 이해하도록 소스코드와 비슷하게 작성하지만 간략하게 표현하는 방법입니다.\n"
   ]
  },
  {
   "cell_type": "markdown",
   "metadata": {},
   "source": [
    "# 기본 알고리즘과 자료구조\n",
    "- 효율적인 알고리즘 : 다양한 업무를 신속하게 수행할 수 있게 하는 것이며 질서를 유지하고 공평한 서비스를 받는것을 의미합니다.\n",
    "- 성능을 향상시키기 위해서 데이터를 어떤식으로 보관하고 연관성이 있는 데이터를 쉽게 찾아갈수 있도록 구성해야 한다.\n",
    "- **자료구조** ? 데이터를 체계적으로 보관하고 연관성있는 데이터를 쉽게 찾아갈 수 있도록 구성하는 것을 의미\n",
    "\n",
    "> 배열\n",
    "- 다양한 정보를 체계적으로 저장하고 이를 기반으로 탐색 기능을 수행하기 위해 많이 사용하는 기본적인 자료구조입니다.\n",
    "- 배열은 동일한 자료형의 원소들을 컴퓨터 메모리의 연속적인 주소 영역에 저장해서 원소가 저장된 위치를 순서에 따라 가르키는 인덱스를 사용해서 지정된 원소를 읽어오거나 새로운 값으로 변경할 수 있습니다.\n",
    "- 인덱스는 0부터 시작해서 전체원소의 개수가 N개라고 했을 때 N - 1개의 인덱스 값을 가지고 있다.\n",
    "\n",
    ">> 순차탐색\n",
    "- 탐색 대상의 데이터 개수가 많지 않고 수시로 데이터가 새롭게 추가되고 데이터가 삭제되어야 하는 상황에서 데이터 탐색 빈도수가 높지 않을 경우 '순차적 탐색'을 사용한다.\n",
    "- 탐색 대상의 데이터 규모가 크고 탐색 횟수가 빈번한 경우 사용하지 않는다.\n",
    "\n",
    ">> 이진탐색\n",
    "- 탐색 대상이 정렬이 되었을 때 사용되며 탐색 대상의 키 문자가 주어지면 배열 중간 인덱스 값과 가르키는 값을 비교해서 중간값이 동일하면 중간값을 반환합니다.\n",
    "- 탐색 키값이 중간값보다 작으면 중간값 - 1 구간을 탐색, 반대라면 중간값 + N - 1 구간 탐색\n",
    "- 빅오 표기법\n",
    "- log2(n)번의 이진 탐색을 진행하며 대상 배열이 클 경우 순차탐색보다 빠릅니다.\n",
    "\n",
    ">> 정렬\n",
    "- 기준 항목 값의 크기에 따라 차례대로 저장 위치를 조정하는 것을 정렬이라고 합니다.\n",
    "- 선택 정렬 : 보여 주는 절차에 따라 단계적으로 진행하게 됩니다. 가장 낮은 값을 찾아서 그 인덱스를 0번째 인덱스와 바꿈으로 정렬이 완성됩니다. 정렬 상태에서 유지되어야 하는 배열에서 새로운 원소를 삽입하거나 기존의 원소를 삽입 또는 삭제되는 원소 위치 다음 위치의 모든 배열의 원소의 위치를 옮기는 작업을 해야합니다.\n",
    "- 연결형 리스트 : 각 원소들의 개별적인 리스트 노드를 구성하고 각 리스트 노드에는 다음 또는 이전 리스트 노드를 연결하는 연결 포인터를 포함시켜 데이터를 저장하는 자료구조입니다.\n",
    "- 트리노드 : 나뭇가지가 아래로 뻗어나는 모습으로 구성되어 있으며 각 트리노드는 최대 2개의 자식노드를 연결할 수 있고 경우에 따라 자식 노드가 하나만 있거나 자식노드가 없는 경우도 있습니다. 트리노드가 상위 노드에 연결되어 있는 경우 부모노드라고 하며 자식 노드각 없는 트리노드를 리프 노드라고 부르며 최상위 노드를 루트노드라고 합니다.\n",
    "- 이진 탐색트리 : 기본 원칙으로 기준이 되는 트리노드의 값보다 같거나 작은 값들을 가지는 트리노드는 왼쪽 자식노드 또는 그 왼쪽자식의 자식 노드들로 구성될수 있으며 트리노드의 값보다 같거나 큰값들은 그 트리노드의 오른쪽 자식의 자식 노드로 구성될수 있다.\n",
    "\n",
    ">> FIFO(First In First Out)\n",
    "- 선착순 처리 방식\n",
    "- 큐를 통해서 차례대로 저장되며 새로운 이벤트 도착하면 맨 뒤에 저장이 됩니다.\n",
    "- 우선순위 대기열이 있으며 데이터를 포함한 노드들을 저장하는 자료구조로 배열을 사용해서 완전 이진트리를 구성하는 힙 자료구조를 사용할 수 있다.\n",
    "\n",
    ">> LIFO(Last In First Out)\n",
    "- 후착순 처리 방식\n",
    "- 역순으로 열겨할 수 있는 자료구조가 사용됩니다.\n",
    "- 스택을 사용합니다.\n",
    "- 새로운 데이터가 추가되었을 경우 가장 위에 저장하면 데이터가 추출할때도 가장 위의 데이터를 먼저 가져옵니다."
   ]
  },
  {
   "cell_type": "code",
   "execution_count": 6,
   "metadata": {},
   "outputs": [
    {
     "ename": "NameError",
     "evalue": "name 'method' is not defined",
     "output_type": "error",
     "traceback": [
      "\u001b[1;31m---------------------------------------------------------------------------\u001b[0m",
      "\u001b[1;31mNameError\u001b[0m                                 Traceback (most recent call last)",
      "\u001b[1;32m<ipython-input-6-6a7a159b460c>\u001b[0m in \u001b[0;36m<module>\u001b[1;34m\u001b[0m\n\u001b[0;32m      7\u001b[0m     \u001b[0mx\u001b[0m\u001b[1;33m[\u001b[0m\u001b[0mi\u001b[0m\u001b[1;33m]\u001b[0m\u001b[1;33m,\u001b[0m \u001b[0mx\u001b[0m\u001b[1;33m[\u001b[0m\u001b[0mj\u001b[0m\u001b[1;33m]\u001b[0m \u001b[1;33m=\u001b[0m \u001b[0mx\u001b[0m\u001b[1;33m[\u001b[0m\u001b[0mj\u001b[0m\u001b[1;33m]\u001b[0m\u001b[1;33m,\u001b[0m \u001b[0mx\u001b[0m\u001b[1;33m[\u001b[0m\u001b[0mi\u001b[0m\u001b[1;33m]\u001b[0m\u001b[1;33m\u001b[0m\u001b[1;33m\u001b[0m\u001b[0m\n\u001b[0;32m      8\u001b[0m \u001b[1;33m\u001b[0m\u001b[0m\n\u001b[1;32m----> 9\u001b[1;33m \u001b[0mmethod\u001b[0m\u001b[1;33m(\u001b[0m\u001b[0mdata\u001b[0m\u001b[1;33m,\u001b[0m \u001b[1;36m1\u001b[0m\u001b[1;33m,\u001b[0m \u001b[1;36m2\u001b[0m\u001b[1;33m)\u001b[0m\u001b[1;33m\u001b[0m\u001b[1;33m\u001b[0m\u001b[0m\n\u001b[0m\u001b[0;32m     10\u001b[0m \u001b[0mprint\u001b[0m\u001b[1;33m(\u001b[0m\u001b[0mdata\u001b[0m\u001b[1;33m)\u001b[0m\u001b[1;33m\u001b[0m\u001b[1;33m\u001b[0m\u001b[0m\n",
      "\u001b[1;31mNameError\u001b[0m: name 'method' is not defined"
     ]
    }
   ],
   "source": [
    "# 두개의 리스트의 값을 서로 바꾸는 정렬 알고리즘을 하나 만들어봅시다.\n",
    "# x[1] = 3, x[2] = 10\n",
    "# method()\n",
    "# x[1] = 10, x[2] = 3\n",
    "data = [1,3,10,5,7]\n",
    "def swap(x, i, j):\n",
    "    x[i], x[j] = x[j], x[i]\n",
    "    \n",
    "method(data, 1, 2)\n",
    "print(data)"
   ]
  },
  {
   "cell_type": "code",
   "execution_count": 7,
   "metadata": {},
   "outputs": [
    {
     "name": "stdout",
     "output_type": "stream",
     "text": [
      "[1, 2, 4, 5, 6, 7, 8, 9, 10]\n"
     ]
    }
   ],
   "source": [
    "data = [4,8,7,6,2,1,9,5,10]\n",
    "data.sort()\n",
    "data\n",
    "# 정렬을 해주는 메서드를 만들면됩니다.\n",
    "# 단, sort() 를 사용해서는 안됩니다.\n",
    "def sort(x):\n",
    "    for index in reversed(range(len(x))):\n",
    "        max_i = 0\n",
    "        for i in range(1, 1 + index):\n",
    "            if x[i] > x[max_i]:\n",
    "                max_i = i\n",
    "        swap(x, max_i, index)\n",
    "        \n",
    "sort(data)\n",
    "print(data)\n",
    "        "
   ]
  },
  {
   "cell_type": "code",
   "execution_count": 17,
   "metadata": {},
   "outputs": [],
   "source": [
    "# 선택정렬을 만듭니다.\n",
    "data = [4,8,7,6,2,1,9,5,10]\n",
    "def sel_sort(arr):\n",
    "    # 전체의 배열의 크기를 확인할 for문\n",
    "    for i in range(len(data)):\n",
    "        # 가장 큰 인덱스에 현재 인덱스를 바꿔줍니다\n",
    "        max_i = i\n",
    "            # 반복문을 통해서 값을 바꿔주고\n",
    "        for j in range(i + 1, len(arr)):\n",
    "            if arr[max_i] > arr[j]:\n",
    "                max_i = j\n",
    "        # 튜플을 기능을 통해서 값을 맞바꿔줍니다.\n",
    "        arr[i], arr[max_i] = arr[max_i], arr[i]\n",
    "    return arr"
   ]
  },
  {
   "cell_type": "code",
   "execution_count": 18,
   "metadata": {},
   "outputs": [
    {
     "data": {
      "text/plain": [
       "[1, 2, 4, 5, 6, 7, 8, 9, 10]"
      ]
     },
     "execution_count": 18,
     "metadata": {},
     "output_type": "execute_result"
    }
   ],
   "source": [
    "sel_sort(data)"
   ]
  },
  {
   "cell_type": "code",
   "execution_count": null,
   "metadata": {},
   "outputs": [],
   "source": []
  }
 ],
 "metadata": {
  "kernelspec": {
   "display_name": "Python 3",
   "language": "python",
   "name": "python3"
  },
  "language_info": {
   "codemirror_mode": {
    "name": "ipython",
    "version": 3
   },
   "file_extension": ".py",
   "mimetype": "text/x-python",
   "name": "python",
   "nbconvert_exporter": "python",
   "pygments_lexer": "ipython3",
   "version": "3.8.5"
  }
 },
 "nbformat": 4,
 "nbformat_minor": 4
}
