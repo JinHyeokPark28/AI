{
 "cells": [
  {
   "cell_type": "markdown",
   "metadata": {},
   "source": [
    "# 분석\n",
    "- 점근적 분석(asymtotic analysis)\n",
    "    - 어떤 알고리즘에 큰 입력 데이터셋을 적용할 때 알고리즘의 제한 동작이나 성능을 설명하기 위해서 사용되는 방법이다.\n",
    "    - 컴퓨터 10억개의 숫자를 정렬\n",
    "        - 숫자 1개당 1바이트\n",
    "        - 1Ghz -> 10 ^ 9 -> 10억초"
   ]
  },
  {
   "cell_type": "code",
   "execution_count": 1,
   "metadata": {},
   "outputs": [
    {
     "data": {
      "text/plain": [
       "1000000000"
      ]
     },
     "execution_count": 1,
     "metadata": {},
     "output_type": "execute_result"
    }
   ],
   "source": [
    "# 복잡도\n",
    "# 환산 절차가 다항 시간을 걸리는 것을 의미\n",
    "# 복잡도 문제변환 : 한 문제를 원래 문제만큼 어렵게 다른 문제로 변환\n",
    "# 곱셈문제 -> 어려운문제 변환\n",
    "\n",
    "# 복잡도 종류\n",
    "# 복잡도 P, 복잡도 NP\n",
    "# 튜링 기계 테스트?\n",
    "\n",
    "# 복잡도 P\n",
    "# 결정론적 튜링 기계로 다항시간에 풀수 있는 판정 문제를 모아둔 복잡도 종류\n",
    "# 계산의 각 단계에서 단 한가지의 가능성만 고려할 수 있는 알고리즘 입니다.\n",
    "# * 다항 시간 안에풀 수 있는 문제입니다."
   ]
  },
  {
   "cell_type": "code",
   "execution_count": null,
   "metadata": {},
   "outputs": [],
   "source": []
  }
 ],
 "metadata": {
  "kernelspec": {
   "display_name": "Python 3",
   "language": "python",
   "name": "python3"
  },
  "language_info": {
   "codemirror_mode": {
    "name": "ipython",
    "version": 3
   },
   "file_extension": ".py",
   "mimetype": "text/x-python",
   "name": "python",
   "nbconvert_exporter": "python",
   "pygments_lexer": "ipython3",
   "version": "3.8.5"
  }
 },
 "nbformat": 4,
 "nbformat_minor": 4
}
