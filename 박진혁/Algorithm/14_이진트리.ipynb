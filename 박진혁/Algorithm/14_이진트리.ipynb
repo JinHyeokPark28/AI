{
 "cells": [
  {
   "cell_type": "code",
   "execution_count": 18,
   "metadata": {},
   "outputs": [
    {
     "name": "stdout",
     "output_type": "stream",
     "text": [
      "t : []\n",
      "3\n",
      "[4, [], []]\n",
      "[6, [], []]\n"
     ]
    }
   ],
   "source": [
    "# 이진트리 속성\n",
    "# 트리의 개수가 최대 2개(왼쪽, 오른쪽)\n",
    "\n",
    "# 이진트리 종류\n",
    "# 포화 이진 트리\n",
    "# 완전 이진 트린\n",
    "\n",
    "# 포화 이진 트리는 완전이진트리 이기도 하며\n",
    "# 모든 노드가 2개의 자식을 가진 트리를 말한다.\n",
    "\n",
    "# 완전 이진트리는 포화 이진트리에서 오른쪽 리프(노드)를\n",
    "# 제거해 나간 트리이다.\n",
    "\n",
    "\n",
    "# 이진 트리 구현\n",
    "# 리스트를 통해서 구현을 합니다.\n",
    "\n",
    "def BinaryTreeList(r):\n",
    "    return [r, [], []]\n",
    "\n",
    "def insertLeft(root, newBranch):\n",
    "    t = root.pop(1)\n",
    "    print(\"t :\", t)\n",
    "    if len(t) > 1:\n",
    "        root.insert(1, [newBranch, t, []])\n",
    "    else:\n",
    "        root.insert(1, [newBranch, [], []])\n",
    "    return root\n",
    "\n",
    "def insertRight(root, newBranch):\n",
    "    t = root.pop(2)\n",
    "    if len(t) > 1:\n",
    "        root.insert(2, [newBranch, [], t])\n",
    "    else:\n",
    "        root.insert(2, [newBranch, [], []])\n",
    "    return root\n",
    "\n",
    "def getRootValue(root):\n",
    "    return root[0]\n",
    "\n",
    "def setRootVal(root, value):\n",
    "    root[0] = value\n",
    "    \n",
    "def getLeftChild(root):\n",
    "    return root[1]\n",
    "\n",
    "def getRightChild(root):\n",
    "    return root[2]\n",
    "\n",
    "def main():\n",
    "    r = BinaryTreeList(3)\n",
    "    insertLeft(r, 4)\n",
    "#     insertLeft(r, 5)\n",
    "    insertRight(r, 6)\n",
    "#     insertRight(r, 7)\n",
    "    print(getRootValue(r))\n",
    "    print(getLeftChild(r))\n",
    "    print(getRightChild(r))\n",
    "    \n",
    "if __name__ == \"__main__\":\n",
    "    main()"
   ]
  },
  {
   "cell_type": "code",
   "execution_count": 17,
   "metadata": {},
   "outputs": [
    {
     "data": {
      "text/plain": [
       "[]"
      ]
     },
     "execution_count": 17,
     "metadata": {},
     "output_type": "execute_result"
    }
   ],
   "source": [
    "data = [4, [], []]\n",
    "data.pop(2)"
   ]
  },
  {
   "cell_type": "code",
   "execution_count": null,
   "metadata": {},
   "outputs": [],
   "source": []
  }
 ],
 "metadata": {
  "kernelspec": {
   "display_name": "Python 3",
   "language": "python",
   "name": "python3"
  },
  "language_info": {
   "codemirror_mode": {
    "name": "ipython",
    "version": 3
   },
   "file_extension": ".py",
   "mimetype": "text/x-python",
   "name": "python",
   "nbconvert_exporter": "python",
   "pygments_lexer": "ipython3",
   "version": "3.8.5"
  }
 },
 "nbformat": 4,
 "nbformat_minor": 4
}
