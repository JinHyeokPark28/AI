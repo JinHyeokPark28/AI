{
 "cells": [
  {
   "cell_type": "markdown",
   "metadata": {},
   "source": [
    "# 내장 시퀸스\n",
    "- 문자열, 튜플, 리스트, 바이트, 바이트배열\n",
    "    - 특징\n",
    "    - 멤버쉽 연산 : in 키워드를 사용할 수 있다.\n",
    "    - 크기 함수 : len()\n",
    "    - 슬라이싱 속성 : [:]\n",
    "    - 반복성 : 반복문에 있는 데이터를 순회할 수 있다.\n",
    "**내장시퀸스 -> iterator라는 기능을 가지고 있기 때문에**\n",
    "    "
   ]
  },
  {
   "cell_type": "code",
   "execution_count": 1,
   "metadata": {},
   "outputs": [
    {
     "name": "stdout",
     "output_type": "stream",
     "text": [
      "1\n",
      "2\n",
      "3\n",
      "4\n",
      "5\n",
      "6\n",
      "7\n",
      "8\n",
      "9\n",
      "10\n"
     ]
    },
    {
     "data": {
      "text/plain": [
       "10"
      ]
     },
     "execution_count": 1,
     "metadata": {},
     "output_type": "execute_result"
    }
   ],
   "source": [
    "data = [1,2,3,4,5,6,7,8,9,10]\n",
    "for _ in data:\n",
    "    print(_)\n",
    "    \n",
    "len(data)"
   ]
  },
  {
   "cell_type": "code",
   "execution_count": 2,
   "metadata": {},
   "outputs": [
    {
     "name": "stdout",
     "output_type": "stream",
     "text": [
      "b''\n",
      "bytearray(b'')\n"
     ]
    }
   ],
   "source": [
    "# 공백의 상태로 선언하기\n",
    "# 문자열\n",
    "str1 = \"\"\n",
    "# 리스트\n",
    "li = []\n",
    "# 튜플\n",
    "tup = ()\n",
    "# 바이트\n",
    "b = bytes([])\n",
    "print(b)\n",
    "# 바이트 배열\n",
    "ba = bytearray(b\"\")\n",
    "print(ba)\n"
   ]
  },
  {
   "cell_type": "markdown",
   "metadata": {},
   "source": [
    "## 가변성\n",
    "- 튜플, 문자열, 바이트 -> 불변타입\n",
    "- 리스트, 바이트배열 -> 가변타입\n",
    "\n",
    "> 파이썬의 모든 변수는 객체 참조 형식\n",
    "> 가변 객체를 복사할 때는 깊은 복사(Deep Copy)를 통해서 하는 것이 좋습니다."
   ]
  },
  {
   "cell_type": "code",
   "execution_count": 3,
   "metadata": {},
   "outputs": [
    {
     "name": "stdout",
     "output_type": "stream",
     "text": [
      "[1, 2, 3, 4]\n",
      "myList : 2359423589312\n",
      "newList : 2359423716288\n"
     ]
    }
   ],
   "source": [
    "# 리스트 깊은 복사\n",
    "myList = [1,2,3,4]\n",
    "newList = myList[:]\n",
    "print(newList)\n",
    "print(\"myList :\",id(myList))\n",
    "print(\"newList :\",id(newList))"
   ]
  },
  {
   "cell_type": "code",
   "execution_count": 4,
   "metadata": {},
   "outputs": [
    {
     "name": "stdout",
     "output_type": "stream",
     "text": [
      "<class 'set'>\n",
      "{'영희', '철수', '망구', '동희'}\n",
      "{'영희', '철수', '망구', '동희'}\n"
     ]
    }
   ],
   "source": [
    "# set\n",
    "people={\"영희\", \"철수\", \"동희\", \"망구\"}\n",
    "print(type(people))\n",
    "# set의 복사 방법\n",
    "# 새로운 변수 = set변수명.copy()\n",
    "student = people.copy()\n",
    "print(student)\n",
    "print(people)"
   ]
  },
  {
   "cell_type": "code",
   "execution_count": 5,
   "metadata": {},
   "outputs": [],
   "source": [
    "student.discard(\"철수\")\n",
    "student.remove(\"망구\")"
   ]
  },
  {
   "cell_type": "code",
   "execution_count": 6,
   "metadata": {},
   "outputs": [
    {
     "name": "stdout",
     "output_type": "stream",
     "text": [
      "{'영희', '동희'}\n",
      "{'영희', '철수', '망구', '동희'}\n"
     ]
    }
   ],
   "source": [
    "print(student)\n",
    "print(people)"
   ]
  },
  {
   "cell_type": "code",
   "execution_count": 7,
   "metadata": {},
   "outputs": [
    {
     "name": "stdout",
     "output_type": "stream",
     "text": [
      "마우스\n",
      "마우스\n",
      "마우스\n"
     ]
    }
   ],
   "source": [
    "# 복사를 도와주는 모듈\n",
    "# 기타 객체\n",
    "import copy\n",
    "obj = \"마우스\"\n",
    "newobj = copy.copy(obj)\n",
    "newobj2 = copy.deepcopy(obj)\n",
    "print(obj)\n",
    "print(newobj)\n",
    "print(newobj2)"
   ]
  },
  {
   "cell_type": "markdown",
   "metadata": {},
   "source": []
  },
  {
   "cell_type": "markdown",
   "metadata": {},
   "source": [
    "## 슬라이싱 연산자\n",
    "- 잘라서 특정 요소만 출력\n",
    "- seq[시작]\n",
    "- seq[시작:끝]\n",
    "- seq[시작:끝:스탭]"
   ]
  },
  {
   "cell_type": "code",
   "execution_count": 8,
   "metadata": {},
   "outputs": [
    {
     "data": {
      "text/plain": [
       "[1, 4, 7, 10]"
      ]
     },
     "execution_count": 8,
     "metadata": {},
     "output_type": "execute_result"
    }
   ],
   "source": [
    "data= [1,2,3,4,5,6,7,8,9,10]\n",
    "data[0:10:3]"
   ]
  },
  {
   "cell_type": "code",
   "execution_count": 9,
   "metadata": {},
   "outputs": [
    {
     "data": {
      "text/plain": [
       "'나썬 즐.1하요'"
      ]
     },
     "execution_count": 9,
     "metadata": {},
     "output_type": "execute_result"
    }
   ],
   "source": [
    "str1 = \"나는 파이썬이 너무 재밌고 즐겁습니다. 매일 10시간 하고 싶어요\"\n",
    "str1[::5]"
   ]
  },
  {
   "cell_type": "markdown",
   "metadata": {},
   "source": [
    "# 문자열\n",
    "- 파이썬 : str, 다른언어 : string\n",
    "- 불변타입\n",
    "- 사용자에게 출력을 해주는 출력형식(문자열 형식)\n",
    "- 파이썬 내부에서 문자열 앞에 u를 붙인다면 유니코드 문자열을 만들 수 있습니다.\n",
    "\n",
    "> 문자열 메서드\n",
    "- join() : 문자열을 단일 문자열로 결합해주는 역할\n",
    "- ljust() : 길이만큼 문자를 채웁니다. \n",
    "- format() : 문자열의 변수를 추가하거나 형식화 역할\n",
    "- locals() : format 스코프에 들어와있는 지역변수를 딕셔너리로 변환   "
   ]
  },
  {
   "cell_type": "code",
   "execution_count": 10,
   "metadata": {},
   "outputs": [
    {
     "name": "stdout",
     "output_type": "stream",
     "text": [
      "['철수', '영희', '만곤']\n"
     ]
    },
    {
     "data": {
      "text/plain": [
       "'철수, 영희, 만곤'"
      ]
     },
     "execution_count": 10,
     "metadata": {},
     "output_type": "execute_result"
    }
   ],
   "source": [
    "people = [\"철수\", \"영희\", \"만곤\"]\n",
    "print(people)\n",
    "\", \".join(people)"
   ]
  },
  {
   "cell_type": "code",
   "execution_count": 11,
   "metadata": {},
   "outputs": [
    {
     "data": {
      "text/plain": [
       "'철수영희만곤'"
      ]
     },
     "execution_count": 11,
     "metadata": {},
     "output_type": "execute_result"
    }
   ],
   "source": [
    "\"\".join(people)"
   ]
  },
  {
   "cell_type": "code",
   "execution_count": 12,
   "metadata": {},
   "outputs": [],
   "source": [
    "bestSt = \"경현\""
   ]
  },
  {
   "cell_type": "code",
   "execution_count": 13,
   "metadata": {},
   "outputs": [
    {
     "name": "stdout",
     "output_type": "stream",
     "text": [
      "**************경현\n"
     ]
    }
   ],
   "source": [
    "star = \"**************\"\n",
    "best = star + bestSt\n",
    "print(best)"
   ]
  },
  {
   "cell_type": "code",
   "execution_count": 14,
   "metadata": {},
   "outputs": [
    {
     "data": {
      "text/plain": [
       "'****************************************************************************************************경현'"
      ]
     },
     "execution_count": 14,
     "metadata": {},
     "output_type": "execute_result"
    }
   ],
   "source": [
    "#ljust, rjust(width, fillchar)\n",
    "# width = 문자열을 포함한 길이\n",
    "# fillchar = 'width'의 길이만큼 문자 fillchar를 채운다.\n",
    "bestSt.rjust(102, '*')"
   ]
  },
  {
   "cell_type": "code",
   "execution_count": 15,
   "metadata": {},
   "outputs": [
    {
     "data": {
      "text/plain": [
       "'경현****************************'"
      ]
     },
     "execution_count": 15,
     "metadata": {},
     "output_type": "execute_result"
    }
   ],
   "source": [
    "bestSt.ljust(30, '*')"
   ]
  },
  {
   "cell_type": "code",
   "execution_count": 16,
   "metadata": {},
   "outputs": [
    {
     "data": {
      "text/plain": [
       "'파이썬은 재밌다.'"
      ]
     },
     "execution_count": 16,
     "metadata": {},
     "output_type": "execute_result"
    }
   ],
   "source": [
    "# format() : 어떤 문자열에 변수를 추가하거나, 형식화 하는 데 사용합니다.\n",
    "\"{0} {1}\".format(\"파이썬은\", \"재밌다.\")"
   ]
  },
  {
   "cell_type": "code",
   "execution_count": 17,
   "metadata": {},
   "outputs": [
    {
     "data": {
      "text/plain": [
       "'최우수 학생 : 진혁, 학년 : 3'"
      ]
     },
     "execution_count": 17,
     "metadata": {},
     "output_type": "execute_result"
    }
   ],
   "source": [
    "\"최우수 학생 : {name}, 학년 : {grade}\".format(name = \"진혁\", grade='3')"
   ]
  },
  {
   "cell_type": "code",
   "execution_count": 18,
   "metadata": {},
   "outputs": [
    {
     "data": {
      "text/plain": [
       "'최우수 학생 : 진혁, 학년 : 2'"
      ]
     },
     "execution_count": 18,
     "metadata": {},
     "output_type": "execute_result"
    }
   ],
   "source": [
    "\"최우수 학생 : {0}, 학년 : {grade}\".format(\"진혁\", grade='2')"
   ]
  },
  {
   "cell_type": "code",
   "execution_count": 19,
   "metadata": {},
   "outputs": [
    {
     "data": {
      "text/plain": [
       "\"11 11 Decimal('11') Decimal('11')\""
      ]
     },
     "execution_count": 19,
     "metadata": {},
     "output_type": "execute_result"
    }
   ],
   "source": [
    "# 표현형식\n",
    "# 문자열형식 : s\n",
    "# 표현형식 : r\n",
    "# 아스키코드 형식 : a\n",
    "\n",
    "import decimal\n",
    "\"{0} {0!s} {0!r} {0!a}\".format(decimal.Decimal('11'))"
   ]
  },
  {
   "cell_type": "code",
   "execution_count": 20,
   "metadata": {},
   "outputs": [
    {
     "data": {
      "text/plain": [
       "'장군:43'"
      ]
     },
     "execution_count": 20,
     "metadata": {},
     "output_type": "execute_result"
    }
   ],
   "source": [
    "# locals() : 인수를 딕셔너리 형식으로 만들어준다.\n",
    "name = \"장군\"\n",
    "age = 43\n",
    "\"{name}:{age}\".format(**locals())"
   ]
  },
  {
   "cell_type": "code",
   "execution_count": 21,
   "metadata": {},
   "outputs": [],
   "source": [
    "news = \"\"\"직장인 강모(37)씨는 이번 달에만 넥슨의 축구 게임 ‘피파 온라인4′에 100만원을 썼다.\n",
    "게임 속에서 선수 카드를 사 복권 긁듯이 열면 무작위로 축구 선수가 나오는데, 스타 선수를 얻으려 계속 돈을 쓴 것이다.\n",
    "강씨는 “매달 30만~40만원을 선수 카드를 구매하는 데 쓴다”며 “이번 달엔 연말 성과급까지 털어넣었다”고 했다. \n",
    "그는 “정말 원하던 선수가 나올 때 쾌감 때문에 돈을 들이는데 카드를 열 때마다 전부 기존 선수보다 능력치가 낮은 선수만 얻어 허탈하다”고 말했다.\n",
    "\"\"\""
   ]
  },
  {
   "cell_type": "code",
   "execution_count": 22,
   "metadata": {},
   "outputs": [],
   "source": [
    "# splitlines() : 개행문자를 기준으로 문자열을 나눠서 리스트화 합니다."
   ]
  },
  {
   "cell_type": "code",
   "execution_count": 23,
   "metadata": {},
   "outputs": [
    {
     "data": {
      "text/plain": [
       "['직장인 강모(37)씨는 이번 달에만 넥슨의 축구 게임 ‘피파 온라인4′에 100만원을 썼다.',\n",
       " '게임 속에서 선수 카드를 사 복권 긁듯이 열면 무작위로 축구 선수가 나오는데, 스타 선수를 얻으려 계속 돈을 쓴 것이다.',\n",
       " '강씨는 “매달 30만~40만원을 선수 카드를 구매하는 데 쓴다”며 “이번 달엔 연말 성과급까지 털어넣었다”고 했다. ',\n",
       " '그는 “정말 원하던 선수가 나올 때 쾌감 때문에 돈을 들이는데 카드를 열 때마다 전부 기존 선수보다 능력치가 낮은 선수만 얻어 허탈하다”고 말했다.']"
      ]
     },
     "execution_count": 23,
     "metadata": {},
     "output_type": "execute_result"
    }
   ],
   "source": [
    "news.splitlines()"
   ]
  },
  {
   "cell_type": "code",
   "execution_count": 24,
   "metadata": {},
   "outputs": [
    {
     "name": "stdout",
     "output_type": "stream",
     "text": [
      "I'm hungry.\n"
     ]
    },
    {
     "data": {
      "text/plain": [
       "'WLSGURwkDwKD!!'"
      ]
     },
     "execution_count": 24,
     "metadata": {},
     "output_type": "execute_result"
    }
   ],
   "source": [
    "# 문자열의 첫글자를 대문자로 바꿔줄수 있습니다.\n",
    "words = \"i'm hungry.\"\n",
    "capital_words = words.capitalize()\n",
    "print(capital_words)\n",
    "# 소문자 변환 -> lower()\n",
    "# 대문자 변환 -> upper()\n",
    "\n",
    "capital_words.lower()\n",
    "capital_words.upper()\n",
    "\n",
    "passwords = \"wlsgurWKdWkd!!\"\n",
    "# 소문자를 따로 보관 -> 대문자로 수정\n",
    "# 대문자를 따로 보관 -> 소문자로 수정\n",
    "# 특수문자 따로 보관 -> 특수문자는 붙여줍니다.,\n",
    "\n",
    "# swapcase() -> 소문자->대문자, 대문자->소문자\n",
    "passwords.swapcase()"
   ]
  },
  {
   "cell_type": "code",
   "execution_count": 25,
   "metadata": {},
   "outputs": [
    {
     "ename": "TypeError",
     "evalue": "find() takes no keyword arguments",
     "output_type": "error",
     "traceback": [
      "\u001b[1;31m---------------------------------------------------------------------------\u001b[0m",
      "\u001b[1;31mTypeError\u001b[0m                                 Traceback (most recent call last)",
      "\u001b[1;32m<ipython-input-25-9e19aabebd88>\u001b[0m in \u001b[0;36m<module>\u001b[1;34m\u001b[0m\n\u001b[0;32m      6\u001b[0m \u001b[1;31m# find()\u001b[0m\u001b[1;33m\u001b[0m\u001b[1;33m\u001b[0m\u001b[1;33m\u001b[0m\u001b[0m\n\u001b[0;32m      7\u001b[0m \u001b[0mword\u001b[0m \u001b[1;33m=\u001b[0m \u001b[1;34m\"파이썬은 너무 쉽고 재밌습니다.\"\u001b[0m\u001b[1;33m\u001b[0m\u001b[1;33m\u001b[0m\u001b[0m\n\u001b[1;32m----> 8\u001b[1;33m \u001b[0mword\u001b[0m\u001b[1;33m.\u001b[0m\u001b[0mfind\u001b[0m\u001b[1;33m(\u001b[0m\u001b[1;34m\"너무\"\u001b[0m\u001b[1;33m,\u001b[0m \u001b[0mstart\u001b[0m\u001b[1;33m=\u001b[0m\u001b[1;36m0\u001b[0m\u001b[1;33m,\u001b[0m \u001b[0mend\u001b[0m\u001b[1;33m=\u001b[0m\u001b[1;36m17\u001b[0m\u001b[1;33m)\u001b[0m\u001b[1;33m\u001b[0m\u001b[1;33m\u001b[0m\u001b[0m\n\u001b[0m",
      "\u001b[1;31mTypeError\u001b[0m: find() takes no keyword arguments"
     ]
    }
   ],
   "source": [
    "# index(), # find()\n",
    "# .index(sub, start, end)\n",
    "# sub : 문자열의 부분 문자열 인덱스를 위치를 반환\n",
    "\"파이썬은 너무 쉽고 재밌습니다.\".index('너무', 0, 17 )\n",
    "\n",
    "# find()\n",
    "word = \"파이썬은 너무 쉽고 재밌습니다.\"\n",
    "word.find(\"너무\", start=0, end=17)"
   ]
  },
  {
   "cell_type": "code",
   "execution_count": 26,
   "metadata": {},
   "outputs": [
    {
     "data": {
      "text/plain": [
       "'내가 그린 하마 그림은 잘 그린 하마 그림이고 네가 그린 기린 그림은 잘못 그린 기린 그림이다.'"
      ]
     },
     "execution_count": 26,
     "metadata": {},
     "output_type": "execute_result"
    }
   ],
   "source": [
    "# count (sub, start, end)\n",
    "# 찾기 위한 함수\n",
    "giraffe = \"내가 그린 기린 그림은 잘 그린 기린 그림이고 네가 그린 기린 그림은 잘못 그린 기린 그림이다.\"\n",
    "giraffe.count(\"기린\", 0, 54)\n",
    "# replace(old, new, maxreplace:개수)\n",
    "# old를 대체할 문자열 new를 maxreplace만큼 변경할 문자열의 복사본을 반환\n",
    "giraffe.replace(\"기린\", \"하마\", 2)"
   ]
  },
  {
   "cell_type": "code",
   "execution_count": 27,
   "metadata": {},
   "outputs": [
    {
     "name": "stdout",
     "output_type": "stream",
     "text": [
      "물리학도 학생의 이름은 '동훈'이었다.\n"
     ]
    }
   ],
   "source": [
    "# f-string() : format를 대신해서 사용할 수 있는 방식\n",
    "# f를 맨앞에 붙여서 사용합니다.\n",
    "name = \"동훈\"\n",
    "# print(f\"물리학도 학생이름은 {name!r}이었다.\")\n",
    "print(f\"물리학도 학생의 이름은 {repr(name)}이었다.\")"
   ]
  },
  {
   "cell_type": "markdown",
   "metadata": {},
   "source": [
    "# 튜플\n",
    "- ,로 구분된 값으로 이루어지는 불변 시퀸스 타입\n",
    "- 각 위치에서 객체 참조를 갖습니다.\n",
    "- 튜플 -> 리스트로 변경이 가능하다.\n"
   ]
  },
  {
   "cell_type": "code",
   "execution_count": 28,
   "metadata": {},
   "outputs": [
    {
     "name": "stdout",
     "output_type": "stream",
     "text": [
      "3\n"
     ]
    },
    {
     "data": {
      "text/plain": [
       "7"
      ]
     },
     "execution_count": 28,
     "metadata": {},
     "output_type": "execute_result"
    }
   ],
   "source": [
    "# count(x) : 어떤 튜플에 들어있는 x의 개수를 반환\n",
    "tup1= 1,2,3,4,5,6,7,8,9,10,8,8\n",
    "print(tup1.count(8))\n",
    "# index (x) : x의 인덱스 위치를 반환\n",
    "tup1.index(8)"
   ]
  },
  {
   "cell_type": "code",
   "execution_count": 29,
   "metadata": {},
   "outputs": [
    {
     "name": "stdout",
     "output_type": "stream",
     "text": [
      "a : 1 , b : [2, 3, 4, 5, 6, 7, 8, 9, 10]\n"
     ]
    }
   ],
   "source": [
    "#튜플 언패킹(*) -> 시퀸스 언패킹 연산자\n",
    "# 변수가 할당되는 문자에서 두개 이상의 변수를 사용하고 한 변수 앞에  * 연산자를\n",
    "# 붙이면 오른쪽 값들 중에 할당되고 남은 값들이 *이 붙은 변수에 할당됩니다.\n",
    "a, * b = 1,2,3,4,5,6,7,8,9,10\n",
    "print(\"a :\", a,\",\", \"b :\", b)"
   ]
  },
  {
   "cell_type": "code",
   "execution_count": 30,
   "metadata": {},
   "outputs": [
    {
     "name": "stdout",
     "output_type": "stream",
     "text": [
      "[1, 2, 3, 4, 5, 6, 8, 9] 10\n"
     ]
    }
   ],
   "source": [
    "*x, y= (1,2,3,4,5,6,8,9,10)\n",
    "print(x,y)"
   ]
  },
  {
   "cell_type": "markdown",
   "metadata": {},
   "source": [
    "# Collections\n",
    "-  NamedTuple() : 일반 튜플과 비슷한 선능과 특성을 갖습니다.\n",
    "- 이름만으로 참조가 가능합니다.\n",
    "- 첫번째 인자 :  사용자 정의 이름\n",
    "- 두번째 인자 : 공백으로 구분된 문자열(리스트, 튜플)"
   ]
  },
  {
   "cell_type": "code",
   "execution_count": 31,
   "metadata": {},
   "outputs": [
    {
     "name": "stdout",
     "output_type": "stream",
     "text": [
      "Student(name='민기', age='17', height='172')\n"
     ]
    }
   ],
   "source": [
    "import collections\n",
    "student1 = collections.namedtuple('Student', \"name age height\")\n",
    "st1 = student1(\"민기\" , '17', '172')\n",
    "print(st1)"
   ]
  },
  {
   "cell_type": "code",
   "execution_count": 32,
   "metadata": {},
   "outputs": [
    {
     "name": "stdout",
     "output_type": "stream",
     "text": [
      "Student(name='수진', age='19', height='162')\n",
      "('수진', '19', '162')\n",
      "여학생의 키 : 162 cm\n",
      "이름 : 수진\n",
      "나이:19\n",
      "키:162\n"
     ]
    }
   ],
   "source": [
    "student2 = collections.namedtuple('Student', [\"name\", \"age\", \"height\"])\n",
    "st2 = student2(\"수진\", \"19\", \"162\")\n",
    "print(st2)\n",
    "# 슬라이싱 형식\n",
    "print(st2[:])\n",
    "# 속성별 데이터 가져오기\n",
    "print(\"여학생의 키 :\", st2.height, \"cm\")\n",
    "# st2.height = 164\n",
    "# f-string, 혹은 format을 사용해서 \n",
    "# 민기 또는 수진의 정보를 출력해보기\n",
    "print(\"이름 : {0}\\n나이:{1}\\n키:{2}\".format(st2.name, st2.age, st2.height))"
   ]
  },
  {
   "cell_type": "markdown",
   "metadata": {},
   "source": [
    "# 리스트\n",
    "- 배열\n",
    "- 연결리스트 : 여러 노드가 서로 연결되어 있는 구조\n",
    "    - 추상데이터 타입 : ADT(Abstract Data Type)\n",
    "    - 가변 데이터 형식"
   ]
  },
  {
   "cell_type": "code",
   "execution_count": 33,
   "metadata": {},
   "outputs": [
    {
     "name": "stdout",
     "output_type": "stream",
     "text": [
      "['지갑', '아이폰', '에어팟']\n",
      "['지갑', '아이폰', '에어팟', '보조배터리']\n"
     ]
    }
   ],
   "source": [
    "# append(x) : 어떤 리스트의 인덱스 끝부분에 x를 추가합니다.\n",
    "A = [\"지갑\", \"아이폰\"]\n",
    "A.append(\"에어팟\")\n",
    "print(A)\n",
    "# 슬라이싱 기능 + 길이\n",
    "A[len(A):] = [\"보조배터리\"]\n",
    "print(A)"
   ]
  },
  {
   "cell_type": "code",
   "execution_count": 34,
   "metadata": {},
   "outputs": [
    {
     "name": "stdout",
     "output_type": "stream",
     "text": [
      "['하마', '황제펭귄', '북극곰', '독수리', '기린']\n"
     ]
    }
   ],
   "source": [
    "# 새로운 리스트 만들어서 추가해봅시다!\n",
    "# 동물 종류를 가지고 있는 리스트 추가!\n",
    "animal = [\"하마\", \"황제펭귄\", \"북극곰\"]\n",
    "animal.append(\"독수리\")\n",
    "animal[len(animal):] = [\"기린\"]\n",
    "print(animal)\n"
   ]
  },
  {
   "cell_type": "code",
   "execution_count": 35,
   "metadata": {},
   "outputs": [],
   "source": [
    "# extend(x) : 반복가능한 모든 항목 x를 리스트에 추가합니다.\n",
    "A.extend('차키') "
   ]
  },
  {
   "cell_type": "code",
   "execution_count": 36,
   "metadata": {},
   "outputs": [
    {
     "name": "stdout",
     "output_type": "stream",
     "text": [
      "['지갑', '아이폰', '에어팟', '보조배터리', '차', '키']\n"
     ]
    }
   ],
   "source": [
    "print(A)"
   ]
  },
  {
   "cell_type": "code",
   "execution_count": 37,
   "metadata": {},
   "outputs": [
    {
     "name": "stdout",
     "output_type": "stream",
     "text": [
      "['지갑', '아이폰', '에어팟', '보조배터리', '차', '키', '마', '스', '크']\n"
     ]
    }
   ],
   "source": [
    "A += '마스크'\n",
    "print(A)"
   ]
  },
  {
   "cell_type": "code",
   "execution_count": 38,
   "metadata": {},
   "outputs": [
    {
     "ename": "ValueError",
     "evalue": "list.remove(x): x not in list",
     "output_type": "error",
     "traceback": [
      "\u001b[1;31m---------------------------------------------------------------------------\u001b[0m",
      "\u001b[1;31mValueError\u001b[0m                                Traceback (most recent call last)",
      "\u001b[1;32m<ipython-input-38-ff2041647b10>\u001b[0m in \u001b[0;36m<module>\u001b[1;34m\u001b[0m\n\u001b[0;32m      1\u001b[0m \u001b[1;31m# remove(x) : x를 리스트내에서 삭제\u001b[0m\u001b[1;33m\u001b[0m\u001b[1;33m\u001b[0m\u001b[1;33m\u001b[0m\u001b[0m\n\u001b[1;32m----> 2\u001b[1;33m \u001b[0mA\u001b[0m\u001b[1;33m.\u001b[0m\u001b[0mremove\u001b[0m\u001b[1;33m(\u001b[0m\u001b[1;34m'라이터'\u001b[0m\u001b[1;33m)\u001b[0m\u001b[1;33m\u001b[0m\u001b[1;33m\u001b[0m\u001b[0m\n\u001b[0m\u001b[0;32m      3\u001b[0m \u001b[0mprint\u001b[0m\u001b[1;33m(\u001b[0m\u001b[0mA\u001b[0m\u001b[1;33m)\u001b[0m\u001b[1;33m\u001b[0m\u001b[1;33m\u001b[0m\u001b[0m\n",
      "\u001b[1;31mValueError\u001b[0m: list.remove(x): x not in list"
     ]
    }
   ],
   "source": [
    "# remove(x) : x를 리스트내에서 삭제\n",
    "A.remove('라이터')\n",
    "print(A)"
   ]
  },
  {
   "cell_type": "code",
   "execution_count": 39,
   "metadata": {},
   "outputs": [
    {
     "name": "stdout",
     "output_type": "stream",
     "text": [
      "['지갑', '라이터', '아이폰', '에어팟', '보조배터리', '차', '키', '마', '스', '크']\n"
     ]
    }
   ],
   "source": [
    "# insert(i, x) : i의 위치에 x를 삽입\n",
    "A.insert(1, \"라이터\")\n",
    "print(A)"
   ]
  },
  {
   "cell_type": "code",
   "execution_count": 40,
   "metadata": {},
   "outputs": [
    {
     "data": {
      "text/plain": [
       "'차'"
      ]
     },
     "execution_count": 40,
     "metadata": {},
     "output_type": "execute_result"
    }
   ],
   "source": [
    "# pop(x) : 리스트 내에 있는 x를 삭제하고 x를 반환\n",
    "A.pop(5)"
   ]
  },
  {
   "cell_type": "code",
   "execution_count": 41,
   "metadata": {},
   "outputs": [
    {
     "data": {
      "text/plain": [
       "'크'"
      ]
     },
     "execution_count": 41,
     "metadata": {},
     "output_type": "execute_result"
    }
   ],
   "source": [
    "A.pop()"
   ]
  },
  {
   "cell_type": "code",
   "execution_count": 42,
   "metadata": {},
   "outputs": [
    {
     "name": "stdout",
     "output_type": "stream",
     "text": [
      "['지갑', '라이터', '아이폰', '에어팟', '보조배터리', '키', '마', '스']\n"
     ]
    }
   ],
   "source": [
    "print(A)"
   ]
  },
  {
   "cell_type": "code",
   "execution_count": 43,
   "metadata": {},
   "outputs": [],
   "source": [
    "#del (n) : 리스트의 인덱스를 지정해서 특정 항목을 삭제\n",
    "del A[0]"
   ]
  },
  {
   "cell_type": "code",
   "execution_count": 44,
   "metadata": {},
   "outputs": [
    {
     "name": "stdout",
     "output_type": "stream",
     "text": [
      "['라이터', '아이폰', '에어팟', '보조배터리', '키', '마', '스']\n"
     ]
    }
   ],
   "source": [
    "print(A)"
   ]
  },
  {
   "cell_type": "code",
   "execution_count": 45,
   "metadata": {},
   "outputs": [],
   "source": [
    "del A[3:9]"
   ]
  },
  {
   "cell_type": "code",
   "execution_count": 46,
   "metadata": {},
   "outputs": [
    {
     "name": "stdout",
     "output_type": "stream",
     "text": [
      "['라이터', '아이폰', '에어팟']\n"
     ]
    }
   ],
   "source": [
    "print(A)"
   ]
  },
  {
   "cell_type": "code",
   "execution_count": 47,
   "metadata": {},
   "outputs": [
    {
     "ename": "ValueError",
     "evalue": "'보조배터리' is not in list",
     "output_type": "error",
     "traceback": [
      "\u001b[1;31m---------------------------------------------------------------------------\u001b[0m",
      "\u001b[1;31mValueError\u001b[0m                                Traceback (most recent call last)",
      "\u001b[1;32m<ipython-input-47-26460dcf8af0>\u001b[0m in \u001b[0;36m<module>\u001b[1;34m\u001b[0m\n\u001b[0;32m      1\u001b[0m \u001b[1;31m# index(x) : 리스트 내의 요소의 이름을 찾아 몇번째 인덱스 인지 반환\u001b[0m\u001b[1;33m\u001b[0m\u001b[1;33m\u001b[0m\u001b[1;33m\u001b[0m\u001b[0m\n\u001b[1;32m----> 2\u001b[1;33m \u001b[0mA\u001b[0m\u001b[1;33m.\u001b[0m\u001b[0mindex\u001b[0m\u001b[1;33m(\u001b[0m\u001b[1;34m\"보조배터리\"\u001b[0m\u001b[1;33m)\u001b[0m\u001b[1;33m\u001b[0m\u001b[1;33m\u001b[0m\u001b[0m\n\u001b[0m",
      "\u001b[1;31mValueError\u001b[0m: '보조배터리' is not in list"
     ]
    }
   ],
   "source": [
    "# index(x) : 리스트 내의 요소의 이름을 찾아 몇번째 인덱스 인지 반환\n",
    "A.index(\"보조배터리\")"
   ]
  },
  {
   "cell_type": "code",
   "execution_count": 48,
   "metadata": {},
   "outputs": [
    {
     "name": "stdout",
     "output_type": "stream",
     "text": [
      "[1, 2, 3, 4, 5, 6, 7, 8, 9, 10]\n",
      "[10, 9, 8, 7, 6, 5, 4, 3, 2, 1]\n"
     ]
    }
   ],
   "source": [
    "# 정렬\n",
    "# sort(key, reverse=False)\n",
    "numbers = [4,6,3,5,2,1,7,9,8,10]\n",
    "numbers.sort()\n",
    "print(numbers)\n",
    "numbers.sort(reverse=True)\n",
    "print(numbers)"
   ]
  },
  {
   "cell_type": "code",
   "execution_count": 49,
   "metadata": {},
   "outputs": [
    {
     "data": {
      "text/plain": [
       "18"
      ]
     },
     "execution_count": 49,
     "metadata": {},
     "output_type": "execute_result"
    }
   ],
   "source": [
    "# 리스트 언패킹\n",
    "# *\n",
    "num_list = [1,2,3]\n",
    "def num_mul(a,b,c):\n",
    "    return a * b * c\n",
    "\n",
    "num_mul(3, *num_list[1:])"
   ]
  },
  {
   "cell_type": "code",
   "execution_count": 50,
   "metadata": {},
   "outputs": [],
   "source": [
    "# 0을 리스트안에다가 100개 넣고 싶다.\n",
    "# 어떻게 하면 될까?\n",
    "a = 0\n",
    "list1 = []\n",
    "for i in range(100):\n",
    "    list1.append(a)"
   ]
  },
  {
   "cell_type": "code",
   "execution_count": 51,
   "metadata": {},
   "outputs": [
    {
     "name": "stdout",
     "output_type": "stream",
     "text": [
      "[0, 0, 0, 0, 0, 0, 0, 0, 0, 0, 0, 0, 0, 0, 0, 0, 0, 0, 0, 0, 0, 0, 0, 0, 0, 0, 0, 0, 0, 0, 0, 0, 0, 0, 0, 0, 0, 0, 0, 0, 0, 0, 0, 0, 0, 0, 0, 0, 0, 0, 0, 0, 0, 0, 0, 0, 0, 0, 0, 0, 0, 0, 0, 0, 0, 0, 0, 0, 0, 0, 0, 0, 0, 0, 0, 0, 0, 0, 0, 0, 0, 0, 0, 0, 0, 0, 0, 0, 0, 0, 0, 0, 0, 0, 0, 0, 0, 0, 0, 0]\n"
     ]
    }
   ],
   "source": [
    "print(list1)"
   ]
  },
  {
   "cell_type": "code",
   "execution_count": 52,
   "metadata": {},
   "outputs": [
    {
     "name": "stdout",
     "output_type": "stream",
     "text": [
      "[0, 0, 0, 0, 0, 0, 0, 0, 0, 0, 0, 0, 0, 0, 0, 0, 0, 0, 0, 0, 0, 0, 0, 0, 0, 0, 0, 0, 0, 0, 0, 0, 0, 0, 0, 0, 0, 0, 0, 0, 0, 0, 0, 0, 0, 0, 0, 0, 0, 0, 0, 0, 0, 0, 0, 0, 0, 0, 0, 0, 0, 0, 0, 0, 0, 0, 0, 0, 0, 0, 0, 0, 0, 0, 0, 0, 0, 0, 0, 0, 0, 0, 0, 0, 0, 0, 0, 0, 0, 0, 0, 0, 0, 0, 0, 0, 0, 0, 0, 0]\n"
     ]
    }
   ],
   "source": [
    "# 컴프리핸션\n",
    "# 반복문의 표현방법\n",
    "a = [0 for _ in range(100)]\n",
    "print(a)"
   ]
  },
  {
   "cell_type": "code",
   "execution_count": 53,
   "metadata": {},
   "outputs": [
    {
     "name": "stdout",
     "output_type": "stream",
     "text": [
      "[2, 4, 8, 16, 32, 64, 128, 256, 512, 1024, 2048, 4096, 8192, 16384, 32768]\n"
     ]
    }
   ],
   "source": [
    "# 2의 제곱을 가진 15개의 숫자를 for문 컴프리핸션을 사용해서 만들어보세요!\n",
    "b = [2 ** i for i in range(1, 16)]\n",
    "print(b)"
   ]
  },
  {
   "cell_type": "code",
   "execution_count": 54,
   "metadata": {},
   "outputs": [
    {
     "name": "stdout",
     "output_type": "stream",
     "text": [
      "[1900, 1904, 1908, 1912, 1916, 1920, 1924, 1928, 1932, 1936, 1940, 1944, 1948, 1952, 1956, 1960, 1964, 1968, 1972, 1976, 1980, 1984, 1988, 1992, 1996, 2000, 2004, 2008, 2012, 2016, 2020]\n"
     ]
    }
   ],
   "source": [
    "# 1900 ~ 2021 4년에 한번씩 출력\n",
    "#, 단 컴프리핸션 사용하기!\n",
    "c = [year for year in range(1900, 2021) if year % 4 == 0]\n",
    "print(c)"
   ]
  },
  {
   "cell_type": "code",
   "execution_count": 55,
   "metadata": {},
   "outputs": [
    {
     "name": "stdout",
     "output_type": "stream",
     "text": [
      "[(3, 4), (4, 3), (4, 4), (5, 3), (5, 4), (6, 2), (6, 3), (6, 4), (7, 2), (7, 3), (7, 4), (8, 2), (8, 3), (8, 4), (9, 2), (9, 3), (9, 4)]\n",
      "[(3, 4), (4, 3), (4, 4), (5, 3), (5, 4), (6, 2), (6, 3), (6, 4), (7, 2), (7, 3), (7, 4), (8, 2), (8, 3), (8, 4), (9, 2), (9, 3), (9, 4)]\n"
     ]
    }
   ],
   "source": [
    "# 이중포문\n",
    "result = [(x, y) for x in range(10) for y in range(5) if x * y > 10]\n",
    "print(result)\n",
    "\n",
    "result = []\n",
    "for x in range(10):\n",
    "    for  y in range(5):\n",
    "        if x * y > 10:\n",
    "            result.append((x, y))\n",
    "            \n",
    "print(result)"
   ]
  },
  {
   "cell_type": "code",
   "execution_count": 56,
   "metadata": {},
   "outputs": [
    {
     "name": "stdout",
     "output_type": "stream",
     "text": [
      "concat,  7.8905695 milliseconds\n",
      "append,  6.4901976999999995 milliseconds\n",
      "comprehension,  3.3546349999999983 milliseconds\n",
      "list range,  1.565158499999999 milliseconds\n"
     ]
    }
   ],
   "source": [
    "# 리스트 추가\n",
    "# 어느방법이 제일 빠른지 \n",
    "# timeit 모듈 -> Timer라는 객체를 생성\n",
    "# 기본값 : 100000\n",
    "# 테스트가 끝나면 문장이 수행된 시간(밀리초) 부동소수점을 반환\n",
    "\n",
    "def test1():\n",
    "    l = []\n",
    "    for i in range(100000):\n",
    "        l += [i]\n",
    "        \n",
    "def test2():\n",
    "    l = []\n",
    "    for i in range(100000):\n",
    "        l.append(i)\n",
    "        \n",
    "def test3():\n",
    "    l = [i for i in range(100000)]\n",
    "    \n",
    "def test4():\n",
    "    l = list(range(100000))\n",
    "    \n",
    "if __name__ == \"__main__\":\n",
    "    import timeit\n",
    "    t1 = timeit.Timer(\"test1()\", \"from __main__ import test1\")\n",
    "    print(\"concat, \", t1.timeit(number=1000), 'milliseconds')\n",
    "    t2 = timeit.Timer(\"test2()\", \"from __main__ import test2\")\n",
    "    print(\"append, \", t2.timeit(number=1000), 'milliseconds')\n",
    "    t3 = timeit.Timer(\"test3()\", \"from __main__ import test3\")\n",
    "    print(\"comprehension, \", t3.timeit(number=1000), 'milliseconds')\n",
    "    t4 = timeit.Timer(\"test4()\", \"from __main__ import test4\")\n",
    "    print(\"list range, \", t4.timeit(number=1000), 'milliseconds')"
   ]
  },
  {
   "cell_type": "code",
   "execution_count": 57,
   "metadata": {},
   "outputs": [
    {
     "name": "stdout",
     "output_type": "stream",
     "text": [
      "b'\\x01\\x02\\x03\\x04'\n",
      "bytearray(b'\\x01\\x02\\x03\\x04')\n"
     ]
    }
   ],
   "source": [
    "# 바이트, 바이트배열\n",
    "# 0 ~ 255까지 부호없는 8비트 정수 시퀸스로 구성이 되어 있습니다.\n",
    "# 파이썬에서는 원시바이트를 처리하는 사용하는 데이터 타입으로 불변형 데이터입니다.\n",
    "# 바이트 - 문자열타입과 유사\n",
    "# 바이트배열 - 리스트 타입과 유사(가변형)\n",
    "\n",
    "blist = [1,2,3,4]\n",
    "the_bytes = bytes(blist)\n",
    "print(the_bytes)\n",
    "the_byte_array = bytearray(blist)\n",
    "print(the_byte_array)"
   ]
  },
  {
   "cell_type": "code",
   "execution_count": 58,
   "metadata": {},
   "outputs": [],
   "source": [
    "# 안녕하세요!\n",
    "\n",
    "# !요세하녕안\n",
    "\n",
    "def revert(a):\n",
    "    if a:\n",
    "        a = a[-1] + revert(a[:-1])\n",
    "    return a"
   ]
  },
  {
   "cell_type": "code",
   "execution_count": 59,
   "metadata": {},
   "outputs": [
    {
     "name": "stdout",
     "output_type": "stream",
     "text": [
      "!요세하녕안\n"
     ]
    }
   ],
   "source": [
    "print(revert(\"안녕하세요!\"))"
   ]
  },
  {
   "cell_type": "code",
   "execution_count": 60,
   "metadata": {},
   "outputs": [],
   "source": [
    "def revert2(a):\n",
    "    return a[::-1]"
   ]
  },
  {
   "cell_type": "code",
   "execution_count": 66,
   "metadata": {},
   "outputs": [
    {
     "name": "stdout",
     "output_type": "stream",
     "text": [
      "파이썬은 너무 재밌고 즐거운 언어입니다.\n",
      "언어입니다. 즐거운 재밌고 너무 파이썬은\n"
     ]
    }
   ],
   "source": [
    "# [파이썬은 너무 재밌고 즐거운 언어입니다.]\n",
    "#[언어입니다. 즐거운 재밌고 너무 파이썬은]\n",
    "# 문장을 입력받아 거꾸로 출력하는 메서드를 만들어 보세요!\\\n",
    "\n",
    "def reverser(string1, p1=0, p2=None):\n",
    "    if len(string1) < 2:\n",
    "        return string1\n",
    "    p2 = p2 or len(string1) -1\n",
    "    while p1 < p2:\n",
    "        string1[p1], string1[p2] = string1[p2], string1[p1]\n",
    "        p1 += 1\n",
    "        p2 -= 1\n",
    "\n",
    "\n",
    "def reversing_word_sentence_logic(string1):\n",
    "    reverser(string1)\n",
    "    p = 0\n",
    "    start = 0\n",
    "    while p < len(string1):\n",
    "        if string1[p] == u'\\u0020': # space\n",
    "            reverser(string1, start, p-1)\n",
    "            start = p + 1\n",
    "        p += 1\n",
    "    reverser(string1, start, p - 1)\n",
    "    return \"\".join(string1)\n",
    "\n",
    "if __name__ == \"__main__\":\n",
    "    str1 = input()\n",
    "    str2 = reversing_word_sentence_logic(list(str1))\n",
    "    print(str2)"
   ]
  },
  {
   "cell_type": "code",
   "execution_count": 3,
   "metadata": {},
   "outputs": [
    {
     "name": "stdout",
     "output_type": "stream",
     "text": [
      "지각한 학생은 혼나야 합니다.\n",
      "합니다. 혼나야 학생은 지각한\n"
     ]
    }
   ],
   "source": [
    "# append, join, reverse를 이용해서\n",
    "# 메서드를 거꾸로 출력해보세요\n",
    "def reverse_word(string):\n",
    "    word, sentence = [] ,[]\n",
    "    for character in string:\n",
    "        if character != \" \":\n",
    "            word.append(character)\n",
    "        else:\n",
    "            if word:\n",
    "                sentence.append(\"\".join(word))\n",
    "            word = []\n",
    "    if word != \"\":\n",
    "        sentence.append(\"\".join(word))\n",
    "    sentence.reverse()\n",
    "    return \" \".join(sentence)\n",
    "\n",
    "if __name__ == \"__main__\":\n",
    "    str1 = input()\n",
    "    str2 = reverse_word(list(str1))\n",
    "    print(str2)"
   ]
  },
  {
   "cell_type": "code",
   "execution_count": 15,
   "metadata": {},
   "outputs": [
    {
     "name": "stdout",
     "output_type": "stream",
     "text": [
      "aabcccccaaa\n",
      "a2b1c5a3\n"
     ]
    }
   ],
   "source": [
    "# aabcccccaaa\n",
    "# a2b1c5a3\n",
    "# 전체 주석처리 : 해당 코드가 어떤 역할을 하는지 적어주세요.\n",
    "\n",
    "def str_compression(a):\n",
    "    count, last = 1, \"\"\n",
    "    list_aux = []\n",
    "    for i, c in enumerate(a):\n",
    "        if last == c:\n",
    "            count += 1\n",
    "        else:\n",
    "            if i != 0:\n",
    "                list_aux.append(str(count))\n",
    "            list_aux.append(c)\n",
    "            count = 1\n",
    "            last = c\n",
    "    list_aux.append(str(count)) \n",
    "    return \"\".join(list_aux)\n",
    "\n",
    "if __name__ == \"__main__\":\n",
    "    result = str_compression(input())\n",
    "    print(result)\n",
    "    \n",
    "    "
   ]
  },
  {
   "cell_type": "code",
   "execution_count": 27,
   "metadata": {},
   "outputs": [
    {
     "name": "stdout",
     "output_type": "stream",
     "text": [
      "['012', '021', '102', '120', '201', '210']\n",
      "['012', '021', '102', '120', '201', '210']\n"
     ]
    }
   ],
   "source": [
    "def perm(s):\n",
    "    if len(s) < 2:\n",
    "        return s\n",
    "    res = []\n",
    "    for i, c in enumerate(s):\n",
    "        for cc in perm(s[:i] + s[1+i:]):\n",
    "            res.append(c + cc)\n",
    "    return res\n",
    "\n",
    "import itertools\n",
    "def perm2(s):\n",
    "    res = itertools.permutations(s)\n",
    "    return [\"\".join(i) for i in res]\n",
    "\n",
    "\n",
    "if __name__ == \"__main__\":\n",
    "    val = \"012\"\n",
    "    print(perm(val))\n",
    "    print(perm2(val))"
   ]
  },
  {
   "cell_type": "code",
   "execution_count": 29,
   "metadata": {},
   "outputs": [
    {
     "name": "stdout",
     "output_type": "stream",
     "text": [
      "['a', 'ab', 'abc', 'ac', 'acb', 'b', 'ba', 'bac', 'bc', 'bca', 'c', 'ca', 'cab', 'cb', 'cba']\n"
     ]
    }
   ],
   "source": [
    "# 문자열 순열 만들기\n",
    "def perm(s):\n",
    "    if len(s) < 2:\n",
    "        return s\n",
    "    res = []\n",
    "    for i, c in enumerate(s):\n",
    "        res.append(c)\n",
    "        for cc in perm(s[:i] + s[1+i:]):\n",
    "            res.append(c + cc)\n",
    "    return res\n",
    "\n",
    "if __name__ == \"__main__\":\n",
    "    result= perm(\"abc\")\n",
    "    print(result)"
   ]
  },
  {
   "cell_type": "code",
   "execution_count": null,
   "metadata": {},
   "outputs": [],
   "source": []
  }
 ],
 "metadata": {
  "kernelspec": {
   "display_name": "Python 3",
   "language": "python",
   "name": "python3"
  },
  "language_info": {
   "codemirror_mode": {
    "name": "ipython",
    "version": 3
   },
   "file_extension": ".py",
   "mimetype": "text/x-python",
   "name": "python",
   "nbconvert_exporter": "python",
   "pygments_lexer": "ipython3",
   "version": "3.8.5"
  }
 },
 "nbformat": 4,
 "nbformat_minor": 4
}
