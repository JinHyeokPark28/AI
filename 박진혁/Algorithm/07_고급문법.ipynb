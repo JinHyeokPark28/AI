{
 "cells": [
  {
   "cell_type": "code",
   "execution_count": 1,
   "metadata": {},
   "outputs": [],
   "source": [
    "# 프로세스\n",
    "# 운영체제에서 실행되는 프로그램\n",
    "# 각각 별도의 프로세스\n",
    "# 하나 이상의 스레드\n",
    "# 프로세스에 여러개의 스레드가 있다면 여러가지 작업을 동시에 수행하는 듯한 느낌을\n",
    "# 받을 수 있다.\n",
    "\n",
    "# 멀티 프로세스 : 별도의 메모리 영역을 따로 가지고 있습니다.\n",
    "# 특별한 메케니즘을 통해서 통신을 할 수 있다.\n",
    "# - 시그널, 메시지 큐, 파이프, IPC\n",
    "# 프로세서는 각 스레드에서 별도의 레지스터 집합을 불러오거나 저장할 수 있다.\n",
    "# 프로세스간 데이터 공유와 통신용으로는 비효율적입니다.\n",
    "# 멀티 프로세싱 방식에는 subprocess 모듈을 사용한다.\n",
    "\n",
    "# 멀티 스레드 : 단일 프로세스 내의 멀티 스레드는 동일한 메모리에 접근합니다.\n",
    "# 스레드는 데이터 공유를 통해서 간단하게 통신을 할 수 있다.\n",
    "# threading 모듈의 처리를 통해서 한번에 한 스레드만 메모리 영역에 접근한다.\n",
    "# 각 프로세스가 독립적인 스택, 힙, 코드 자체가 데이터 영역을 가지게 되고\n",
    "# 한 프로세스에 속한 스레드는 스택 영역을 제외한 메모리 영역을 갖게 된다.\n",
    "\n",
    "# 파이썬 내부에 스레드 메커니즘이 있긴 하지만 이 메커니즘은 병렬을 지원하지 않는다.\n",
    "# 스레드를 병렬도 사용하는 것은 가능하지만 요즘 사용하는 운영체제에서는 이미\n",
    "# 사용하고 있다.\n"
   ]
  },
  {
   "cell_type": "code",
   "execution_count": 4,
   "metadata": {},
   "outputs": [],
   "source": [
    "# subprocessing 모듈\n",
    "# 부모 - 자식 프로세스 쌍입니다.\n",
    "# 부모 프로세스는 사용자를 통해 실행되고 차례대로 다른일을 처리하는\n",
    "# 자식 프로세스의 인스턴스를 실행합니다.\n",
    "# 자식 프로세스가 실행하면서 [멀티 코어]의 이점을 최대한 가져오고\n",
    "# 동시성 문제를 운영체제가 알아서 처리하도록 합니다.\n"
   ]
  },
  {
   "cell_type": "code",
   "execution_count": 2,
   "metadata": {},
   "outputs": [
    {
     "name": "stdout",
     "output_type": "stream",
     "text": [
      "스레드 1 : 처리완료 0스레드 2 : 처리완료 1\n",
      "스레드 2 : 처리완료 2\n",
      "스레드 2 : 처리완료 3\n",
      "\n",
      "스레드 5 : 처리완료 4스레드 4 : 처리완료 5\n",
      "스레드 4 : 처리완료 6\n",
      "스레드 4 : 처리완료 7\n",
      "스레드 4 : 처리완료 8\n",
      "스레드 4 : 처리완료 9\n",
      "스레드 4 : 처리완료 10\n",
      "스레드 4 : 처리완료 11\n",
      "스레드 4 : 처리완료 12\n",
      "스레드 4 : 처리완료 13\n",
      "스레드 4 : 처리완료 14\n",
      "스레드 4 : 처리완료 15\n",
      "스레드 4 : 처리완료 16\n",
      "스레드 4 : 처리완료 17\n",
      "스레드 4 : 처리완료 18\n",
      "스레드 4 : 처리완료 19\n",
      "\n"
     ]
    }
   ],
   "source": [
    "# threading 모듈\n",
    "# 스레드가 여러개 일때 스레드간 데이터 공유의 복잡성을 증가하게 한다.\n",
    "# 락, 데드락\n",
    "# 데드락 : 두개 이상의 작업이 진행되고 있을 때 상대방의 작업이 끝나기를\n",
    "# 기다리고 있는 상태(아무것도 완료되지 않은 상태)\n",
    "# 파이썬은 단 하나의 메인 스레드만 있다.\n",
    "# 멀티 스레드를 이용하기 위해서라면 threading 모듈을 사용해야 한다.\n",
    "\n",
    "# threading 모듈을 사용하는 이유?\n",
    "# 내부적으로 락을 관리하기 위한 queue 모듈을\n",
    "# 사용하고 직렬화가 가능해지기 때문에 사용합니다.\n",
    "\n",
    "import queue\n",
    "import threading\n",
    "q = queue.Queue()\n",
    "\n",
    "# 워커스레드 : 작업이 완료되었는데 만일 프로그램이 종료가 되지 않았다\n",
    "# 데몬(daemon)으로 변환해서 만일 데몬스레드가 실행되지 않으면 프로그램을 바로 종료\n",
    "\n",
    "def worker(num):\n",
    "    while True:\n",
    "        # item에 큐가 가진 값을 없앤다.\n",
    "        item =  q.get()\n",
    "        # 만약 아이템에 아무런 값이 없다면\n",
    "        if item is None:\n",
    "            # 반복문 탈출\n",
    "            break\n",
    "            # 스레드 번호와 현재 가지고 있는 아이템값을 출력한다.\n",
    "        print(\"스레드 {0} : 처리완료 {1}\".format(num+1, item))\n",
    "        # 이전에 큐에 넣은 작업이 종료되었는지 확인했음을 큐에 알린다.\n",
    "        q.task_done()\n",
    "        \n",
    "if __name__ == \"__main__\":\n",
    "    worker_thread = 5\n",
    "    threads = []\n",
    "    for i in range(worker_thread):\n",
    "        t = threading.Thread(target=worker, args=(i,))\n",
    "        t.start()\n",
    "        threads.append(t)\n",
    "        \n",
    "    for item in range(20):\n",
    "        q.put(item)\n",
    "        \n",
    "    q.join()\n",
    "    \n",
    "    # 워커 스레드 종료\n",
    "    for i in range(worker_thread):\n",
    "        q.put(None)\n",
    "    for t in threads:\n",
    "        t.join()"
   ]
  },
  {
   "cell_type": "code",
   "execution_count": null,
   "metadata": {},
   "outputs": [],
   "source": []
  }
 ],
 "metadata": {
  "kernelspec": {
   "display_name": "Python 3",
   "language": "python",
   "name": "python3"
  },
  "language_info": {
   "codemirror_mode": {
    "name": "ipython",
    "version": 3
   },
   "file_extension": ".py",
   "mimetype": "text/x-python",
   "name": "python",
   "nbconvert_exporter": "python",
   "pygments_lexer": "ipython3",
   "version": "3.8.5"
  }
 },
 "nbformat": 4,
 "nbformat_minor": 4
}
