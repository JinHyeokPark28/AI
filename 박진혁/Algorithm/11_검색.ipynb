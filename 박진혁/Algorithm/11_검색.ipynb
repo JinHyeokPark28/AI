{
 "cells": [
  {
   "cell_type": "code",
   "execution_count": 10,
   "metadata": {},
   "outputs": [],
   "source": [
    "# 퀵 정렬\n",
    "# 미안\n",
    "# 다시할께여\n",
    "# 피벗 : 리스트에서 기준이 되는 하나의 요소를 피벗이라고 한다.\n",
    "# 퀵정렬은 피벗 값을 잘 고르는 성능의 핵심이다.\n",
    "# 피벗앞은 피벗보다 더 작은값이오고 피벗 뒤는 피벗보다 더 큰값이 오도록 리스트를 \n",
    "# 둘로 나눠야 한다.\n",
    "# 리스트의 중앙값을 피벗으로 선택하는 것이 정렬된 리스트에서 가장 적합한 선택이다.\n",
    "# 만일 정렬이 되지 않은 상태에서도 이 선택이 차라리 낫다\n",
    "# 퀵 정렬은 안정적이지 않다.\n",
    "def quick_sort_cache(seq):\n",
    "    len_seq = len(seq)\n",
    "    if len_seq < 2:\n",
    "        return seq\n",
    "    \n",
    "    # 피벗을 무작위로 선택한다.\n",
    "#     pivot = random.choice(seq)\n",
    "    # 피벗 인덱스\n",
    "    ipivot = len_seq // 2\n",
    "    # 피벗\n",
    "    pivot = seq[ipivot]\n",
    "    \n",
    "    smallerList = [x for i, x in enumerate(seq) if x <= pivot and i != ipivot]\n",
    "    largerList = [x for i, x in enumerate(seq) if x > pivot and i != ipivot]\n",
    "    \n",
    "    return quick_sort_cache(smallerList) + [pivot] + quick_sort_cache(largerList)"
   ]
  },
  {
   "cell_type": "code",
   "execution_count": 11,
   "metadata": {},
   "outputs": [
    {
     "data": {
      "text/plain": [
       "[1, 2, 3, 4, 6, 7, 8, 9]"
      ]
     },
     "execution_count": 11,
     "metadata": {},
     "output_type": "execute_result"
    }
   ],
   "source": [
    "quick_sort_cache([3,6,4,2,1,9,8,7])"
   ]
  },
  {
   "cell_type": "code",
   "execution_count": 12,
   "metadata": {},
   "outputs": [],
   "source": [
    "# quick_sort_cache -> 두함수로 이것을 나눠서 구현해본다.\n",
    "def partition(seq):\n",
    "    pivot, seq = seq[0], seq[1:]\n",
    "    before  = []\n",
    "    after = []\n",
    "    before = [x for x in seq if x <= pivot]\n",
    "    after = [x for x in seq if x > pivot]\n",
    "    return before, pivot, after"
   ]
  },
  {
   "cell_type": "code",
   "execution_count": 13,
   "metadata": {},
   "outputs": [
    {
     "data": {
      "text/plain": [
       "([2, 1], 3, [6, 4, 9, 8, 7])"
      ]
     },
     "execution_count": 13,
     "metadata": {},
     "output_type": "execute_result"
    }
   ],
   "source": [
    "partition([3,6,4,2,1,9,8,7])"
   ]
  },
  {
   "cell_type": "code",
   "execution_count": 14,
   "metadata": {},
   "outputs": [],
   "source": [
    "def quick_devide(seq):\n",
    "    if len(seq) < 2:\n",
    "        return seq\n",
    "    before, pivot, after = partition(seq)\n",
    "    return quick_sort_cache(before) + [pivot] + quick_sort_cache(after)"
   ]
  },
  {
   "cell_type": "code",
   "execution_count": 15,
   "metadata": {},
   "outputs": [
    {
     "data": {
      "text/plain": [
       "[1, 2, 3, 4, 6, 7, 8, 9]"
      ]
     },
     "execution_count": 15,
     "metadata": {},
     "output_type": "execute_result"
    }
   ],
   "source": [
    "quick_devide([3,6,4,2,1,9,8,7])"
   ]
  },
  {
   "cell_type": "code",
   "execution_count": 2,
   "metadata": {},
   "outputs": [
    {
     "name": "stdout",
     "output_type": "stream",
     "text": [
      "테스트 통과!!\n"
     ]
    }
   ],
   "source": [
    "# 가장 일반적인 검색 알고리즘\n",
    "# 1) 순차검색\n",
    "# 2) 이진검색\n",
    "\n",
    "# 순차검색 : 배열이 정렬이 되어 있지 않거나 연결 리스트와 같이\n",
    "# 입력이 동적으로 할당되는 경우 흔히 사용합니다.\n",
    "# 시간복잡도 : O(1)(최선), O(n/2)(평균), O(n)(최악)\n",
    "\n",
    "# 이진검색 : 베열이 정렬되어 있는 경우 사용할 수 있는 최선의 선택\n",
    "# 해시 테이블을 이용해서 보조 메모리를 사용하지만, 키를 이용하면\n",
    "# 원하는 값을 검색할 수 있습니다.\n",
    "\n",
    "# 순차 검색 알고리즘\n",
    "def sequential_search(seq, n):\n",
    "    for item in seq:\n",
    "        if item == n:\n",
    "            return True\n",
    "    return False\n",
    "\n",
    "def test_sequential_search():\n",
    "    seq = [1, 5, 6, 8, 3]\n",
    "    n1 = 5\n",
    "    n2 = 7\n",
    "    assert(sequential_search(seq, n1) is True)\n",
    "    assert(sequential_search(seq, n2) is False)\n",
    "    print(\"테스트 통과!!\")\n",
    "    \n",
    "if __name__ == \"__main__\":\n",
    "    test_sequential_search()"
   ]
  },
  {
   "cell_type": "code",
   "execution_count": 3,
   "metadata": {},
   "outputs": [
    {
     "name": "stdout",
     "output_type": "stream",
     "text": [
      "테스트 통과!!\n"
     ]
    }
   ],
   "source": [
    "# 리슽 안에 검색하려는 항목이 없을 경우\n",
    "# 검색하려는 항목이 있을 때와 같은 실행시간을 갖는다.\n",
    "def sequential_search(seq, n):\n",
    "    item = 0\n",
    "    for item in seq:\n",
    "        if item > n:\n",
    "            return False\n",
    "        if item == n:\n",
    "            return True\n",
    "    return False\n",
    "\n",
    "def test_sequential_search():\n",
    "    seq = [1, 2, 5, 6, 7, 9, 10]\n",
    "    n1 = 5\n",
    "    n2 = 8\n",
    "    assert(sequential_search(seq, n1) is True)\n",
    "    assert(sequential_search(seq, n2) is False)\n",
    "    print(\"테스트 통과!!\")\n",
    "    \n",
    "if __name__ == \"__main__\":\n",
    "    test_sequential_search()"
   ]
  },
  {
   "cell_type": "code",
   "execution_count": 1,
   "metadata": {},
   "outputs": [
    {
     "name": "stdout",
     "output_type": "stream",
     "text": [
      "[1, 2, 3, 4, 5, 6, 7, 9, 10, 11]\n"
     ]
    }
   ],
   "source": [
    "# quick sort를 ㄹ이용해서\n",
    "# 리스트에서 k번째로 가장 작은 항목을 찾는 알고리즘 만들어 보세요.\n",
    "# 3/24일까지 주석 설명 써오기!\n",
    "import random\n",
    "def quick_select_cache(seq, k):\n",
    "    len_seq = len(seq)\n",
    "    if len_seq < 2:\n",
    "        return seq[0]\n",
    "    \n",
    "    # 피벗을 무작위로 선택한다.\n",
    "#     pivot = random.choice(seq)\n",
    "    ipivot = len_seq // 2\n",
    "    pivot = seq[ipivot]\n",
    "    \n",
    "    smallerList = [x for i, x in enumerate(seq) if x <= pivot and i != ipivot]\n",
    "    largerList = [x for i, x in enumerate(seq) if x > pivot and i != ipivot]\n",
    "    \n",
    "    m = len(smllerList)\n",
    "    if k == m:\n",
    "        return pivot\n",
    "    elif k < m:\n",
    "        return quick_select_cache(smallerList, k)\n",
    "    else:\n",
    "        return quick_select_cache(largerList, k-m-1)\n",
    "    \n",
    "def swap(seq, x, y):\n",
    "    seq[x], seq[y] = seq[y], seq[x]\n",
    "    \n",
    "def quick_select(seq, k, left=None, right=None):\n",
    "    left = left or 0\n",
    "    right = right or len(seq)- 1\n",
    "    ipivot = len(seq) // 2\n",
    "    pivot = seq[ipivot]\n",
    "    \n",
    "    swap(seq, ipivot, right)\n",
    "    swapIndex, i = left, left\n",
    "    while i < right:\n",
    "        if pivot < seq[i]:\n",
    "            swap(seq, i, swapIndex)\n",
    "            swapIndex += 1\n",
    "        i += 1\n",
    "        \n",
    "    swap(seq, right, swapIndex)\n",
    "    \n",
    "    rank = len(seq) - swapIndex\n",
    "    if k == rank:\n",
    "        return seq[swapIndex]\n",
    "    elif k < rank:\n",
    "        return quick_select(seq, k, swapIndex+1, right)\n",
    "    else:\n",
    "        return quick_select(seq, k, left, swapIndex-1)\n",
    "    \n",
    "if __name__ == \"__main__\":\n",
    "    seq = [3, 7, 2, 1, 4, 6, 5, 10, 9, 11]\n",
    "    print(sorted(seq))"
   ]
  },
  {
   "cell_type": "code",
   "execution_count": 5,
   "metadata": {},
   "outputs": [],
   "source": [
    "# 이진 검색\n",
    "# 정렬된 배열 내에서 지정된 입력값의 위치(키)를 찾습니다.\n",
    "# 이진 검색은 알고리즘의 각 단계에서 입력값과 배열 중간 요소를 비교합니다.\n",
    "# 입력값과 중간 요소가 일치한다면 배열의 위치가 반환됩니다.\n",
    "# 중간 요소의 왼쪽 하위 배열에서 검색 과정을 반복하며\n",
    "# 입력값이 중간 요소보다 큰 경우 중간 요소의 \n",
    "#  오른쪽 하위 배열에서 검색과정을 반복합니다.\n",
    "\n",
    "# 재귀 함수를 통해서 알고리즘을 완성합니다.\n",
    "def binary_search(seq, target, low, high):\n",
    "    if low > high:\n",
    "        return None\n",
    "    mid = (low + high) // 2\n",
    "    if target == seq[mid]:\n",
    "        return mid\n",
    "    elif target < seq[mid]:\n",
    "        return binary_search(seq, target, low, mid-1)\n",
    "    else:\n",
    "        return binary_search(seq, target, mid+1, high)"
   ]
  },
  {
   "cell_type": "code",
   "execution_count": 6,
   "metadata": {},
   "outputs": [
    {
     "name": "stdout",
     "output_type": "stream",
     "text": [
      "5\n"
     ]
    }
   ],
   "source": [
    "def test_binary_search():\n",
    "    seq = [1,2, 5, 6, 7, 10, 12, 12, 14, 15]\n",
    "    target = 10\n",
    "    print(binary_search(seq, target, 0, len(seq)))\n",
    "\n",
    "if __name__ == \"__main__\":\n",
    "    test_binary_search()"
   ]
  },
  {
   "cell_type": "code",
   "execution_count": 19,
   "metadata": {},
   "outputs": [
    {
     "data": {
      "text/plain": [
       "True"
      ]
     },
     "execution_count": 19,
     "metadata": {},
     "output_type": "execute_result"
    }
   ],
   "source": [
    "# 행렬 검색\n",
    "# 각 행과 열이 정렬되어 있는 행렬에서 한 항목을 검색한다고 할때\n",
    "# 모든 행은 왼쪽에서 오른쪽으로 모든 열은 위에서 아래로 정렬되어 있습니다.\n",
    "# 이를 이용해서 해당 햏렬 검색이 맞는지 틀린지 확인해보세요\n",
    "m1 = [[1,2,8,9],\n",
    "      [2,4,9,12],\n",
    "      [4,7,10,13],\n",
    "      [6,8,11,15]]\n",
    "\n",
    "# matrix_bool(m1, value) is True\n",
    "def matrix_bool(m1, value):\n",
    "    found = False\n",
    "    # 열\n",
    "    row = 0\n",
    "    # 행\n",
    "    column = len(m1[0]) - 1\n",
    "    while row < len(m1) and column >= 0:\n",
    "        if m1[row][column] == value:\n",
    "            found = True\n",
    "            break\n",
    "        elif m1[row][column] > value :\n",
    "            column -= 1\n",
    "        else:\n",
    "            row += 1\n",
    "    return found\n",
    "\n",
    "matrix_bool(m1, 1)\n",
    "    "
   ]
  },
  {
   "cell_type": "code",
   "execution_count": 8,
   "metadata": {},
   "outputs": [
    {
     "name": "stdout",
     "output_type": "stream",
     "text": [
      "9\n",
      "15\n",
      "13\n",
      "3\n",
      "테스트 통과입니다~\n"
     ]
    }
   ],
   "source": [
    "# 한행의 마지막 숫자가 다음행의 첫번째 숫자보다 작다.\n",
    "# 모든 행은 오름차순으로 정렬이 되어 있다.\n",
    "# 이 행렬에서 어떤 숫자를 브루트 포스로 검색하는 알고리즘을\n",
    "# 만들어주세요\n",
    "# 모든행은 정렬이 되어있기때문에, 1차원 배열로 볼수 있습니다.\n",
    "def searching_matrix(m1, value):\n",
    "    rows = len(m1)\n",
    "    cols = len(m1[0])\n",
    "    lo = 0\n",
    "    hi = rows * cols\n",
    "    while lo < hi:\n",
    "        mid = (lo + hi) // 2\n",
    "        row = mid // cols\n",
    "        col = mid % cols\n",
    "        val = m1[row][col]\n",
    "        if val == value:\n",
    "            return True\n",
    "        elif val > value:\n",
    "            hi = mid\n",
    "        else:\n",
    "            lo = mid + 1\n",
    "    return False\n",
    "def test():\n",
    "    a = [[1,3,5],[7,9,11],[13,15,17]]\n",
    "    import numpy\n",
    "    b = numpy.array([(1,2),(3,4)])\n",
    "    assert(searching_matrix(a, 13) is True)\n",
    "    assert(searching_matrix(b, 3)is True)\n",
    "    print(\"테스트 통과입니다~\")\n",
    "\n",
    "if __name__ == \"__main__\":\n",
    "    test()"
   ]
  },
  {
   "cell_type": "code",
   "execution_count": 7,
   "metadata": {},
   "outputs": [
    {
     "name": "stdout",
     "output_type": "stream",
     "text": [
      "12\n",
      "테스트 통과\n"
     ]
    }
   ],
   "source": [
    "# 단봉형 배열\n",
    "# 산포도를 그렸을 때 값이 증가했다가 감소하는 곡선인 리스트를\n",
    "# 이진검색을 통해서 최대값을 구해보세요.\n",
    "\n",
    "def find_large_number(seq):\n",
    "    if len(seq) <= 2:\n",
    "        return None\n",
    "    \n",
    "    left = 0\n",
    "    right = len(seq) - 1\n",
    "    while right > left + 1:\n",
    "        mid = (left + right) // 2\n",
    "        if seq[mid] > seq[mid - 1] and seq[mid] > seq[mid + 1]:\n",
    "            return seq[mid]\n",
    "        elif seq[mid] > seq[mid - 1] and seq[mid] < seq[mid + 1]:\n",
    "            left = mid\n",
    "        else:\n",
    "            right = mid\n",
    "    return None\n",
    "\n",
    "if __name__ == \"__main__\":\n",
    "    seq = [1,2,5,6,7,10,12, 9, 8, 7, 6]\n",
    "    print(max(seq))\n",
    "    assert(find_large_number(seq) == max(seq))\n",
    "    print(\"테스트 통과\")"
   ]
  },
  {
   "cell_type": "code",
   "execution_count": 13,
   "metadata": {},
   "outputs": [
    {
     "name": "stdout",
     "output_type": "stream",
     "text": [
      "1.4142135623730951\n",
      "3.0\n",
      "1.4140625\n",
      "3.0\n"
     ]
    }
   ],
   "source": [
    "# 이진 검색을 통해서 제곱근을 구해보세요.\n",
    "# 2 -> 1.41421356\n",
    "import math\n",
    "print(math.sqrt(2))\n",
    "print(math.sqrt(9))\n",
    "\n",
    "def find_sqrt(n, error=0.001):\n",
    "    lower = n < 1 and n or 1\n",
    "    high = n < 1 and 1 or n\n",
    "    mid = lower + (high - lower) / 2.0\n",
    "    square = mid * mid\n",
    "    while abs(square - n) > error:\n",
    "        if square < n :\n",
    "            lower = mid\n",
    "        else:\n",
    "            high = mid\n",
    "        mid = lower + (high - lower) / 2.0\n",
    "        square = mid * mid\n",
    "    return mid\n",
    "\n",
    "if __name__ == \"__main__\":\n",
    "    a = 2\n",
    "    b = 9\n",
    "    print(find_sqrt(a))\n",
    "    print(find_sqrt(b))"
   ]
  },
  {
   "cell_type": "code",
   "execution_count": null,
   "metadata": {},
   "outputs": [],
   "source": []
  }
 ],
 "metadata": {
  "kernelspec": {
   "display_name": "Python 3",
   "language": "python",
   "name": "python3"
  },
  "language_info": {
   "codemirror_mode": {
    "name": "ipython",
    "version": 3
   },
   "file_extension": ".py",
   "mimetype": "text/x-python",
   "name": "python",
   "nbconvert_exporter": "python",
   "pygments_lexer": "ipython3",
   "version": "3.8.5"
  }
 },
 "nbformat": 4,
 "nbformat_minor": 4
}
