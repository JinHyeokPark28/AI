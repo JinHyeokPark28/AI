{
 "cells": [
  {
   "cell_type": "code",
   "execution_count": 2,
   "metadata": {},
   "outputs": [
    {
     "name": "stdout",
     "output_type": "stream",
     "text": [
      "테스트 통과!!\n"
     ]
    }
   ],
   "source": [
    "# 가장 일반적인 검색 알고리즘\n",
    "# 1) 순차검색\n",
    "# 2) 이진검색\n",
    "\n",
    "# 순차검색 : 배열이 정렬이 되어 있지 않거나 연결 리스트와 같이\n",
    "# 입력이 동적으로 할당되는 경우 흔히 사용합니다.\n",
    "# 시간복잡도 : O(1)(최선), O(n/2)(평균), O(n)(최악)\n",
    "\n",
    "# 이진검색 : 베열이 정렬되어 있는 경우 사용할 수 있는 최선의 선택\n",
    "# 해시 테이블을 이용해서 보조 메모리를 사용하지만, 키를 이용하면\n",
    "# 원하는 값을 검색할 수 있습니다.\n",
    "\n",
    "# 순차 검색 알고리즘\n",
    "def sequential_search(seq, n):\n",
    "    for item in seq:\n",
    "        if item == n:\n",
    "            return True\n",
    "    return False\n",
    "\n",
    "def test_sequential_search():\n",
    "    seq = [1, 5, 6, 8, 3]\n",
    "    n1 = 5\n",
    "    n2 = 7\n",
    "    assert(sequential_search(seq, n1) is True)\n",
    "    assert(sequential_search(seq, n2) is False)\n",
    "    print(\"테스트 통과!!\")\n",
    "    \n",
    "if __name__ == \"__main__\":\n",
    "    test_sequential_search()"
   ]
  },
  {
   "cell_type": "code",
   "execution_count": 3,
   "metadata": {},
   "outputs": [
    {
     "name": "stdout",
     "output_type": "stream",
     "text": [
      "테스트 통과!!\n"
     ]
    }
   ],
   "source": [
    "# 리슽 안에 검색하려는 항목이 없을 경우\n",
    "# 검색하려는 항목이 있을 때와 같은 실행시간을 갖는다.\n",
    "def sequential_search(seq, n):\n",
    "    item = 0\n",
    "    for item in seq:\n",
    "        if item > n:\n",
    "            return False\n",
    "        if item == n:\n",
    "            return True\n",
    "    return False\n",
    "\n",
    "def test_sequential_search():\n",
    "    seq = [1, 2, 5, 6, 7, 9, 10]\n",
    "    n1 = 5\n",
    "    n2 = 8\n",
    "    assert(sequential_search(seq, n1) is True)\n",
    "    assert(sequential_search(seq, n2) is False)\n",
    "    print(\"테스트 통과!!\")\n",
    "    \n",
    "if __name__ == \"__main__\":\n",
    "    test_sequential_search()"
   ]
  },
  {
   "cell_type": "code",
   "execution_count": null,
   "metadata": {},
   "outputs": [],
   "source": [
    "# quick sort를 ㄹ이용해서\n",
    "# 리스트에서 k번째로 가장 작은 항목을 찾는 알고리즘 만들어 보세요."
   ]
  }
 ],
 "metadata": {
  "kernelspec": {
   "display_name": "Python 3",
   "language": "python",
   "name": "python3"
  },
  "language_info": {
   "codemirror_mode": {
    "name": "ipython",
    "version": 3
   },
   "file_extension": ".py",
   "mimetype": "text/x-python",
   "name": "python",
   "nbconvert_exporter": "python",
   "pygments_lexer": "ipython3",
   "version": "3.8.5"
  }
 },
 "nbformat": 4,
 "nbformat_minor": 4
}
