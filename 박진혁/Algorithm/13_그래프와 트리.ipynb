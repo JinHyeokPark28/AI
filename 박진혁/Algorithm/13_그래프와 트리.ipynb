{
 "cells": [
  {
   "cell_type": "markdown",
   "metadata": {},
   "source": [
    "# 용어 정리\n",
    "- 그래프 : 여러 노드nord(<font color='purple'>정점vertex</font>)들이 <font color='red'>간선(edge)</font>, <font color='blue'>아크(arc)</font>로 결된 추상 네트워크를 뜻합니다.\n",
    "- 그래프는 노드와 간선의 집합으로 정의\n",
    "- G = (V, E)\n",
    "- V : 유한 집합\n",
    "- E : 노드 쌍들의 집합\n",
    "\n",
    "- V = [a, b, c, d]\n",
    "- E = {(a, b), (b, c), (c, d), (d, a)}\n",
    "\n",
    "- 그래프의 방향\n",
    "- 두가지 방향이 있다.\n",
    "- 유향, 무향\n",
    "- 무향 : 간선의 방향이 지정되어 있지 않습니다.\n",
    "- 간선으로 연결된 노드는 서로 인접(adjacent)해 있으며 이웃(neighbor)이라고 합니다.\n",
    "\n",
    "- 유향 : 순서가 존재하고 말단 노드가 존재한다.\n",
    "- u, v라는 노드가 있고 이 노드의 간선은 u -> v\n",
    "- v -> u의 간선이 있다.\n",
    "- 함수는 E(G)는 V(G)에 대한 관계라고 할수 있다."
   ]
  },
  {
   "cell_type": "markdown",
   "metadata": {},
   "source": [
    "# 부분 그래프\n",
    "- 집합 V, 집합 E로 구성된 그래프의 일부\n",
    "<img src='./graph1.png'>\n",
    "\n",
    "\n",
    "# 신장 부분 그래프\n",
    "- 원본 그래프의 모든 노드를 포함하는 부분"
   ]
  },
  {
   "cell_type": "code",
   "execution_count": 1,
   "metadata": {},
   "outputs": [],
   "source": [
    "# 완전 그래프\n",
    "# 그래프의 모든 노드가 서로 인접한 그래프를 말합니다.\n",
    "\n",
    "# 차수\n",
    "# 간선의 수\n",
    "# 차수가 0인 노드는 고립(isolate)\n",
    "# 유향 그래프는 입력차수(in-degree), 출력차수(out-degree)로 나뉘어 진다.\n",
    "# 입력차는 한 노드로 들어노는 간선의 수를 말하며, 출력차수는\n",
    "# 한 노드에서 나가는 간선 수를 말합니다.\n",
    "\n",
    "# 경로 : 간선이 어느 노드로도 다시 방문하지 않고 노드가 일렬로 연결된 그래프\n",
    "# 유향그래프에서는 경로는 간선의 방향을 따릅니다.\n",
    "\n",
    "# 보행 : 노드와 간선을 번갈아 가며 반복적으로 방문하는 노드의 간선입니다.\n",
    "# 경로는 노드와 간선이 모두 종복되지 않는 보행과 같습니다.\n",
    "\n",
    "# 순환 : 경로와 같지만 마지막에 연견될 간선의 노드가 다시 첫번째 노드와 연결\n",
    "\n",
    "# 경로 길이\n",
    "# 경로, 보행의 길이는 간선의 수와 같습니다."
   ]
  },
  {
   "cell_type": "code",
   "execution_count": 2,
   "metadata": {},
   "outputs": [],
   "source": [
    "# 가중 그래프\n",
    "# 간선에 가중치(weight)가 있는 그래프입니다.\n",
    "# 경로 또는 순환 가중치는 해당하는 간선들의 가중치의 총합\n",
    "# 가중 그래프가 아닌경우 경로와 순환의 가중치가 간선의 수와 같아야 합니다.\n",
    "\n",
    "# 평면 그래프(Planer graph)\n",
    "# 간선을 서로 횡단하지 않고 평면에 그릴 수 잇는 그래프를 말합니다.\n",
    "# 간선에 의해 경계면을 갖습니다.\n",
    "# 연결된 평면 그래프의 오일러 공식 V - E + F = 2\n",
    "# ( V : 노드의 수 , E : 간선의 수, F : 면의 수)\n",
    "\n",
    "# 순회\n",
    "# 그래프에 연결된 모든 요소들을 탐색하는 일을 ㅁ라합니다.\n",
    "# 순회에서 중요한것은 아직 방문하지 않은 노드의 순회 순서가 매우 중요하다.\n",
    "\n",
    "# 강한 연결 요소\n",
    "# 무향 / 유향 그래프는 모든 노드에서 다른 모든 노드로 가는 경로가 존재할때\n",
    "# 연결되어 있다.\n",
    "# (연결요소는 모든 노드가 연결된 최대 부분의 그래프를 말한다.)\n",
    "\n",
    "# 연결 요소는 깊이우선탐색(DFS)과 너비우선탐색(BFS)\n",
    "# 순회 알고리즘을 사용해서 찾을 수 있다.\n",
    "\n",
    "# 강한 연결요소는 유향 그래프에서 모든 노드에서 다른 모든 노드까지의 경로가 있으면\n",
    "# 강하게 연결되었다라고 합니다.\n",
    "# 이때 강한 연결 요소는 강하게 연결된 최대 하위 그래프를 말합니다.\n",
    "\n",
    "# 트리와 포레스트\n",
    "# 트리는 비순환적이고 연결되어 잇는 유향 그래프\n",
    "\n",
    "# 포레스트는 순환이 없는 그래프\n",
    "# 하나 이상의 트리로 구성이 되어져 있다.\n",
    "# 독립적인 트리의 모양이다.\n",
    "\n",
    "# 트리의 두 노드는 정확히 하나의 경로로 연결이 됩니다.\n",
    "# 트리에 해로운 간선이 하나 추가하면 순환이 생기고, 어떤 간선을 제거하면\n",
    "# 연결되지 않은 요소가 생성된다."
   ]
  },
  {
   "cell_type": "code",
   "execution_count": 11,
   "metadata": {},
   "outputs": [
    {
     "data": {
      "text/plain": [
       "False"
      ]
     },
     "execution_count": 11,
     "metadata": {},
     "output_type": "execute_result"
    }
   ],
   "source": [
    "# 이웃 함수\n",
    "# 모든 이웃의 V의 컨테이너(또는 반복 가능한 객체)\n",
    "# 인접리스트와 인접 행렬이 있다.\n",
    "\n",
    "# 인접 리스트\n",
    "# 각 노드에서 이웃 리스트(셋, 컨테이너)에 접근이 가능합니다.\n",
    "\n",
    "\n",
    "a,b,c,d,e,f = range(6)\n",
    "N = [{b,c,d,f}, {a,d,f}, {a,b,d,e},{a,e},{a,b,c},{b,c,d,e}]\n",
    "a in N[f]\n",
    "\n",
    "# set은 간선의 수가 많을 때"
   ]
  },
  {
   "cell_type": "code",
   "execution_count": 14,
   "metadata": {},
   "outputs": [
    {
     "name": "stdout",
     "output_type": "stream",
     "text": [
      "2\n"
     ]
    }
   ],
   "source": [
    "# list는 간선의 수가 적을때\n",
    "# 인접리스트를 구현할 수 있다.\n",
    "a,b,c,d,e,f = range(6)\n",
    "N = [[b,c,d,f], [a,d,f],[a,b,d,e],[a,e],[a,b,c],[b,c,d,e]]\n",
    "b in N[d]\n",
    "print(len(N[d]))"
   ]
  },
  {
   "cell_type": "code",
   "execution_count": 25,
   "metadata": {},
   "outputs": [
    {
     "data": {
      "text/plain": [
       "1"
      ]
     },
     "execution_count": 25,
     "metadata": {},
     "output_type": "execute_result"
    }
   ],
   "source": [
    "# 딕셔너리 방식\n",
    "a,b,c,d,e,f = range(6)\n",
    "\n",
    "N =  [{b:2,c:1,d:4,f:1}, {a:4,d:1,f:4}, {a:1,b:1,d:2,e:4},{a:3,e:2},{a:3,b:4,c:1},\n",
    "      {b:1,c:2,d:4,e:3}]\n",
    "\n",
    "b in N[c]\n",
    "\n",
    "# 가중치\n",
    "N[a][c]"
   ]
  },
  {
   "cell_type": "code",
   "execution_count": 28,
   "metadata": {},
   "outputs": [
    {
     "data": {
      "text/plain": [
       "True"
      ]
     },
     "execution_count": 28,
     "metadata": {},
     "output_type": "execute_result"
    }
   ],
   "source": [
    "# 딕셔너리의 기본구조를 이용해서 인접리스트를 만들어보세요.\n",
    "a,b,c,d,e,f = range(6)\n",
    "N = {'a' : set('bcdf'), 'b':set('adf'), 'c':set('abde'), 'd':set('ae'),\n",
    "    'e':set('abc'), 'f':set('bcde')}\n",
    "'b' in N['c']"
   ]
  },
  {
   "cell_type": "code",
   "execution_count": 35,
   "metadata": {},
   "outputs": [
    {
     "data": {
      "text/plain": [
       "6"
      ]
     },
     "execution_count": 35,
     "metadata": {},
     "output_type": "execute_result"
    }
   ],
   "source": [
    "# 인접행렬\n",
    "# 각 노드의 모든 이웃에 대해 하나의 행을 갖습니다.\n",
    "# 각 행의 값은 1과 0으로 이루어져 있습니다\n",
    "# 인접행렬은 중첩리스트로 간단하게 구현할 수 있습니다.\n",
    "# 행렬읜 대각선 요소는 항상 0입니다.\n",
    "a,b,c,d,e,f = range(6)\n",
    "\n",
    "N = [[0,1,1,1,0,1], [1,0,0,1,0,1],[1,1,0,1,1,0],[1,0,0,0,1,0],\n",
    "    [1,1,1,0,0,0], [0,1,1,1,1,0]]\n",
    "\n",
    "N[c][d]\n",
    "len(N[f])"
   ]
  },
  {
   "cell_type": "code",
   "execution_count": 34,
   "metadata": {},
   "outputs": [
    {
     "data": {
      "text/plain": [
       "2"
      ]
     },
     "execution_count": 34,
     "metadata": {},
     "output_type": "execute_result"
    }
   ],
   "source": [
    "# 무향 그래프의 인접행렬 항상 대칭입니다.\n",
    "# 인접행렬에 가중치를 추가하려면 1, 0을 다른 값으로 바꿔주면 되는데\n",
    "# inf\n",
    "# float('inf'), None, -1, 혹은 매우 큰값 : 존재하지 않은 간선\n",
    "a,b,c,d,e,f = range(6)\n",
    "_ = float('inf')\n",
    "N = [[_,2,1,4,_,1],\n",
    "     [4,_,_,1,_,4], \n",
    "     [1,1,_,2,4,_],\n",
    "     [3,_,_,_,2,_],\n",
    "     [3,4,1,_,_,_], \n",
    "     [1,2,_,4,3,_]]\n",
    "\n",
    "N[e][c]\n",
    "\n",
    "# 차수\n",
    "\n",
    "sum(1 for w in N[d] if w < _)"
   ]
  },
  {
   "cell_type": "code",
   "execution_count": 30,
   "metadata": {},
   "outputs": [
    {
     "name": "stdout",
     "output_type": "stream",
     "text": [
      "1\n",
      "2\n",
      "4\n",
      "3\n"
     ]
    }
   ],
   "source": [
    "for w in N[f]:\n",
    "    if w < _:\n",
    "        print(w)\n",
    "    "
   ]
  },
  {
   "cell_type": "code",
   "execution_count": 35,
   "metadata": {},
   "outputs": [],
   "source": [
    "a = [1 for w in N[f] if w < _]"
   ]
  },
  {
   "cell_type": "code",
   "execution_count": 36,
   "metadata": {},
   "outputs": [
    {
     "name": "stdout",
     "output_type": "stream",
     "text": [
      "[1, 1, 1, 1]\n"
     ]
    }
   ],
   "source": [
    "print(a)"
   ]
  },
  {
   "cell_type": "code",
   "execution_count": 48,
   "metadata": {},
   "outputs": [
    {
     "data": {
      "text/plain": [
       "'c'"
      ]
     },
     "execution_count": 48,
     "metadata": {},
     "output_type": "execute_result"
    }
   ],
   "source": [
    "# 일반 트리 구현\n",
    "T = ['a', ['b', ['d', 'f']], ['c', ['e', 'g']]]\n",
    "T[0]\n",
    "T[1][1][1]\n",
    "T[2][0][0]"
   ]
  },
  {
   "cell_type": "code",
   "execution_count": 51,
   "metadata": {},
   "outputs": [
    {
     "name": "stdout",
     "output_type": "stream",
     "text": [
      "'a'\n",
      "\t'b'\n",
      "\t\t'd'\n",
      "\t\t'e'\n",
      "\t'c'\n",
      "\t\t'g'\n",
      "\t\t'h'\n",
      "\n"
     ]
    }
   ],
   "source": [
    "# 트리를 만들어보세요\n",
    "\n",
    "class SimpleTree(object):\n",
    "    def __init__(self, value=None, children=None):\n",
    "        self.value = value\n",
    "        self.children = children\n",
    "        if self.children is None:\n",
    "            self.children = []\n",
    "        \n",
    "    def __repr__(self, level=0):\n",
    "        ret = \"\\t\" * level + repr(self.value) + '\\n'\n",
    "        for child in self.children:\n",
    "            ret += child.__repr__(level+1)\n",
    "        return ret\n",
    "    \n",
    "if __name__ == \"__main__\":\n",
    "    st = SimpleTree('a', [\n",
    "        SimpleTree('b', [\n",
    "            SimpleTree('d'),\n",
    "            SimpleTree('e')\n",
    "        ]),\n",
    "        SimpleTree('c', [\n",
    "            SimpleTree('g'),\n",
    "            SimpleTree('h')\n",
    "        ])\n",
    "    ])\n",
    "    print(st)"
   ]
  },
  {
   "cell_type": "code",
   "execution_count": null,
   "metadata": {},
   "outputs": [],
   "source": []
  }
 ],
 "metadata": {
  "kernelspec": {
   "display_name": "Python 3",
   "language": "python",
   "name": "python3"
  },
  "language_info": {
   "codemirror_mode": {
    "name": "ipython",
    "version": 3
   },
   "file_extension": ".py",
   "mimetype": "text/x-python",
   "name": "python",
   "nbconvert_exporter": "python",
   "pygments_lexer": "ipython3",
   "version": "3.8.5"
  }
 },
 "nbformat": 4,
 "nbformat_minor": 4
}
