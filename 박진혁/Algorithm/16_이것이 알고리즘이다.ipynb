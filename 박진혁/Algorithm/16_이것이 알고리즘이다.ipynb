{
 "cells": [
  {
   "cell_type": "code",
   "execution_count": 15,
   "metadata": {},
   "outputs": [
    {
     "name": "stdout",
     "output_type": "stream",
     "text": [
      "1\n",
      "2\n",
      "3\n",
      "4\n",
      "5\n",
      "6\n",
      "7\n",
      "8\n",
      "9\n",
      "10\n",
      "11\n",
      "12\n",
      "13\n",
      "14\n",
      "15\n",
      "16\n",
      "17\n",
      "18\n",
      "19\n",
      "20\n",
      "21\n",
      "22\n",
      "23\n",
      "24\n",
      "25\n",
      "26\n",
      "27\n",
      "28\n",
      "29\n",
      "30\n",
      "31\n",
      "32\n",
      "33\n",
      "34\n",
      "35\n",
      "36\n",
      "37\n",
      "38\n",
      "39\n",
      "40\n",
      "41\n",
      "42\n",
      "43\n",
      "44\n",
      "45\n",
      "46\n",
      "47\n",
      "48\n",
      "49\n",
      "50\n",
      "51\n",
      "52\n",
      "53\n",
      "54\n",
      "55\n",
      "56\n",
      "57\n",
      "58\n",
      "59\n",
      "60\n",
      "61\n",
      "62\n",
      "63\n",
      "64\n",
      "65\n",
      "66\n",
      "67\n",
      "68\n",
      "69\n",
      "70\n",
      "71\n",
      "72\n",
      "73\n",
      "74\n",
      "75\n",
      "76\n",
      "77\n",
      "78\n",
      "79\n",
      "80\n",
      "81\n",
      "82\n",
      "83\n",
      "84\n",
      "85\n",
      "86\n",
      "87\n",
      "88\n",
      "89\n",
      "90\n",
      "91\n",
      "92\n",
      "93\n",
      "94\n",
      "95\n",
      "96\n",
      "97\n",
      "98\n",
      "99\n",
      "100\n"
     ]
    },
    {
     "data": {
      "text/plain": [
       "True"
      ]
     },
     "execution_count": 15,
     "metadata": {},
     "output_type": "execute_result"
    }
   ],
   "source": [
    "# 타입힌트\n",
    "# 타입확인\n",
    "# type()\n",
    "\n",
    "# 컴프리핸션()\n",
    "# 1 ~ 10인 숫자를 홀수인 경우에 2를 곱해서 출력해주세요.\n",
    "\n",
    "# a = []\n",
    "# for n in range(1, 10+1):\n",
    "#     if n % 2 == 1:\n",
    "#         a.append(n * 2)\n",
    "# print(a)\n",
    "[n * 2 for n in range(1, 10 + 1) if n % 2 == 1]\n",
    "\n",
    "# a = {key : value for key, value in original.items()}\n",
    "\n",
    "# 제네레이터\n",
    "# 루프의 반복을 제어할수 있는 루틴\n",
    "# * 설명 *\n",
    "# 1억개의 숫자를 만들어내는 프로그램있습니다.\n",
    "# 제네레이터가 없다면 1억개의 숫자를 어딘가에 저장을 해놔야한다.\n",
    "# 제네레이터만 생성을 해두고 언제든 필요한 숫자를 만들어낼수 있다.\n",
    "# 제네레이터를 리턴 -> yield\n",
    "# 값을 리턴하고 다음 값을 내보낼 수 있다.\n",
    "\n",
    "def get_number():\n",
    "    n = 0\n",
    "    while True:\n",
    "        n += 1\n",
    "        yield n\n",
    "number = get_number()\n",
    "        \n",
    "for _ in range(1, 101):\n",
    "    print(next(number))\n",
    "    \n",
    "# 여러타입의 값을 한 함수에서 돌려줄수있다.\n",
    "def gen():\n",
    "    yield 1\n",
    "    yield \"안녕하세요\"\n",
    "    yield True\n",
    "    \n",
    "g = gen()\n",
    "g\n",
    "next(g)\n",
    "next(g)\n",
    "next(g)"
   ]
  },
  {
   "cell_type": "code",
   "execution_count": 9,
   "metadata": {},
   "outputs": [
    {
     "name": "stdout",
     "output_type": "stream",
     "text": [
      "10000000\n",
      "10000000\n",
      "True\n",
      "range(0, 10000000)\n",
      "81528048\n",
      "48\n"
     ]
    },
    {
     "data": {
      "text/plain": [
       "999"
      ]
     },
     "execution_count": 9,
     "metadata": {},
     "output_type": "execute_result"
    }
   ],
   "source": [
    "# range() -> 범위(제네레이터 )\n",
    "# for -> range\n",
    "# 적은양의 숫자는 괜찮다.\n",
    "a = [n for n in range(10000000)]\n",
    "b = range(10000000)\n",
    "print(len(a))\n",
    "print(len(b))\n",
    "print(len(a) == len(b))\n",
    "print(b)\n",
    "type(b)\n",
    "import sys\n",
    "print(sys.getsizeof(a))\n",
    "print(sys.getsizeof(b))\n",
    "# range는 현재 생성 조건만 보관하고 있다.\n",
    "# 인덱스에 접근이 되지 않을것같지만 \n",
    "# 인덱스로 접근시 바로 생성하도록 구현이 되어 있기 때문에\n",
    "# 리스트와 거의 동일하게 사용할 수 있다.\n",
    "b[999]"
   ]
  },
  {
   "cell_type": "code",
   "execution_count": 14,
   "metadata": {},
   "outputs": [],
   "source": [
    "# 회문\n",
    "# 주어진 문자열이 팰린드롬(회문)인지 확인해주세요.\n",
    "# 대소문자를 구분하지 않으며 영문자와 숫자만을 대상으로 합니다.\n",
    "\n",
    "# 리스트\n",
    "\n",
    "def pelindrome(s: str) -> bool:\n",
    "    strs = []\n",
    "    for char in s:\n",
    "        # 영문자, 숫자의 여부를 판별하는 함수\n",
    "        if char.isalnum():\n",
    "            strs.append(char.lower())\n",
    "    # 회무 확인\n",
    "    while len(strs) > 1:\n",
    "        if strs.pop(0) != strs.pop():\n",
    "            return False\n",
    "        \n",
    "    return True"
   ]
  },
  {
   "cell_type": "code",
   "execution_count": 16,
   "metadata": {},
   "outputs": [
    {
     "data": {
      "text/plain": [
       "False"
      ]
     },
     "execution_count": 16,
     "metadata": {},
     "output_type": "execute_result"
    }
   ],
   "source": [
    "pelindrome(\"AB2BAC\")"
   ]
  },
  {
   "cell_type": "code",
   "execution_count": 25,
   "metadata": {},
   "outputs": [
    {
     "data": {
      "text/plain": [
       "['o', 'l', 'l', 'e', 'h']"
      ]
     },
     "execution_count": 25,
     "metadata": {},
     "output_type": "execute_result"
    }
   ],
   "source": [
    " # 뒤집어서\n",
    "[\"o\", \"l\", \"l\", \"e\", \"h\"]"
   ]
  },
  {
   "cell_type": "code",
   "execution_count": 1,
   "metadata": {},
   "outputs": [],
   "source": [
    "List = [\"h\", \"e\", \"l\", \"l\", \"o\"]\n",
    "\n",
    "class sol:\n",
    "    def reverser(self,s: [str]) -> None:\n",
    "        s.reverse()"
   ]
  },
  {
   "cell_type": "code",
   "execution_count": 31,
   "metadata": {},
   "outputs": [],
   "source": [
    "s = sol()"
   ]
  },
  {
   "cell_type": "code",
   "execution_count": 32,
   "metadata": {},
   "outputs": [],
   "source": [
    "s.reverser(List)"
   ]
  },
  {
   "cell_type": "code",
   "execution_count": 2,
   "metadata": {},
   "outputs": [],
   "source": [
    "def swap(word_list: [str]) -> None:\n",
    "    left, right = 0, len(word_list) - 1\n",
    "    while left < right:\n",
    "        word_list[left], word_list[right] = word_list[right], word_list[left]\n",
    "        left += 1\n",
    "        right -= 1"
   ]
  },
  {
   "cell_type": "code",
   "execution_count": 3,
   "metadata": {},
   "outputs": [],
   "source": [
    "class solution:\n",
    "    def reverser(self, s: [str]) -> None:\n",
    "        for i in range(len(s)//2):\n",
    "            s[i], s[-i-1] = s[-i-1], s[i]"
   ]
  },
  {
   "cell_type": "code",
   "execution_count": 10,
   "metadata": {},
   "outputs": [],
   "source": [
    "# 금지된 단어를 제외한 가장 흔하게 등장하는 단어를 출력해주세요.\n",
    "# 단, 대소문자 구분을 하지 않고, 구두점(마침표, 쉼표)등 또한 무시합니다.\n",
    "paragraph = \"Bob hit a ball, the hit BALL flew far after it was hit.\"\n",
    "banned = [\"hit\"]\n",
    "def CommonWord(paragraph, banned):\n",
    "    words = [word for word in re.sub(r'[^\\w]', ' ', paragraph)\n",
    "            .lower().split()\n",
    "            if word not in banned]\n",
    "    counts = collections.Counter(words)\n",
    "    return counts.most_common(1)[0][0]"
   ]
  },
  {
   "cell_type": "code",
   "execution_count": 11,
   "metadata": {},
   "outputs": [
    {
     "ename": "NameError",
     "evalue": "name 're' is not defined",
     "output_type": "error",
     "traceback": [
      "\u001b[1;31m---------------------------------------------------------------------------\u001b[0m",
      "\u001b[1;31mNameError\u001b[0m                                 Traceback (most recent call last)",
      "\u001b[1;32m<ipython-input-11-393ad7415250>\u001b[0m in \u001b[0;36m<module>\u001b[1;34m\u001b[0m\n\u001b[1;32m----> 1\u001b[1;33m \u001b[0mCommonWord\u001b[0m\u001b[1;33m(\u001b[0m\u001b[0mparagraph\u001b[0m\u001b[1;33m,\u001b[0m \u001b[0mbanned\u001b[0m\u001b[1;33m)\u001b[0m\u001b[1;33m\u001b[0m\u001b[1;33m\u001b[0m\u001b[0m\n\u001b[0m",
      "\u001b[1;32m<ipython-input-10-7e04557e62a9>\u001b[0m in \u001b[0;36mCommonWord\u001b[1;34m(paragraph, banned)\u001b[0m\n\u001b[0;32m      4\u001b[0m \u001b[0mbanned\u001b[0m \u001b[1;33m=\u001b[0m \u001b[1;33m[\u001b[0m\u001b[1;34m\"hit\"\u001b[0m\u001b[1;33m]\u001b[0m\u001b[1;33m\u001b[0m\u001b[1;33m\u001b[0m\u001b[0m\n\u001b[0;32m      5\u001b[0m \u001b[1;32mdef\u001b[0m \u001b[0mCommonWord\u001b[0m\u001b[1;33m(\u001b[0m\u001b[0mparagraph\u001b[0m\u001b[1;33m,\u001b[0m \u001b[0mbanned\u001b[0m\u001b[1;33m)\u001b[0m\u001b[1;33m:\u001b[0m\u001b[1;33m\u001b[0m\u001b[1;33m\u001b[0m\u001b[0m\n\u001b[1;32m----> 6\u001b[1;33m     words = [word for word in re.sub(r'[^\\w]', ' ', paragraph)\n\u001b[0m\u001b[0;32m      7\u001b[0m             \u001b[1;33m.\u001b[0m\u001b[0mlower\u001b[0m\u001b[1;33m(\u001b[0m\u001b[1;33m)\u001b[0m\u001b[1;33m.\u001b[0m\u001b[0msplit\u001b[0m\u001b[1;33m(\u001b[0m\u001b[1;33m)\u001b[0m\u001b[1;33m\u001b[0m\u001b[1;33m\u001b[0m\u001b[0m\n\u001b[0;32m      8\u001b[0m             if word not in banned]\n",
      "\u001b[1;31mNameError\u001b[0m: name 're' is not defined"
     ]
    }
   ],
   "source": [
    "CommonWord(paragraph, banned)"
   ]
  },
  {
   "cell_type": "code",
   "execution_count": 14,
   "metadata": {},
   "outputs": [],
   "source": [
    "def CommonWord(paragraph, banned):\n",
    "    paragraph += \" \"\n",
    "    banned = set(banned)\n",
    "    hm = {}\n",
    "    word = \"\"\n",
    "    for letter in paragraph:\n",
    "        # letter에 들어오는게 문자열인지 아닌지 True, False\n",
    "        if letter.isalpha():\n",
    "            word += letter\n",
    "        else:\n",
    "            if word.lower() not in banned:\n",
    "                if word.lower() not in hm:\n",
    "                    hm.update({word.lower() : 1})\n",
    "                else:\n",
    "                    hm[word.lower()] += 1\n",
    "            word = \"\"\n",
    "            \n",
    "    answer = \"\"\n",
    "    max_fre = 0\n",
    "    for word, freq in hm.items():\n",
    "        if freq > max_fre:\n",
    "            max_fre = freq\n",
    "            answer = word\n",
    "    return answer"
   ]
  },
  {
   "cell_type": "code",
   "execution_count": 15,
   "metadata": {},
   "outputs": [
    {
     "data": {
      "text/plain": [
       "'ball'"
      ]
     },
     "execution_count": 15,
     "metadata": {},
     "output_type": "execute_result"
    }
   ],
   "source": [
    "CommonWord(paragraph, banned)"
   ]
  },
  {
   "cell_type": "code",
   "execution_count": 1,
   "metadata": {},
   "outputs": [
    {
     "data": {
      "text/plain": [
       "['eat', 'tea', 'tan', 'ate', '']"
      ]
     },
     "execution_count": 1,
     "metadata": {},
     "output_type": "execute_result"
    }
   ],
   "source": [
    "# 문자열 배열을 받아서 애너그램 단위로 그룹핑 해주세요\n",
    "# EAT -> TAE -> TEA\n",
    "# 애너그램은 언어유희\n",
    "# 문자를 재배치해서 다른 뜻을 가진 단어로 바꾸는 것을 의미합니다.\n",
    "[\"eat\", \"tea\", \"tan\", \"ate\", \"nat\", \"bat\"]\n",
    "\n",
    "\"\"\"\n",
    "[\n",
    "[\"ate\", \"eat\", \"tea\"],\n",
    "[\"nat\", \"tan\"],\n",
    "[\"bat\"]\n",
    "]\n",
    "\"\"\"\n"
   ]
  },
  {
   "cell_type": "code",
   "execution_count": null,
   "metadata": {},
   "outputs": [],
   "source": []
  }
 ],
 "metadata": {
  "kernelspec": {
   "display_name": "Python 3",
   "language": "python",
   "name": "python3"
  },
  "language_info": {
   "codemirror_mode": {
    "name": "ipython",
    "version": 3
   },
   "file_extension": ".py",
   "mimetype": "text/x-python",
   "name": "python",
   "nbconvert_exporter": "python",
   "pygments_lexer": "ipython3",
   "version": "3.8.5"
  }
 },
 "nbformat": 4,
 "nbformat_minor": 4
}
